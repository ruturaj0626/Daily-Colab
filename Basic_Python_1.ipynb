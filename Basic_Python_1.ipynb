{
  "nbformat": 4,
  "nbformat_minor": 0,
  "metadata": {
    "colab": {
      "provenance": [],
      "authorship_tag": "ABX9TyNYg/drMOdQL2cluz5rcpW+",
      "include_colab_link": true
    },
    "kernelspec": {
      "name": "python3",
      "display_name": "Python 3"
    },
    "language_info": {
      "name": "python"
    }
  },
  "cells": [
    {
      "cell_type": "markdown",
      "metadata": {
        "id": "view-in-github",
        "colab_type": "text"
      },
      "source": [
        "<a href=\"https://colab.research.google.com/github/ruturaj0626/Daily.Colab/blob/main/Basic_Python_1.ipynb\" target=\"_parent\"><img src=\"https://colab.research.google.com/assets/colab-badge.svg\" alt=\"Open In Colab\"/></a>"
      ]
    },
    {
      "cell_type": "markdown",
      "source": [
        "## Basic Programs:\n",
        "1. Python program to add two numbers\n"
      ],
      "metadata": {
        "id": "YopTEXp7lec6"
      }
    },
    {
      "cell_type": "code",
      "execution_count": 11,
      "metadata": {
        "colab": {
          "base_uri": "https://localhost:8080/"
        },
        "id": "9nJ0rF8AlUy-",
        "outputId": "e33e00b9-fdb0-4759-b2cb-57e205183af8"
      },
      "outputs": [
        {
          "output_type": "stream",
          "name": "stdout",
          "text": [
            "Enter your number\n",
            "33\n",
            "Enter your number\n",
            "55\n",
            "The sum of 33 and 55 is 88\n"
          ]
        }
      ],
      "source": [
        "a = input('Enter your number\\n')\n",
        "b = input('Enter your number\\n')\n",
        "\n",
        "c = int(a) + int(b)\n",
        "\n",
        "print(\"The sum of\",a, 'and',b,'is',c)"
      ]
    },
    {
      "cell_type": "markdown",
      "source": [
        "2. Maximum of two numbers in Python\n"
      ],
      "metadata": {
        "id": "2Y__YGHIl6Uo"
      }
    },
    {
      "cell_type": "code",
      "source": [
        "a = int(input('Enter you number\\n'))\n",
        "b = int(input('Enter you number\\n'))\n",
        "\n",
        "if a > b :\n",
        "  print(a, \"is greater then\",b)\n",
        "\n",
        "else:\n",
        "  print(b,\"is greater then\",a)"
      ],
      "metadata": {
        "colab": {
          "base_uri": "https://localhost:8080/"
        },
        "id": "5OIgiJedl8KI",
        "outputId": "7765fdd4-1797-4869-8994-9cf9c639e7ee"
      },
      "execution_count": 15,
      "outputs": [
        {
          "output_type": "stream",
          "name": "stdout",
          "text": [
            "Enter you number\n",
            "-1\n",
            "Enter you number\n",
            "-5\n",
            "-1 is greater then -5\n"
          ]
        }
      ]
    },
    {
      "cell_type": "markdown",
      "source": [
        "3. Python Program for factorial of a number"
      ],
      "metadata": {
        "id": "Zfb6UORhl8cu"
      }
    },
    {
      "cell_type": "code",
      "source": [
        "# Python 3 program to find\n",
        "# factorial of given number\n",
        "def factorial(n):\n",
        "\t\n",
        "\t# single line to find factorial\n",
        "\treturn 1 if (n==1 or n==0) else n * factorial(n - 1);\n",
        "\n",
        "# Driver Code\n",
        "num = 5;\n",
        "print(\"Factorial of\",num,\"is\",\n",
        "factorial(num))\n",
        "\n",
        "# This code is contributed by Smitha Dinesh Semwal\n"
      ],
      "metadata": {
        "colab": {
          "base_uri": "https://localhost:8080/"
        },
        "id": "B9GNefLKl8wu",
        "outputId": "91384191-36e0-4bc5-de6e-12b277402c37"
      },
      "execution_count": 20,
      "outputs": [
        {
          "output_type": "stream",
          "name": "stdout",
          "text": [
            "Factorial of 5 is 120\n"
          ]
        }
      ]
    },
    {
      "cell_type": "code",
      "source": [
        "def factorial(n):\n",
        "  return 1 if (n==1 or n==0) else n * factorial(n -1);\n",
        "\n",
        "num =99;\n",
        "print(\"Factorial of\",num,'is',\n",
        "      factorial(num))"
      ],
      "metadata": {
        "colab": {
          "base_uri": "https://localhost:8080/"
        },
        "id": "X2zZSrNjozYf",
        "outputId": "dd4c0833-cda5-4193-f825-559aa9838549"
      },
      "execution_count": 27,
      "outputs": [
        {
          "output_type": "stream",
          "name": "stdout",
          "text": [
            "Factorial of 99 is 933262154439441526816992388562667004907159682643816214685929638952175999932299156089414639761565182862536979208272237582511852109168640000000000000000000000\n"
          ]
        }
      ]
    },
    {
      "cell_type": "markdown",
      "source": [
        "4. Python Program for simple interest\n"
      ],
      "metadata": {
        "id": "-qFEMMFjol_v"
      }
    },
    {
      "cell_type": "code",
      "source": [],
      "metadata": {
        "id": "Wyj5f_5_onou"
      },
      "execution_count": null,
      "outputs": []
    },
    {
      "cell_type": "markdown",
      "source": [
        "5. Python Program for compound interest\n"
      ],
      "metadata": {
        "id": "6YuYeLfFon3w"
      }
    },
    {
      "cell_type": "code",
      "source": [],
      "metadata": {
        "id": "JCZqVJWKopcR"
      },
      "execution_count": null,
      "outputs": []
    },
    {
      "cell_type": "markdown",
      "source": [
        "6. Python Program to check Armstrong Number\n",
        "7. Python Program for Program to find area of a circle\n",
        "8. Python program to print all Prime numbers in an Interval\n",
        "9. Python program to check whether a number is Prime or not\n",
        "10. Python Program for n-th Fibonacci number\n",
        "11. Python Program for How to check if a given number is Fibonacci number?\n",
        "12. Python Program for n\\’th multiple of a number in Fibonacci Series\n",
        "13. Program to print ASCII Value of a character\n",
        "14. Python Program for Sum of squares of first n natural number \n",
        "15. Python Program for cube sum of first n natural numbers"
      ],
      "metadata": {
        "id": "OXuf6S-JopuQ"
      }
    }
  ]
}