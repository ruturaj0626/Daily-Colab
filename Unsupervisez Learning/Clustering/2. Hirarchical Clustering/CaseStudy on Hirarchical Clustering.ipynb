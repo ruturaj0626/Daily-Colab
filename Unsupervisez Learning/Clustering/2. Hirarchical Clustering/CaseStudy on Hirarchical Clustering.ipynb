{
 "cells": [
  {
   "cell_type": "code",
   "execution_count": null,
   "id": "496c5de8",
   "metadata": {},
   "outputs": [],
   "source": [
    "import warnings\n",
    "warnings.filterwarnings(\"ignore\")\n",
    "\n",
    "import numpy as np\n",
    "import pandas as pd\n",
    "import matplotlib.pyplot as plt\n",
    "import seaborn as sns"
   ]
  },
  {
   "cell_type": "code",
   "execution_count": null,
   "id": "c21a7b6b",
   "metadata": {},
   "outputs": [],
   "source": [
    "df = pd.read_csv(\"Mall_Customers.csv\")\n",
    "df.head()"
   ]
  },
  {
   "cell_type": "code",
   "execution_count": null,
   "id": "31a1dde4",
   "metadata": {},
   "outputs": [],
   "source": [
    "df.info()"
   ]
  },
  {
   "cell_type": "code",
   "execution_count": null,
   "id": "82fe711d",
   "metadata": {},
   "outputs": [],
   "source": [
    "df.describe()"
   ]
  },
  {
   "cell_type": "code",
   "execution_count": null,
   "id": "f8ab0f40",
   "metadata": {},
   "outputs": [],
   "source": [
    "sns.pairplot(df)"
   ]
  },
  {
   "cell_type": "code",
   "execution_count": null,
   "id": "88a419cc",
   "metadata": {},
   "outputs": [],
   "source": [
    "x = df.iloc[:, [3,4]]"
   ]
  },
  {
   "cell_type": "code",
   "execution_count": null,
   "id": "0079d856",
   "metadata": {},
   "outputs": [],
   "source": [
    "from sklearn.preprocessing import StandardScaler\n",
    "sc = StandardScaler()\n",
    "x = sc.fit_transform(x)"
   ]
  },
  {
   "cell_type": "code",
   "execution_count": null,
   "id": "605dcd8d",
   "metadata": {},
   "outputs": [],
   "source": [
    "from scipy.cluster import hierarchy as hi"
   ]
  },
  {
   "cell_type": "code",
   "execution_count": null,
   "id": "ce224c4c",
   "metadata": {},
   "outputs": [],
   "source": [
    "lk = hi.linkage(x, method=\"ward\")\n",
    "ddg = hi.dendrogram(lk)"
   ]
  },
  {
   "cell_type": "code",
   "execution_count": null,
   "id": "fbc8e1f4",
   "metadata": {},
   "outputs": [],
   "source": [
    "from sklearn.cluster import AgglomerativeClustering\n",
    "hc = AgglomerativeClustering(n_clusters=5)\n",
    "ylabel = hc.fit_predict(x)"
   ]
  },
  {
   "cell_type": "code",
   "execution_count": null,
   "id": "52f26c18",
   "metadata": {},
   "outputs": [],
   "source": [
    "df[\"hcy\"]=ylabel"
   ]
  },
  {
   "cell_type": "code",
   "execution_count": null,
   "id": "feb8e57b",
   "metadata": {},
   "outputs": [],
   "source": [
    "df[\"hcy\"].value_counts()"
   ]
  },
  {
   "cell_type": "code",
   "execution_count": null,
   "id": "a57160bf",
   "metadata": {},
   "outputs": [],
   "source": [
    "df[df.hcy==0].describe()"
   ]
  },
  {
   "cell_type": "code",
   "execution_count": null,
   "id": "0fecdda7",
   "metadata": {},
   "outputs": [],
   "source": [
    "df[df.hcy==3].describe()"
   ]
  },
  {
   "cell_type": "code",
   "execution_count": null,
   "id": "2fdcc0ad",
   "metadata": {},
   "outputs": [],
   "source": [
    "df.groupby(\"hcy\")[[\"Annual Income (k$)\", \"Spending Score (1-100)\"]].mean()"
   ]
  },
  {
   "cell_type": "code",
   "execution_count": null,
   "id": "b47002e6",
   "metadata": {},
   "outputs": [],
   "source": [
    "x"
   ]
  },
  {
   "cell_type": "code",
   "execution_count": null,
   "id": "ae52d5af",
   "metadata": {},
   "outputs": [],
   "source": [
    "plt.scatter(x[ylabel==0,0], x[ylabel==0,1], s=100, c=\"red\", label=\"Cluster1\")\n",
    "plt.scatter(x[ylabel==1,0], x[ylabel==1,1], s=100, c=\"blue\", label=\"Cluster2\")\n",
    "plt.scatter(x[ylabel==2,0], x[ylabel==2,1], s=100, c=\"green\", label=\"Cluster3\")\n",
    "plt.scatter(x[ylabel==3,0], x[ylabel==3,1], s=100, c=\"yellow\", label=\"Cluster4\")\n",
    "plt.scatter(x[ylabel==4,0], x[ylabel==4,1], s=100, c=\"cyan\", label=\"Cluster5\")\n",
    "\n",
    "\n",
    "plt.xlabel(\"Annual Income\")\n",
    "plt.ylabel(\"Spending Score\")\n",
    "plt.title(\"Clusters of Customer\")\n",
    "plt.legend()\n",
    "plt.show()"
   ]
  },
  {
   "cell_type": "markdown",
   "id": "11fc94df",
   "metadata": {},
   "source": [
    "# Classification"
   ]
  },
  {
   "cell_type": "code",
   "execution_count": null,
   "id": "4bf52aa5",
   "metadata": {},
   "outputs": [],
   "source": [
    "x = df.iloc[:, [3,4]]\n",
    "y = df.iloc[:, -1]"
   ]
  },
  {
   "cell_type": "code",
   "execution_count": null,
   "id": "78180909",
   "metadata": {},
   "outputs": [],
   "source": [
    "from sklearn.model_selection import train_test_split\n",
    "xtrain, xtest, ytrain, ytest = train_test_split(x,y, test_size=0.3, random_state=1)"
   ]
  },
  {
   "cell_type": "code",
   "execution_count": null,
   "id": "41b86960",
   "metadata": {},
   "outputs": [],
   "source": [
    "def mymodel(model):\n",
    "    model.fit(xtrain, ytrain)\n",
    "    ypred = model.predict(xtest)\n",
    "    \n",
    "    train = model.score(xtrain, ytrain)\n",
    "    test = model.score(xtest, ytest)\n",
    "    \n",
    "    print(f\"Training Accuracy : {train}\\nTesting Accuracy : {test}\\n\\n\")\n",
    "    print(classification_report(ytest, ypred))\n",
    "    return model"
   ]
  },
  {
   "cell_type": "code",
   "execution_count": null,
   "id": "5cf2fc7d",
   "metadata": {},
   "outputs": [],
   "source": [
    "from sklearn.metrics import classification_report\n",
    "from sklearn.naive_bayes import MultinomialNB, GaussianNB, BernoulliNB\n",
    "from sklearn.linear_model import LogisticRegression\n",
    "from sklearn.multiclass import OneVsRestClassifier"
   ]
  },
  {
   "cell_type": "code",
   "execution_count": null,
   "id": "ba13d783",
   "metadata": {},
   "outputs": [],
   "source": [
    "bnb = mymodel(BernoulliNB())"
   ]
  },
  {
   "cell_type": "code",
   "execution_count": null,
   "id": "e6b3ac73",
   "metadata": {},
   "outputs": [],
   "source": [
    "mnb = mymodel(MultinomialNB())"
   ]
  },
  {
   "cell_type": "code",
   "execution_count": null,
   "id": "f9dc3c6a",
   "metadata": {},
   "outputs": [],
   "source": [
    "gnb = mymodel(GaussianNB())"
   ]
  },
  {
   "cell_type": "code",
   "execution_count": null,
   "id": "087ef83b",
   "metadata": {},
   "outputs": [],
   "source": [
    "logreg = mymodel(LogisticRegression())"
   ]
  },
  {
   "cell_type": "code",
   "execution_count": null,
   "id": "2c02037a",
   "metadata": {},
   "outputs": [],
   "source": [
    "logreg = mymodel(LogisticRegression(multi_class=\"ovr\"))"
   ]
  },
  {
   "cell_type": "code",
   "execution_count": null,
   "id": "b788ebe1",
   "metadata": {},
   "outputs": [],
   "source": [
    "ovr = mymodel(OneVsRestClassifier(LogisticRegression()))"
   ]
  },
  {
   "cell_type": "code",
   "execution_count": null,
   "id": "ed28a3d1",
   "metadata": {},
   "outputs": [],
   "source": [
    "from sklearn.model_selection import cross_val_score\n",
    "cvs = cross_val_score(ovr, x,y, cv=5, scoring=\"accuracy\")\n",
    "print(f\"Avg.Accuracy : {cvs.mean()}\\nSTD : {cvs.std()}\")"
   ]
  },
  {
   "cell_type": "code",
   "execution_count": null,
   "id": "a07f0128",
   "metadata": {},
   "outputs": [],
   "source": [
    "import numpy as np"
   ]
  },
  {
   "cell_type": "code",
   "execution_count": null,
   "id": "2621cba9",
   "metadata": {},
   "outputs": [],
   "source": [
    "class PCA():\n",
    "    def __init__(self, n_components):\n",
    "        self.n_components = n_components\n",
    "        self.components = None\n",
    "        self.mean = None\n",
    "    \n",
    "    def fit_transform(self, x):\n",
    "        #subtracts mean from every column\n",
    "        self.mean = np.mean(x, axis=0)\n",
    "        x = x - self.mean\n",
    "        \n",
    "        #covariance (needs samples as columns)\n",
    "        cov = np.cov(x.T)\n",
    "        \n",
    "        #calculate eigenvalues & eigenvectors\n",
    "        eigenvalues, eigenvectors = np.linalg.eig(cov)\n",
    "        \n",
    "        #taking transpose for simplifying calculation\n",
    "        eigenvectors = eigenvectors.T\n",
    "        \n",
    "        #pick top n eigenvectors & principal compoments\n",
    "        ids = np.argsort(eigenvalues)[::-1]\n",
    "        eigenvalues = eigenvalues[ids]\n",
    "        eigenvectors = eigenvectors[ids]\n",
    "        self.components = eigenvectors[0: self.n_components]\n",
    "        \n",
    "        x = x- self.mean\n",
    "        return np.dot(x, self.components.T)"
   ]
  },
  {
   "cell_type": "code",
   "execution_count": null,
   "id": "8598dd76",
   "metadata": {},
   "outputs": [],
   "source": [
    "a = np.random.rand(1000, 45)"
   ]
  },
  {
   "cell_type": "code",
   "execution_count": null,
   "id": "594f63b8",
   "metadata": {},
   "outputs": [],
   "source": [
    "a"
   ]
  },
  {
   "cell_type": "code",
   "execution_count": null,
   "id": "720e4096",
   "metadata": {},
   "outputs": [],
   "source": [
    "pca = PCA(4)\n",
    "pca.fit_transform(a)"
   ]
  },
  {
   "cell_type": "code",
   "execution_count": null,
   "id": "aa048a95",
   "metadata": {},
   "outputs": [],
   "source": []
  }
 ],
 "metadata": {
  "kernelspec": {
   "display_name": "Python 3",
   "language": "python",
   "name": "python3"
  },
  "language_info": {
   "codemirror_mode": {
    "name": "ipython",
    "version": 3
   },
   "file_extension": ".py",
   "mimetype": "text/x-python",
   "name": "python",
   "nbconvert_exporter": "python",
   "pygments_lexer": "ipython3",
   "version": "3.8.8"
  }
 },
 "nbformat": 4,
 "nbformat_minor": 5
}
