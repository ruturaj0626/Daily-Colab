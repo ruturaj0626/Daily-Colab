{
 "cells": [
  {
   "cell_type": "code",
   "execution_count": 1,
   "id": "b8736ea7",
   "metadata": {},
   "outputs": [],
   "source": [
    "class PCA():\n",
    "    def __init__(self, n_components):\n",
    "        self.n_components = n_components\n",
    "        self.components = None\n",
    "        self.mean = None\n",
    "    \n",
    "    def fit_transform(self, x):\n",
    "        #subtract mean from every columns\n",
    "        self.mean = np.mean(x, axis=0)\n",
    "        x = x- self.mean\n",
    "        \n",
    "        #covariance (needs samples as col)\n",
    "        cov = np.cov(x.T)\n",
    "        \n",
    "        #calculate eigenvalues & eigenvectors\n",
    "        eigenvalues, eigenvectors = np.linalg.eig(cov)\n",
    "        \n",
    "        #taking the transpose for simplifying the calculation\n",
    "        eigenvectos = eigenvectors.T\n",
    "        \n",
    "        #pick top n eigenvectos & principal components\n",
    "        ids = np.argsort(eigenvalues)[::-1]\n",
    "        eigenvalues = eigenvalues[ids]\n",
    "        eigenvectors = eigenvectors[ids]\n",
    "        self.components = eigenvectors[0: self.n_components]\n",
    "        \n",
    "        x = x - self.mean\n",
    "        return np.dot(x, self.components.T)"
   ]
  },
  {
   "cell_type": "code",
   "execution_count": 2,
   "id": "ab7c20e1",
   "metadata": {},
   "outputs": [],
   "source": [
    "import warnings\n",
    "warnings.filterwarnings(\"ignore\")\n",
    "\n",
    "import numpy as np"
   ]
  },
  {
   "cell_type": "code",
   "execution_count": 3,
   "id": "42082174",
   "metadata": {},
   "outputs": [],
   "source": [
    "d = np.random.rand(1000, 10)"
   ]
  },
  {
   "cell_type": "code",
   "execution_count": 6,
   "id": "f6958ee8",
   "metadata": {},
   "outputs": [
    {
     "data": {
      "text/plain": [
       "array([[0.72826238, 0.42278378, 0.81806588, ..., 0.68947787, 0.9872809 ,\n",
       "        0.39320575],\n",
       "       [0.54082836, 0.32972607, 0.13892576, ..., 0.95883747, 0.46564229,\n",
       "        0.88540833],\n",
       "       [0.74823945, 0.32517134, 0.11832304, ..., 0.06896652, 0.68265486,\n",
       "        0.69488654],\n",
       "       ...,\n",
       "       [0.33680617, 0.94676544, 0.54150975, ..., 0.52449961, 0.67622596,\n",
       "        0.24381376],\n",
       "       [0.34794848, 0.71136791, 0.56611401, ..., 0.77862909, 0.46657209,\n",
       "        0.85232733],\n",
       "       [0.47058507, 0.43193121, 0.52513481, ..., 0.13404114, 0.01418067,\n",
       "        0.50508424]])"
      ]
     },
     "execution_count": 6,
     "metadata": {},
     "output_type": "execute_result"
    }
   ],
   "source": [
    "d"
   ]
  },
  {
   "cell_type": "code",
   "execution_count": 8,
   "id": "50e9029a",
   "metadata": {},
   "outputs": [
    {
     "data": {
      "text/plain": [
       "array([[-0.27839324, -0.10835655, -0.85683941,  0.16820626],\n",
       "       [ 0.56556944, -0.45599272, -0.81122554, -0.20262335],\n",
       "       [ 0.06388087,  0.03253409, -1.20809852, -0.36047578],\n",
       "       ...,\n",
       "       [-0.02985242, -0.71102317, -0.93696747,  0.39003539],\n",
       "       [ 0.18930304, -0.47680164, -0.75976076,  0.1394454 ],\n",
       "       [-0.00840356, -0.50129937, -1.62499545,  0.15577057]])"
      ]
     },
     "execution_count": 8,
     "metadata": {},
     "output_type": "execute_result"
    }
   ],
   "source": [
    "pca = PCA(4)\n",
    "pca.fit_transform(d)"
   ]
  }
 ],
 "metadata": {
  "kernelspec": {
   "display_name": "Python 3",
   "language": "python",
   "name": "python3"
  },
  "language_info": {
   "codemirror_mode": {
    "name": "ipython",
    "version": 3
   },
   "file_extension": ".py",
   "mimetype": "text/x-python",
   "name": "python",
   "nbconvert_exporter": "python",
   "pygments_lexer": "ipython3",
   "version": "3.8.8"
  }
 },
 "nbformat": 4,
 "nbformat_minor": 5
}
