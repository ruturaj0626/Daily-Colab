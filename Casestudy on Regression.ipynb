{
 "cells": [
  {
   "cell_type": "code",
   "execution_count": null,
   "id": "e7025e76",
   "metadata": {},
   "outputs": [],
   "source": [
    "import warnings\n",
    "warnings.filterwarnings(\"ignore\")\n",
    "\n",
    "import numpy as np\n",
    "import pandas as pd\n",
    "import matplotlib.pyplot as plt\n",
    "import seaborn as sns"
   ]
  },
  {
   "cell_type": "code",
   "execution_count": null,
   "id": "78618ab4",
   "metadata": {},
   "outputs": [],
   "source": [
    "df = pd.read_csv(\"advertising.csv\")\n",
    "df.head()"
   ]
  },
  {
   "cell_type": "markdown",
   "id": "89016672",
   "metadata": {},
   "source": [
    "## Problem Statement\n",
    "Build a model which predicts sales based on the money spent on different platforms for marketing"
   ]
  },
  {
   "cell_type": "code",
   "execution_count": null,
   "id": "716e8856",
   "metadata": {},
   "outputs": [],
   "source": [
    "df.info()"
   ]
  },
  {
   "cell_type": "code",
   "execution_count": null,
   "id": "1dbf86df",
   "metadata": {},
   "outputs": [],
   "source": [
    "df.describe()"
   ]
  },
  {
   "cell_type": "code",
   "execution_count": null,
   "id": "0ea173ed",
   "metadata": {},
   "outputs": [],
   "source": [
    "sns.pairplot(df)"
   ]
  },
  {
   "cell_type": "code",
   "execution_count": null,
   "id": "2f41d469",
   "metadata": {},
   "outputs": [],
   "source": [
    "sns.pairplot(df, x_vars=[\"TV\", \"radio\", \"newspaper\"], y_vars=\"sales\", kind=\"scatter\")"
   ]
  },
  {
   "cell_type": "code",
   "execution_count": null,
   "id": "ff24224f",
   "metadata": {},
   "outputs": [],
   "source": [
    "df.corr()"
   ]
  },
  {
   "cell_type": "code",
   "execution_count": null,
   "id": "64900fdd",
   "metadata": {},
   "outputs": [],
   "source": [
    "df.corr().style.background_gradient()"
   ]
  },
  {
   "cell_type": "code",
   "execution_count": null,
   "id": "3ac75518",
   "metadata": {},
   "outputs": [],
   "source": [
    "x = df.iloc[:,:-1]\n",
    "y = df.iloc[:, -1]\n",
    "\n",
    "from sklearn.model_selection import train_test_split\n",
    "xtrain, xtest, ytrain, ytest = train_test_split(x,y, test_size=0.3, random_state=1)\n",
    "\n",
    "from sklearn.linear_model import LinearRegression\n",
    "linreg = LinearRegression()\n",
    "linreg.fit(xtrain, ytrain)\n",
    "ypred = linreg.predict(xtest)\n",
    "\n",
    "from sklearn.metrics import mean_absolute_error, mean_squared_error, r2_score\n",
    "mae = mean_absolute_error(ytest, ypred)\n",
    "mse = mean_squared_error(ytest, ypred)\n",
    "rmse = np.sqrt(mse)\n",
    "r2 = r2_score(ytest, ypred)\n",
    "\n",
    "print(f\"MAE : {mae}\\nMSE : {mse}\\nRMSE : {rmse}\\nAccuracy : {r2}\")"
   ]
  },
  {
   "cell_type": "code",
   "execution_count": null,
   "id": "86cd7f9b",
   "metadata": {},
   "outputs": [],
   "source": [
    "linreg.intercept_"
   ]
  },
  {
   "cell_type": "code",
   "execution_count": null,
   "id": "6ce8ba29",
   "metadata": {},
   "outputs": [],
   "source": [
    "linreg.coef_"
   ]
  },
  {
   "cell_type": "code",
   "execution_count": null,
   "id": "1b094fe9",
   "metadata": {},
   "outputs": [],
   "source": [
    "pd.DataFrame(linreg.coef_, index=x.columns, columns=[\"Coefficients\"])"
   ]
  },
  {
   "cell_type": "markdown",
   "id": "5c393836",
   "metadata": {},
   "source": [
    "- For every unit growth in TV, we estimate that Sales will grow by 0.046"
   ]
  },
  {
   "cell_type": "code",
   "execution_count": null,
   "id": "198ddef5",
   "metadata": {},
   "outputs": [],
   "source": [
    "#Linear Regression Assumptions\n",
    "#1. Linear Relationship\n",
    "#predicted values vs residual\n",
    "\n",
    "residual = ytest - ypred\n",
    "\n",
    "plt.figure()\n",
    "sns.scatterplot(ypred, residual)\n",
    "plt.show()"
   ]
  },
  {
   "cell_type": "code",
   "execution_count": null,
   "id": "62d3a99c",
   "metadata": {},
   "outputs": [],
   "source": [
    "sns.displot(residual)"
   ]
  },
  {
   "cell_type": "code",
   "execution_count": null,
   "id": "e2af95df",
   "metadata": {},
   "outputs": [],
   "source": [
    "#remove newspaper, to avoid multi colinearity\n",
    "x = df.iloc[:,:-2]\n",
    "y = df.iloc[:, -1]\n",
    "\n",
    "from sklearn.model_selection import train_test_split\n",
    "xtrain, xtest, ytrain, ytest = train_test_split(x,y, test_size=0.3, random_state=1)\n",
    "\n",
    "from sklearn.linear_model import LinearRegression\n",
    "linreg = LinearRegression()\n",
    "linreg.fit(xtrain, ytrain)\n",
    "ypred = linreg.predict(xtest)\n",
    "\n",
    "from sklearn.metrics import mean_absolute_error, mean_squared_error, r2_score\n",
    "mae = mean_absolute_error(ytest, ypred)\n",
    "mse = mean_squared_error(ytest, ypred)\n",
    "rmse = np.sqrt(mse)\n",
    "r2 = r2_score(ytest, ypred)\n",
    "\n",
    "print(f\"MAE : {mae}\\nMSE : {mse}\\nRMSE : {rmse}\\nAccuracy : {r2}\")"
   ]
  },
  {
   "cell_type": "markdown",
   "id": "edf3c53d",
   "metadata": {},
   "source": [
    "# Polynomial Regression"
   ]
  },
  {
   "cell_type": "code",
   "execution_count": null,
   "id": "3e5ed0a5",
   "metadata": {},
   "outputs": [],
   "source": [
    "from sklearn.preprocessing import PolynomialFeatures\n",
    "pf = PolynomialFeatures(degree=2)\n",
    "xtrainp = pf.fit_transform(xtrain)\n",
    "xtestp = pf.transform(xtest)"
   ]
  },
  {
   "cell_type": "code",
   "execution_count": null,
   "id": "45c5fee3",
   "metadata": {},
   "outputs": [],
   "source": [
    "from sklearn.linear_model import LinearRegression\n",
    "linreg = LinearRegression()\n",
    "linreg.fit(xtrainp, ytrain)\n",
    "ypred = linreg.predict(xtestp)\n",
    "\n",
    "from sklearn.metrics import mean_absolute_error, mean_squared_error, r2_score\n",
    "mae = mean_absolute_error(ytest, ypred)\n",
    "mse = mean_squared_error(ytest, ypred)\n",
    "rmse = np.sqrt(mse)\n",
    "r2 = r2_score(ytest, ypred)\n",
    "\n",
    "print(f\"MAE : {mae}\\nMSE : {mse}\\nRMSE : {rmse}\\nAccuracy : {r2}\")"
   ]
  }
 ],
 "metadata": {
  "kernelspec": {
   "display_name": "Python 3",
   "language": "python",
   "name": "python3"
  },
  "language_info": {
   "codemirror_mode": {
    "name": "ipython",
    "version": 3
   },
   "file_extension": ".py",
   "mimetype": "text/x-python",
   "name": "python",
   "nbconvert_exporter": "python",
   "pygments_lexer": "ipython3",
   "version": "3.8.8"
  }
 },
 "nbformat": 4,
 "nbformat_minor": 5
}
