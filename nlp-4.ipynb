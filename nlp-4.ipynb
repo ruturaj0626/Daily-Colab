{
 "cells": [
  {
   "cell_type": "code",
   "execution_count": 1,
   "id": "dc3ce7fa",
   "metadata": {
    "execution": {
     "iopub.execute_input": "2023-03-16T08:15:40.048128Z",
     "iopub.status.busy": "2023-03-16T08:15:40.047723Z",
     "iopub.status.idle": "2023-03-16T08:15:51.288130Z",
     "shell.execute_reply": "2023-03-16T08:15:51.286824Z"
    },
    "papermill": {
     "duration": 11.257856,
     "end_time": "2023-03-16T08:15:51.291581",
     "exception": false,
     "start_time": "2023-03-16T08:15:40.033725",
     "status": "completed"
    },
    "tags": []
   },
   "outputs": [],
   "source": [
    "import numpy as np\n",
    "import pandas as pd\n",
    "from sklearn.model_selection import train_test_split\n",
    "from sklearn.metrics import classification_report\n",
    "from wordcloud import WordCloud\n",
    "import matplotlib.pyplot as plt\n",
    "\n",
    "# NN \n",
    "from tensorflow.keras.models import Sequential\n",
    "from tensorflow.keras.layers import Dense, Dropout,Embedding,SimpleRNN,LSTM, GRU,Bidirectional\n",
    "\n",
    "# preprocessing\n",
    "from tensorflow.keras.preprocessing.text import Tokenizer\n",
    "from tensorflow.keras.preprocessing import sequence"
   ]
  },
  {
   "cell_type": "code",
   "execution_count": 2,
   "id": "880f7cb2",
   "metadata": {
    "execution": {
     "iopub.execute_input": "2023-03-16T08:15:51.316200Z",
     "iopub.status.busy": "2023-03-16T08:15:51.315402Z",
     "iopub.status.idle": "2023-03-16T08:15:51.361364Z",
     "shell.execute_reply": "2023-03-16T08:15:51.359897Z"
    },
    "papermill": {
     "duration": 0.061283,
     "end_time": "2023-03-16T08:15:51.364471",
     "exception": false,
     "start_time": "2023-03-16T08:15:51.303188",
     "status": "completed"
    },
    "tags": []
   },
   "outputs": [
    {
     "data": {
      "text/html": [
       "<div>\n",
       "<style scoped>\n",
       "    .dataframe tbody tr th:only-of-type {\n",
       "        vertical-align: middle;\n",
       "    }\n",
       "\n",
       "    .dataframe tbody tr th {\n",
       "        vertical-align: top;\n",
       "    }\n",
       "\n",
       "    .dataframe thead th {\n",
       "        text-align: right;\n",
       "    }\n",
       "</style>\n",
       "<table border=\"1\" class=\"dataframe\">\n",
       "  <thead>\n",
       "    <tr style=\"text-align: right;\">\n",
       "      <th></th>\n",
       "      <th>Unnamed: 0</th>\n",
       "      <th>review</th>\n",
       "      <th>sentiment</th>\n",
       "    </tr>\n",
       "  </thead>\n",
       "  <tbody>\n",
       "    <tr>\n",
       "      <th>0</th>\n",
       "      <td>0</td>\n",
       "      <td>Not sure who was more lost - the flat characte...</td>\n",
       "      <td>0</td>\n",
       "    </tr>\n",
       "    <tr>\n",
       "      <th>1</th>\n",
       "      <td>1</td>\n",
       "      <td>Attempting artiness with black &amp; white and cle...</td>\n",
       "      <td>0</td>\n",
       "    </tr>\n",
       "    <tr>\n",
       "      <th>2</th>\n",
       "      <td>2</td>\n",
       "      <td>Very little music or anything to speak of.</td>\n",
       "      <td>0</td>\n",
       "    </tr>\n",
       "    <tr>\n",
       "      <th>3</th>\n",
       "      <td>3</td>\n",
       "      <td>The best scene in the movie was when Gerardo i...</td>\n",
       "      <td>1</td>\n",
       "    </tr>\n",
       "    <tr>\n",
       "      <th>4</th>\n",
       "      <td>4</td>\n",
       "      <td>The rest of the movie lacks art, charm, meanin...</td>\n",
       "      <td>0</td>\n",
       "    </tr>\n",
       "  </tbody>\n",
       "</table>\n",
       "</div>"
      ],
      "text/plain": [
       "   Unnamed: 0                                             review  sentiment\n",
       "0           0  Not sure who was more lost - the flat characte...          0\n",
       "1           1  Attempting artiness with black & white and cle...          0\n",
       "2           2         Very little music or anything to speak of.          0\n",
       "3           3  The best scene in the movie was when Gerardo i...          1\n",
       "4           4  The rest of the movie lacks art, charm, meanin...          0"
      ]
     },
     "execution_count": 2,
     "metadata": {},
     "output_type": "execute_result"
    }
   ],
   "source": [
    "df = pd.read_csv(\"/kaggle/input/review/review.csv\")\n",
    "df.head()"
   ]
  },
  {
   "cell_type": "code",
   "execution_count": 3,
   "id": "743563f7",
   "metadata": {
    "execution": {
     "iopub.execute_input": "2023-03-16T08:15:51.388410Z",
     "iopub.status.busy": "2023-03-16T08:15:51.387958Z",
     "iopub.status.idle": "2023-03-16T08:15:51.396736Z",
     "shell.execute_reply": "2023-03-16T08:15:51.395309Z"
    },
    "papermill": {
     "duration": 0.024241,
     "end_time": "2023-03-16T08:15:51.399712",
     "exception": false,
     "start_time": "2023-03-16T08:15:51.375471",
     "status": "completed"
    },
    "tags": []
   },
   "outputs": [],
   "source": [
    "# feature target split\n",
    "x = df[\"review\"]\n",
    "y = df[\"sentiment\"]"
   ]
  },
  {
   "cell_type": "code",
   "execution_count": 4,
   "id": "5336d489",
   "metadata": {
    "execution": {
     "iopub.execute_input": "2023-03-16T08:15:51.424748Z",
     "iopub.status.busy": "2023-03-16T08:15:51.424169Z",
     "iopub.status.idle": "2023-03-16T08:15:51.433424Z",
     "shell.execute_reply": "2023-03-16T08:15:51.432362Z"
    },
    "papermill": {
     "duration": 0.025535,
     "end_time": "2023-03-16T08:15:51.436019",
     "exception": false,
     "start_time": "2023-03-16T08:15:51.410484",
     "status": "completed"
    },
    "tags": []
   },
   "outputs": [],
   "source": [
    "xtrain,xtest,ytrain,ytest = train_test_split(x,y,test_size=0.3,random_state=1)"
   ]
  },
  {
   "cell_type": "code",
   "execution_count": 5,
   "id": "109fab5f",
   "metadata": {
    "execution": {
     "iopub.execute_input": "2023-03-16T08:15:51.459496Z",
     "iopub.status.busy": "2023-03-16T08:15:51.459032Z",
     "iopub.status.idle": "2023-03-16T08:15:51.485109Z",
     "shell.execute_reply": "2023-03-16T08:15:51.483825Z"
    },
    "papermill": {
     "duration": 0.041306,
     "end_time": "2023-03-16T08:15:51.488146",
     "exception": false,
     "start_time": "2023-03-16T08:15:51.446840",
     "status": "completed"
    },
    "tags": []
   },
   "outputs": [],
   "source": [
    "# Keras tokenization\n",
    "\n",
    "tok = Tokenizer()\n",
    "tok.fit_on_texts(xtrain)"
   ]
  },
  {
   "cell_type": "code",
   "execution_count": 6,
   "id": "f868a9ce",
   "metadata": {
    "execution": {
     "iopub.execute_input": "2023-03-16T08:15:51.511505Z",
     "iopub.status.busy": "2023-03-16T08:15:51.511062Z",
     "iopub.status.idle": "2023-03-16T08:15:51.518145Z",
     "shell.execute_reply": "2023-03-16T08:15:51.517272Z"
    },
    "papermill": {
     "duration": 0.021738,
     "end_time": "2023-03-16T08:15:51.520656",
     "exception": false,
     "start_time": "2023-03-16T08:15:51.498918",
     "status": "completed"
    },
    "tags": []
   },
   "outputs": [
    {
     "data": {
      "text/plain": [
       "2486"
      ]
     },
     "execution_count": 6,
     "metadata": {},
     "output_type": "execute_result"
    }
   ],
   "source": [
    "vocabulary = tok.index_word\n",
    "vocab_length = len(vocabulary)\n",
    "vocab_length"
   ]
  },
  {
   "cell_type": "code",
   "execution_count": 7,
   "id": "4fd14d1c",
   "metadata": {
    "execution": {
     "iopub.execute_input": "2023-03-16T08:15:51.544409Z",
     "iopub.status.busy": "2023-03-16T08:15:51.543990Z",
     "iopub.status.idle": "2023-03-16T08:15:51.550923Z",
     "shell.execute_reply": "2023-03-16T08:15:51.549265Z"
    },
    "papermill": {
     "duration": 0.024826,
     "end_time": "2023-03-16T08:15:51.556302",
     "exception": false,
     "start_time": "2023-03-16T08:15:51.531476",
     "status": "completed"
    },
    "tags": []
   },
   "outputs": [
    {
     "name": "stdout",
     "output_type": "stream",
     "text": [
      "{1: 'the', 2: 'and', 3: 'a', 4: 'of', 5: 'is', 6: 'this', 7: 'it', 8: 'i', 9: 'to', 10: 'in', 11: 'was', 12: 'movie', 13: 'film', 14: 'that', 15: 'for', 16: 'with', 17: 'as', 18: 'but', 19: 'are', 20: 'on', 21: 'not', 22: \"it's\", 23: 'just', 24: 'one', 25: 'you', 26: 'bad', 27: 'an', 28: 'all', 29: 'so', 30: 'about', 31: 'at', 32: 'very', 33: 'there', 34: 'like', 35: 'good', 36: 'by', 37: 'from', 38: 'have', 39: 'time', 40: 'he', 41: 'out', 42: 'even', 43: 'acting', 44: 'has', 45: 'his', 46: 'be', 47: 'were', 48: 'well', 49: 'if', 50: 'great', 51: 'who', 52: 'characters', 53: 'how', 54: 'more', 55: 'my', 56: 'or', 57: 'really', 58: 'see', 59: 'when', 60: 'some', 61: 'than', 62: 'no', 63: 'best', 64: 'plot', 65: 'made', 66: 'story', 67: 'movies', 68: 'character', 69: \"didn't\", 70: 'most', 71: 'scenes', 72: 'wonderful', 73: 'its', 74: 'better', 75: \"don't\", 76: '10', 77: 'me', 78: 'ever', 79: 'they', 80: 'what', 81: 'which', 82: 'also', 83: 'can', 84: 'only', 85: 'real', 86: 'work', 87: 'seen', 88: 'will', 89: 'because', 90: 'too', 91: 'think', 92: 'love', 93: 'into', 94: 'other', 95: 'look', 96: 'actors', 97: 'films', 98: 'do', 99: 'your', 100: 'her', 101: 'make', 102: 'here', 103: 'way', 104: 'excellent', 105: 'much', 106: 'would', 107: 'any', 108: 'had', 109: 'nothing', 110: 'anyone', 111: 'script', 112: 'never', 113: 'funny', 114: 'their', 115: 'little', 116: 'could', 117: 'watch', 118: 'recommend', 119: 'up', 120: 'get', 121: 'art', 122: 'cast', 123: 'performance', 124: 'part', 125: 'man', 126: 'music', 127: 'watching', 128: 'stupid', 129: 'many', 130: 'two', 131: 'people', 132: 'awful', 133: 'terrible', 134: 'years', 135: 'worth', 136: 'pretty', 137: 'screen', 138: 'still', 139: 'saw', 140: 'life', 141: 'worse', 142: 'such', 143: 'interesting', 144: 'thing', 145: 'waste', 146: 'dialogue', 147: 'actually', 148: 'liked', 149: 'effects', 150: 'those', 151: 'over', 152: 'short', 153: 'special', 154: 'scene', 155: 'thought', 156: 'go', 157: 'after', 158: 'writing', 159: 'truly', 160: \"can't\", 161: 'played', 162: 'first', 163: 'watched', 164: 'worst', 165: 'feeling', 166: 'again', 167: 'loved', 168: 'these', 169: 'she', 170: 'every', 171: 'been', 172: 'we', 173: 'totally', 174: 'least', 175: 'line', 176: 'know', 177: 'should', 178: 'predictable', 179: 'show', 180: 'going', 181: 'lot', 182: 'enough', 183: 'ending', 184: 'sucks', 185: 'cinema', 186: 'everything', 187: 'them', 188: 'almost', 189: 'playing', 190: 'horror', 191: \"i'm\", 192: 'being', 193: 'camera', 194: 'directing', 195: 'now', 196: 'highly', 197: 'piece', 198: 'however', 199: 'wasted', 200: \"doesn't\", 201: 'beautiful', 202: 'though', 203: 'between', 204: 'cinematography', 205: 'simply', 206: 'mess', 207: 'right', 208: 'minutes', 209: 'probably', 210: 'whole', 211: 'both', 212: 'certainly', 213: 'does', 214: 'comedy', 215: 'long', 216: 'seeing', 217: 'black', 218: \"i've\", 219: 'absolutely', 220: 'each', 221: 'give', 222: 'actor', 223: 'makes', 224: \"there's\", 225: 'tv', 226: 'definitely', 227: 'then', 228: 'game', 229: 'flick', 230: 'off', 231: 'far', 232: 'series', 233: 'kind', 234: 'understand', 235: 'holes', 236: 'where', 237: 'say', 238: 'big', 239: 'enjoyed', 240: 'another', 241: 'quite', 242: 'poor', 243: 'things', 244: 'find', 245: 'mention', 246: 'action', 247: 'old', 248: 'fact', 249: 'amazing', 250: 'day', 251: 'style', 252: 'family', 253: 'especially', 254: 'through', 255: 'use', 256: 'cheap', 257: 'particularly', 258: 'boring', 259: 'throughout', 260: 'believable', 261: 'girl', 262: 'done', 263: 'want', 264: 'history', 265: 'clever', 266: 'editing', 267: 'top', 268: 'avoid', 269: \"i'd\", 270: 'experience', 271: 'am', 272: 'hilarious', 273: 'everyone', 274: 'full', 275: 'money', 276: 'our', 277: 'since', 278: 'mostly', 279: 'lead', 280: 'involved', 281: 'did', 282: 'non', 283: 'second', 284: \"won't\", 285: 'believe', 286: 'crap', 287: 'drama', 288: 'fine', 289: 'fails', 290: 'times', 291: 'job', 292: 'sucked', 293: 'subtle', 294: 'world', 295: 'garbage', 296: 'classic', 297: 'care', 298: 'generally', 299: 'white', 300: 'felt', 301: 'guess', 302: 'audience', 303: 'half', 304: 'end', 305: 'three', 306: 'incredible', 307: 'shot', 308: 'gives', 309: 'used', 310: 'overall', 311: 'solid', 312: 'perhaps', 313: 'parts', 314: 'yet', 315: 'sound', 316: 'take', 317: 'why', 318: \"that's\", 319: 'theater', 320: 'enjoy', 321: 'bit', 322: 'itself', 323: 'depth', 324: 'terrific', 325: 'james', 326: 'budget', 327: 'together', 328: 'talk', 329: 'low', 330: 'beyond', 331: 'suspense', 332: 'thriller', 333: 'completely', 334: 'mean', 335: 'few', 336: 'director', 337: 'ridiculous', 338: 'rent', 339: 'new', 340: 'came', 341: 'said', 342: 'often', 343: 'child', 344: 'making', 345: \"couldn't\", 346: 'written', 347: 'started', 348: 'having', 349: 'small', 350: 'adorable', 351: 'recommended', 352: 'him', 353: 'disappointed', 354: 'works', 355: 'looked', 356: 'away', 357: 'myself', 358: 'memorable', 359: 'john', 360: 'last', 361: 'entire', 362: 'self', 363: 'ray', 364: 'lines', 365: 'hour', 366: 'period', 367: 'pretentious', 368: 'cult', 369: 'brilliant', 370: 'joy', 371: '1', 372: 'chemistry', 373: 'single', 374: 'consider', 375: 'scamp', 376: 'annoying', 377: 'stunning', 378: 'entertaining', 379: 'thinking', 380: 'god', 381: 'seriously', 382: 'oh', 383: \"they're\", 384: 'shots', 385: 'etc', 386: 'awesome', 387: 'utterly', 388: 'convincing', 389: 'attempt', 390: 'possibly', 391: 'turn', 392: 'night', 393: 'appearance', 394: 'wonderfully', 395: 'rest', 396: 'songs', 397: 'themselves', 398: 'portrayal', 399: 'share', 400: 'ups', 401: 'down', 402: 'cool', 403: 'star', 404: 'trash', 405: 'coming', 406: 'conclusion', 407: 'drago', 408: 'dialog', 409: 'barely', 410: 'incredibly', 411: 'thrown', 412: 'unfortunately', 413: 'mickey', 414: 'huge', 415: 'usual', 416: 'hitchcock', 417: 'mature', 418: 'dvd', 419: 'acted', 420: 'keep', 421: \"wasn't\", 422: 'checking', 423: 'close', 424: 'performances', 425: 'whether', 426: 'fans', 427: 'different', 428: 'production', 429: 'values', 430: 'photography', 431: 'casting', 432: 'us', 433: 'rather', 434: 'premise', 435: 'always', 436: 'mind', 437: 'idea', 438: 'got', 439: 'wrong', 440: 'score', 441: 'may', 442: 'talented', 443: 'pathetic', 444: 'anything', 445: 'final', 446: 'complete', 447: 'features', 448: 'eyes', 449: 'before', 450: 'easily', 451: 'cartoon', 452: 'let', 453: 'scenery', 454: 'pure', 455: 'occasionally', 456: 'touching', 457: 'lovely', 458: 'lots', 459: 'nice', 460: 'else', 461: 'massive', 462: 'remember', 463: 'less', 464: 'mediocre', 465: 'pg', 466: 'genuine', 467: 'problems', 468: 'created', 469: 'negative', 470: 'hours', 471: 'strong', 472: 'charming', 473: 'kids', 474: 'graphics', 475: 'play', 476: 'back', 477: 'produced', 478: 'surprisingly', 479: 'under', 480: 'stars', 481: 'slow', 482: 'word', 483: 'whatsoever', 484: 'appreciate', 485: 'plus', 486: 'write', 487: 'thoroughly', 488: 'particular', 489: 'house', 490: 'bore', 491: 'already', 492: 'journey', 493: '90', 494: 'found', 495: 'role', 496: 'same', 497: 'must', 498: 'song', 499: 'emotions', 500: 'tell', 501: 'next', 502: 'including', 503: 'direction', 504: 'silent', 505: 'glad', 506: 'sometimes', 507: 'embarrassing', 508: 'drive', 509: 'stereotypes', 510: 'south', 511: 'follow', 512: 'someone', 513: 'ready', 514: 'unbelievable', 515: 'charles', 516: 'hard', 517: 'soundtrack', 518: 'maybe', 519: 'own', 520: 'race', 521: 'looks', 522: 'exactly', 523: 'rating', 524: 'type', 525: 'angel', 526: 'true', 527: 'become', 528: 'tale', 529: 'issues', 530: 'grace', 531: 'course', 532: 'spoiler', 533: 'attempts', 534: 'bear', 535: 'basically', 536: 'dance', 537: 'male', 538: 'nut', 539: 'fear', 540: 'reason', 541: 'revealing', 542: 'anne', 543: 'surprising', 544: 'hollywood', 545: 'ranks', 546: 'trilogy', 547: 'disturbing', 548: 'memories', 549: 'trying', 550: 'singing', 551: 'lame', 552: 'sure', 553: 'lost', 554: 'whom', 555: 'humorous', 556: 'charm', 557: 'humour', 558: 'notable', 559: 'knew', 560: \"miyazaki's\", 561: 'studio', 562: 'ponyo', 563: 'fun', 564: 'imaginative', 565: 'childhood', 566: 'jamie', 567: 'beginning', 568: 'tom', 569: 'takes', 570: 'matter', 571: 'hand', 572: 'feel', 573: 'suffering', 574: 'actress', 575: 'june', 576: 'impressive', 577: 'effective', 578: '\\x96', 579: 'female', 580: 'hill', 581: 'volcano', 582: 'los', 583: 'angeles', 584: 'nonsense', 585: 'sub', 586: 'working', 587: 'moment', 588: 'plenty', 589: 'plain', 590: 'while', 591: 'something', 592: 'crowd', 593: 'pleaser', 594: 'chance', 595: 'flaws', 596: 'lucy', 597: 'hope', 598: 'gets', 599: 'released', 600: 'interested', 601: 'poetry', 602: 'pleased', 603: 'ability', 604: 'camerawork', 605: 'american', 606: 'twice', 607: 'delivering', 608: 'supposed', 609: 'shed', 610: 'central', 611: 'handled', 612: 'imagination', 613: 'composition', 614: 'brian', 615: 'year', 616: 'adaptation', 617: 'process', 618: 'costs', 619: 'billy', 620: 'note', 621: 'emilio', 622: 'directorial', 623: 'pacing', 624: 'interplay', 625: 'surrounding', 626: 'plays', 627: 'natural', 628: 'average', 629: 'main', 630: 'bought', 631: 'provoking', 632: 'supposedly', 633: 'heard', 634: 'children', 635: 'turned', 636: 'decent', 637: 'b', 638: 'list', 639: 'ways', 640: 'portraying', 641: 'sentiment', 642: 'original', 643: 'terribly', 644: 'places', 645: 'review', 646: 'cute', 647: 'sick', 648: 'despite', 649: 'likes', 650: 'superb', 651: 'fantastic', 652: 'redeeming', 653: 'free', 654: 'location', 655: 'insult', 656: 'intelligence', 657: 'hackneyed', 658: 'contained', 659: \"haven't\", 660: 'none', 661: 'laugh', 662: 'dark', 663: 'ago', 664: 'became', 665: '20', 666: 'age', 667: 'accused', 668: 'focus', 669: 'documentary', 670: 'predictably', 671: 'fx', 672: 'murdered', 673: 'church', 674: 'fan', 675: 'due', 676: 'aside', 677: 'loads', 678: 'level', 679: 'chick', 680: 'book', 681: 'shame', 682: 'computer', 683: 'home', 684: 'result', 685: 'levels', 686: 'meaning', 687: '13', 688: 'sequel', 689: 'extremely', 690: 'looking', 691: 'relationships', 692: 'cover', 693: 'regret', 694: '2', 695: 'recent', 696: 'advise', 697: 'shows', 698: 'ten', 699: 'reviewer', 700: 'called', 701: 'explain', 702: 'junkyard', 703: 'buy', 704: 'comes', 705: 'spoilers', 706: 'crafted', 707: 'picture', 708: 'summary', 709: 'witty', 710: 'actresses', 711: 'freedom', 712: 'start', 713: 'charisma', 714: 'today', 715: 'gave', 716: 'favourite', 717: 'directors', 718: 'friends', 719: 'frightening', 720: 'depressing', 721: 'deserving', 722: 'unconvincing', 723: 'cardboard', 724: 'jean', 725: 'expect', 726: 'disliked', 727: 'lacks', 728: 'empty', 729: 'leave', 730: 'ceases', 731: 'try', 732: 'living', 733: 'hated', 734: \"you'll\", 735: 'screenwriter', 736: 'sum', 737: 'whatever', 738: 'superbly', 739: 'assistant', 740: 'example', 741: 'women', 742: 'wholesome', 743: 'angles', 744: '20th', 745: 'century', 746: 'serious', 747: 'narrative', 748: 'engaging', 749: \"master's\", 750: 'face', 751: 'pictures', 752: \"you'd\", 753: 'soul', 754: 'reality', 755: 'torture', 756: 'turns', 757: 'brief', 758: 'quinn', 759: 'tremendously', 760: 'viewing', 761: 'neil', 762: 'young', 763: 'dreams', 764: 'along', 765: 'remake', 766: 'began', 767: 'spoil', 768: 'dumb', 769: 'excellently', 770: 'sci', 771: 'mouse', 772: 'following', 773: 'crazy', 774: 'goes', 775: 'wish', 776: 'seem', 777: 'modern', 778: 'genius', 779: 'visual', 780: 'roles', 781: 'appealing', 782: 'africa', 783: 'mad', 784: 'bunch', 785: 'possible', 786: 'although', 787: 'ratings', 788: 'clichés', 789: 'moments', 790: 'ask', 791: 'sake', 792: 'core', 793: 'without', 794: 'explanation', 795: 'guys', 796: 'realistic', 797: \"isn't\", 798: 'appalling', 799: 'stanwyck', 800: 'morgan', 801: 'christmas', 802: 'dramatic', 803: 'tension', 804: 'fall', 805: 'took', 806: 'de', 807: 'during', 808: 'faux', 809: 'creates', 810: 'learn', 811: 'whiny', 812: 'underneath', 813: 'recently', 814: 'costumes', 815: 'deserved', 816: 'missed', 817: 'five', 818: 'paid', 819: '50', 820: 'badly', 821: 'noteworthy', 822: 'left', 823: 'step', 824: 'heart', 825: 'human', 826: 'forget', 827: 'macbeth', 828: 'showed', 829: 'horrible', 830: 'lord', 831: \"aren't\", 832: 'previous', 833: 's', 834: 'gonna', 835: 'business', 836: 'come', 837: 'struck', 838: 'frankly', 839: 'dancing', 840: 'brilliance', 841: 'pointless', 842: 'robert', 843: 'father', 844: 'footage', 845: 'words', 846: 'moving', 847: 'ed', 848: 'seems', 849: 'perfect', 850: 'animation', 851: 'stories', 852: 'machine', 853: 'around', 854: 'idiot', 855: 'chilly', 856: 'hollow', 857: 'act', 858: 'earth', 859: 'bored', 860: 'damn', 861: 'ruthless', 862: 'minute', 863: 'happened', 864: 'season', 865: 'moral', 866: 'flawed', 867: 'either', 868: 'opening', 869: 'sequence', 870: 'games', 871: 'form', 872: 'lacked', 873: 'until', 874: 'reactions', 875: 'space', 876: 'fat', 877: 'point', 878: 'mexican', 879: '3', 880: 'several', 881: 'seemed', 882: 'betty', 883: 'owned', 884: 'exquisite', 885: 'filmed', 886: 'greatest', 887: 'smart', 888: 'alexander', 889: 'martin', 890: 'past', 891: 'relations', 892: 'jerky', 893: 'place', 894: 'shakespear', 895: 'above', 896: 'easy', 897: 'wonder', 898: 'cole', 899: 'sisters', 900: 'voice', 901: 'impressed', 902: 'disaster', 903: 'lighting', 904: 'wind', 905: 'lion', 906: 'energy', 907: 'nuts', 908: 'racial', 909: 'high', 910: 'sandra', 911: 'bullock', 912: 'handles', 913: 'tough', 914: 'dignity', 915: 'shocking', 916: 'nonetheless', 917: 'humor', 918: 'pitiful', 919: \"dosen't\", 920: 'involves', 921: 'vulcan', 922: 'stealing', 923: 'enterprise', 924: 'uhura', 925: 'belly', 926: 'distract', 927: 'guards', 928: 'hockey', 929: 'defensemen', 930: '5', 931: 'goalies', 932: 'diving', 933: 'feet', 934: 'wide', 935: 'net', 936: 'call', 937: 'stand', 938: 'losing', 939: 'q', 940: 'heche', 941: '1949', 942: 'collective', 943: 'heads', 944: 'sand', 945: 'concerning', 946: 'interview', 947: 'vampire', 948: 'lestat', 949: 'stuart', 950: 'townsend', 951: \"cruise's\", 952: 'asleep', 953: 'insomniacs', 954: 'scream', 955: 'finale', 956: 'presence', 957: 'animals', 958: 'integration', 959: 'obvious', 960: 'blue', 961: 'green', 962: 'succeeded', 963: 'crayon', 964: 'pencil', 965: 'drawings', 966: 'colorful', 967: 'fanciful', 968: 'sits', 969: 'soldiers', 970: 'masculinity', 971: 'pledge', 972: 'hairsplitting', 973: 'purity', 974: 'admiration', 975: 'swords', 976: 'flat', 977: 'nearly', 978: 'walked', 979: 'hbo', 980: 'comment', 981: '2006', 982: 'warmth', 983: 'northern', 984: 'positive', 985: 'community', 986: 'represents', 987: 'disappointing', 988: 'aspects', 989: 'lack', 990: 'gore', 991: 'hayao', 992: 'latest', 993: 'eighth', 994: 'ghibili', 995: 'gake', 996: 'ue', 997: 'cliff', 998: 'sea', 999: 'jennifer', 1000: 'rubin', 1001: 'harris', 1002: 'changes', 1003: 'nervous', 1004: 'starlet', 1005: 'strange', 1006: 'events', 1007: 'colours', 1008: 'french', 1009: 'flag', 1010: 'miss', 1011: \"wilkinson's\", 1012: 'prepared', 1013: 'ordeal', 1014: 'begin', 1015: 'progresses', 1016: \"character's\", 1017: 'anguish', 1018: 'allison', 1019: 'technically', 1020: 'riz', 1021: 'ortolani', 1022: 'recurring', 1023: 'unaccompanied', 1024: 'vocal', 1025: 'sounds', 1026: 'distant', 1027: 'bother', 1028: 'skilled', 1029: 'professionals', 1030: 'debbie', 1031: 'rochon', 1032: 'contributory', 1033: 'former', 1034: 'chimp', 1035: 'tolerable', 1036: 'weak', 1037: 'follows', 1038: 'band', 1039: 'latter', 1040: 'mansonites', 1041: 'reporter', 1042: \"who's\", 1043: 'anniversary', 1044: 'killings', 1045: 'hear', 1046: 'speak', 1047: 'tons', 1048: 'granted', 1049: '1928', 1050: 'check', 1051: \"director's\", 1052: 'filmography', 1053: 'site', 1054: 'logic', 1055: 'trumbull', 1056: 'neighbour', 1057: 'misplace', 1058: 'inspiring', 1059: 'video', 1060: 'gross', 1061: 'chills', 1062: 'choice', 1063: 'politics', 1064: 'japanese', 1065: 'disappointment', 1066: 'kevin', 1067: 'spacey', 1068: 'verbal', 1069: 'tsunami', 1070: 'buddy', 1071: 'ackerman', 1072: 'dwight', 1073: 'schultz', 1074: 'sam', 1075: \"shepard's\", 1076: 'gung', 1077: 'ho', 1078: 'marine', 1079: 'sobering', 1080: 'cutting', 1081: 'edge', 1082: 'horrendously', 1083: 'chosen', 1084: 'tortured', 1085: 'disgusting', 1086: 'blatant', 1087: 'propaganda', 1088: 'improved', 1089: 'improvisation', 1090: 'worry', 1091: 'genre', 1092: 'heaven', 1093: 'twist', 1094: 'light', 1095: 'situation', 1096: 'themes', 1097: 'ineptly', 1098: 'stereotypically', 1099: 'faultless', 1100: 'underappreciated', 1101: 'keith', 1102: 'bully', 1103: 'teddy', 1104: 'vivid', 1105: 'reminded', 1106: 'huston', 1107: 'evinced', 1108: 'faithful', 1109: \"joyce's\", 1110: 'acclaimed', 1111: 'novella', 1112: 'dead', 1113: 'evidently', 1114: 'limited', 1115: 'soap', 1116: 'operas', 1117: 'intelligent', 1118: 'highlights', 1119: 'fundamental', 1120: 'legal', 1121: 'discovering', 1122: 'guilt', 1123: 'innocence', 1124: 'presents', 1125: 'court', 1126: 'dangerous', 1127: 'bag', 1128: 'side', 1129: 'stephen', 1130: 'mchattie', 1131: 'lance', 1132: 'hendrikson', 1133: 'raging', 1134: 'cheekbones', 1135: 'delete', 1136: \"estevez's\", 1137: 'debut', 1138: 'development', 1139: 'estevez', 1140: 'suggest', 1141: 'eye', 1142: 'person', 1143: 'clearly', 1144: 'ebay', 1145: 'mark', 1146: 'snow', 1147: 'put', 1148: 'damian', 1149: 'versatile', 1150: 'water', 1151: 'manages', 1152: 'transcend', 1153: 'limitations', 1154: 'indie', 1155: 'continually', 1156: 'subverting', 1157: 'expectations', 1158: 'emerge', 1159: 'intense', 1160: 'politically', 1161: 'correct', 1162: 'track', 1163: 'commands', 1164: 'contributing', 1165: 'failed', 1166: 'convey', 1167: 'broad', 1168: 'sweep', 1169: 'landscapes', 1170: 'lazy', 1171: 'precisely', 1172: 'giving', 1173: 'blew', 1174: 'muppets', 1175: 'babie', 1176: 'bop', 1177: 'pretext', 1178: 'describe', 1179: 'painfully', 1180: 'dreary', 1181: 'waster', 1182: 'loves', 1183: 'pans', 1184: 'reviewers', 1185: 'trek', 1186: 'v', 1187: 'frontier', 1188: 'clear', 1189: 'range', 1190: 'pull', 1191: 'holds', 1192: 'attention', 1193: 'wilkinson', 1194: 'emily', 1195: 'watson', 1196: 'scare', 1197: 'player', 1198: 'halfway', 1199: 'embarrassed', 1200: 'howell', 1201: 'details', 1202: 'dysfunction', 1203: 'schrader', 1204: 'resume', 1205: 'lousy', 1206: 'amateurish', 1207: 'lies', 1208: 'contrast', 1209: 'properly', 1210: 'popcorn', 1211: 'borders', 1212: 'offensive', 1213: 'opened', 1214: 'tender', 1215: 'getting', 1216: 'sitcoms', 1217: 'oriented', 1218: 'teenagers', 1219: 'daughters', 1220: 'paint', 1221: 'photograph', 1222: 'starring', 1223: 'jaclyn', 1224: 'smith', 1225: '12', 1226: 'warn', 1227: 'dumbest', 1228: 'emperor', 1229: 'spend', 1230: 'debated', 1231: 'sack', 1232: 'trumpeter', 1233: 'falsely', 1234: 'murder', 1235: \"she's\", 1236: 'poised', 1237: 'basic', 1238: 'sidelined', 1239: 'inexplicable', 1240: 'crew', 1241: 'speaking', 1242: 'unbearably', 1243: 'kitchy', 1244: 'evaluate', 1245: 'lives', 1246: 'state', 1247: 'shenanigans', 1248: 'spy', 1249: 'kidnapped', 1250: 'nasty', 1251: 'foreign', 1252: 'random', 1253: 'taxidermists', 1254: \"rice's\", 1255: 'sensitivities', 1256: 'treatments', 1257: 'debits', 1258: \"crowe's\", 1259: 'dedication', 1260: 'quality', 1261: \"we'd\", 1262: 'hands', 1263: 'par', 1264: 'reading', 1265: 'results', 1266: 'unrecommended', 1267: 'horrendous', 1268: 'angela', 1269: 'bennett', 1270: 'expert', 1271: 'offers', 1272: 'delights', 1273: 'surprises', 1274: 'screamy', 1275: 'masculine', 1276: 'storm', 1277: 'trooper', 1278: 'finally', 1279: \"would've\", 1280: 'competent', 1281: 'jerry', 1282: 'falwell', 1283: 'powerhouse', 1284: 'achievement', 1285: 'timely', 1286: \"culture's\", 1287: 'fascination', 1288: 'celebrity', 1289: 'distorted', 1290: 'interpretations', 1291: 'fame', 1292: 'unlockable', 1293: 'waiting', 1294: 'future', 1295: 'efforts', 1296: 'senses', 1297: 'assaulted', 1298: 'strident', 1299: 'cords', 1300: 'blare', 1301: 'warning', 1302: 'minor', 1303: 'changing', 1304: 'tone', 1305: 'rated', 1306: 'hate', 1307: 'condescends', 1308: 'hearts', 1309: 'mishima', 1310: 'uninteresting', 1311: 'documentaries', 1312: 'marriage', 1313: 'suck', 1314: 'bendingly', 1315: 'youtube', 1316: 'fashioned', 1317: 'tuneful', 1318: 'insipid', 1319: 'cause', 1320: 'front', 1321: 'paolo', 1322: 'sorrentino', 1323: 'loneliness', 1324: 'tony', 1325: 'built', 1326: 'unforgettable', 1327: 'sibling', 1328: 'bond', 1329: 'thoughts', 1330: 'italian', 1331: 'cant', 1332: 'romantic', 1333: 'dogs', 1334: 'laughed', 1335: 'ugly', 1336: 'paul', 1337: 'haggis', 1338: 'handle', 1339: 'bold', 1340: 'strokes', 1341: 'storytelling', 1342: 'painted', 1343: 'crayons', 1344: 'witticisms', 1345: \"weren't\", 1346: 'given', 1347: '80s', 1348: '8', 1349: 'writers', 1350: 'smack', 1351: 'bonus', 1352: 'tolerate', 1353: 'political', 1354: 'incorrectness', 1355: 'artistic', 1356: 'suspension', 1357: 'disbelief', 1358: 'slavic', 1359: 'transfers', 1360: 'angry', 1361: 'thrilled', 1362: 'baby', 1363: 'owls', 1364: 'aerial', 1365: 'dont', 1366: 'extraordinary', 1367: 'deserves', 1368: 'superficial', 1369: '1973', 1370: 'stranger', 1371: 'courtroom', 1372: 'compelling', 1373: 'indictment', 1374: 'justice', 1375: 'system', 1376: 'apt', 1377: 'turkey', 1378: 'straw', 1379: 'cruel', 1380: 'entertained', 1381: \"film's\", 1382: 'bell', 1383: 'higher', 1384: 'sink', 1385: 'doomed', 1386: 'conception', 1387: 'receive', 1388: 'awards', 1389: 'accolades', 1390: 'blandly', 1391: 'edward', 1392: 'chodorov', 1393: 'directed', 1394: 'negulesco', 1395: 'deal', 1396: 'gone', 1397: 'grates', 1398: 'nerves', 1399: 'emptiness', 1400: 'wanting', 1401: 'unpleasant', 1402: 'motion', 1403: 'needlessly', 1404: 'repeats', 1405: 'backed', 1406: 'continuity', 1407: 'vehicles', 1408: 'corn', 1409: 'flakes', 1410: 'box', 1411: 'bordered', 1412: 'stupidity', 1413: 'interest', 1414: 'keeps', 1415: 'alert', 1416: 'decipher', 1417: 'meanings', 1418: 'thomerson', 1419: 'ended', 1420: 'despised', 1421: 'commentary', 1422: \"today's\", 1423: 'undoubtedly', 1424: 'matrix', 1425: 'sequels', 1426: 'mindblowing', 1427: 'television', 1428: 'surely', 1429: 'coherent', 1430: 'air', 1431: 'force', 1432: 'obliged', 1433: 'delightful', 1434: 'dr', 1435: 'seuss', 1436: 'brilliantly', 1437: 'animated', 1438: \"upa's\", 1439: 'finest', 1440: 'academy', 1441: 'award', 1442: 'surface', 1443: 'relationship', 1444: 'bakery', 1445: 'waitress', 1446: \"'cover\", 1447: \"girl'\", 1448: 'exploit', 1449: 'financial', 1450: 'gain', 1451: 'duris', 1452: 'shelf', 1453: 'standout', 1454: \"fox's\", 1455: 'road', 1456: '1948', 1457: 'silly', 1458: 'noir', 1459: 'implausible', 1460: 'unmitigated', 1461: 'magnificent', 1462: 'tries', 1463: 'sophisticated', 1464: 'miserably', 1465: 'continuously', 1466: 'bertolucci', 1467: 'repeating', 1468: 'robotic', 1469: 'moves', 1470: 'notch', 1471: 'nine', 1472: 'nevertheless', 1473: 'stable', 1474: 'armand', 1475: 'assante', 1476: 'cable', 1477: \"company's\", 1478: 'sounded', 1479: 'linda', 1480: 'cardellini', 1481: 'zillion', 1482: 'unfunny', 1483: 'unrealistic', 1484: 'utter', 1485: '70000', 1486: 'later', 1487: 'power', 1488: 'angus', 1489: 'scrimm', 1490: 'somewhat', 1491: 'gently', 1492: 'menacing', 1493: 'violin', 1494: 'anatomist', 1495: 'doctor', 1496: 'ursula', 1497: \"burton's\", 1498: 'nun', 1499: 'nuns', 1500: 'among', 1501: \"mickey's\", 1502: '80', 1503: 'slackers', 1504: 'excuses', 1505: 'actions', 1506: 'older', 1507: 'wayne', 1508: 'relaxing', 1509: 'late', 1510: 'subjects', 1511: 'jay', 1512: \"adams'\", 1513: 'unfortunate', 1514: 'subject', 1515: 'evokes', 1516: 'labute', 1517: 'uses', 1518: 'brutal', 1519: 'violence', 1520: 'seperate', 1521: 'happen', 1522: 'sort', 1523: 'pap', 1524: 'screened', 1525: 'afternoon', 1526: 'punish', 1527: 'unemployed', 1528: 'jobs', 1529: 'qualities', 1530: 'timers', 1531: 'breeders', 1532: 'cheaply', 1533: 'avoided', 1534: 'ebola', 1535: 'virus', 1536: 'woa', 1537: '15', 1538: 'shirley', 1539: 'jones', 1540: 'rendition', 1541: 'tonight', 1542: 'uplifting', 1543: 'sundays', 1544: 'march', 1545: '2005', 1546: 'taped', 1547: 'pandering', 1548: 'sabotages', 1549: 'unneeded', 1550: 'controversy', 1551: 'established', 1552: 'zombie', 1553: 'students', 1554: 'humans', 1555: 'removing', 1556: 'necklace', 1557: 'containing', 1558: 'meteorite', 1559: 'pair', 1560: 'fishnet', 1561: 'stockings', 1562: 'astonishingly', 1563: 'ham', 1564: 'fisted', 1565: 'pieces', 1566: 'kill', 1567: 'momentum', 1568: 'quicker', 1569: 'structure', 1570: 'tightly', 1571: 'constructed', 1572: 'brain', 1573: 'shut', 1574: 'primal', 1575: 'impulse', 1576: 'preservation', 1577: 'kieslowski', 1578: 'amaze', 1579: \"fi's\", 1580: 'producers', 1581: 'scot', 1582: 'vandiver', 1583: 'linear', 1584: 'narration', 1585: 'thus', 1586: 'flashbacks', 1587: 'articulated', 1588: 'plane', 1589: 'earlier', 1590: 'famous', 1591: 'ground', 1592: 'breaking', 1593: 'dee', 1594: 'snider', 1595: 'frustration', 1596: 'retarded', 1597: 'girls', 1598: \"charles'\", 1599: 'provided', 1600: 'biographical', 1601: 'material', 1602: 'musician', 1603: 'pay', 1604: 'enter', 1605: 'admins', 1606: 'includes', 1607: 'shatner', 1608: 'nimoy', 1609: 'washed', 1610: 'tacky', 1611: 'spock', 1612: 'rescue', 1613: 'kirk', 1614: 'jet', 1615: 'pack', 1616: 'falls', 1617: 'mountain', 1618: 'weaker', 1619: 'episode', 1620: 'yeah', 1621: 'anyway', 1622: 'flowed', 1623: 'smoothly', 1624: 'bonding', 1625: 'hoot', 1626: 'letting', 1627: 'passion', 1628: 'taking', 1629: 'girlfriend', 1630: 'shameful', 1631: 'balanced', 1632: 'carries', 1633: 'stinks', 1634: 'nobody', 1635: 'identifies', 1636: 'cutouts', 1637: 'reverse', 1638: 'semi', 1639: 'truck', 1640: 'unfolds', 1641: '18th', 1642: 'jutland', 1643: 'instruments', 1644: 'touch', 1645: 'juano', 1646: 'hernandez', 1647: 'exceptional', 1648: 'supporting', 1649: 'era', 1650: 'proud', 1651: 'murdering', 1652: 'paced', 1653: 'suited', 1654: 'relatively', 1655: 'run', 1656: 'case', 1657: \"'so\", 1658: \"laughable'\", 1659: 'visually', 1660: 'fit', 1661: 'surroundings', 1662: 'pitch', 1663: 'allowing', 1664: '1971', 1665: 'format', 1666: 'mini', 1667: 'baaaaaad', 1668: 'scripting', 1669: 'unmatched', 1670: 'complexity', 1671: 'task', 1672: 'challenges', 1673: 'facing', 1674: 'barking', 1675: 'rocked', 1676: 'social', 1677: 'physical', 1678: 'outlets', 1679: 'attempting', 1680: 'artiness', 1681: 'existent', 1682: 'steamboat', 1683: 'willie', 1684: 'amazingly', 1685: 'important', 1686: 'strives', 1687: 'greatness', 1688: 'delivers', 1689: 'muddled', 1690: 'disparate', 1691: 'accurately', 1692: 'defined', 1693: 'distinction', 1694: 'dustin', 1695: \"hoffman's\", 1696: 'stay', 1697: 'son', 1698: 'honest', 1699: 'foolish', 1700: 'victor', 1701: 'mclaglen', 1702: 'donlevy', 1703: 'unrecognizable', 1704: 'ages', 1705: 'younger', 1706: 'set', 1707: 'references', 1708: 'galley', 1709: 'tops', 1710: 'typical', 1711: 'fi', 1712: 'americans', 1713: 'hatred', 1714: 'admitted', 1715: 'elsewhere', 1716: 'sweet', 1717: 'poler', 1718: 'kinda', 1719: 'question', 1720: 'fort', 1721: 'steele', 1722: 'widmark', 1723: 'unintentionally', 1724: 'comical', 1725: 'yes', 1726: 'simplifying', 1727: 'brevity', 1728: 'fulfilling', 1729: 'dimensional', 1730: 'treat', 1731: 'anthony', 1732: 'horse', 1733: \"one's\", 1734: \"let's\", 1735: 'problems\\x97the', 1736: 'professor', 1737: 'fleshed', 1738: 'grimes', 1739: 'blake', 1740: 'deliver', 1741: 'sharply', 1742: 'scripted', 1743: 'amount', 1744: 'deadpan', 1745: 'tongue', 1746: 'cheek', 1747: 'phenomenal', 1748: 'opinion', 1749: '95', 1750: 'theatres', 1751: 'sharing', 1752: 'others', 1753: 'marred', 1754: 'constant', 1755: 'sets', 1756: 'indoor', 1757: 'exteriors', 1758: 'confidence', 1759: \"movie's\", 1760: 'modest', 1761: 'fast', 1762: 'running', 1763: 'foxx', 1764: 'convoluted', 1765: 'convince', 1766: 'weird', 1767: 'questioning', 1768: 'glance', 1769: 'wedding', 1770: 'mistakes', 1771: 'melville', 1772: 'unique', 1773: 'perfectly', 1774: 'equivalent', 1775: \"dickens'\", 1776: 'carol', 1777: 'sensibility', 1778: 'inexperience', 1779: 'meant', 1780: 'passed', 1781: 'conflict', 1782: 'head', 1783: 'heels', 1784: 'regardless', 1785: 'christopher', 1786: 'eccleston', 1787: 'control', 1788: 'tardis', 1789: 'continuation', 1790: 'captures', 1791: 'essence', 1792: 'barney', 1793: 'super', 1794: 'duper', 1795: 'reasonable', 1796: 'atrocity', 1797: 'instant', 1798: 'catchy', 1799: 'credits', 1800: 'southern', 1801: 'california', 1802: 'desert', 1803: 'using', 1804: 'patent', 1805: 'watkins', 1806: 'personally', 1807: 'compromise', 1808: 'involving', 1809: 'issue', 1810: 'gotten', 1811: 'ballet', 1812: 'repertory', 1813: 'instead', 1814: 'fest', 1815: 'spoiled', 1816: 'brat', 1817: 'babysitting', 1818: 'fox', 1819: 'channel', 1820: 'kris', 1821: 'kristoffersen', 1822: 'difference', 1823: \"bailey's\", 1824: 'crisp', 1825: 'beautifully', 1826: 'colored', 1827: 'design', 1828: 'eiko', 1829: 'ishioka', 1830: 'went', 1831: \"coppola's\", 1832: 'dracula', 1833: 'received', 1834: 'oscar', 1835: 'producer', 1836: 'entirely', 1837: 'tickets', 1838: 'cost', 1839: 'dollars', 1840: '7', 1841: 'empowerment', 1842: 'fish', 1843: 'underwater', 1844: 'repeated', 1845: 'thousand', 1846: \"hadn't\", 1847: 'spent', 1848: 'showcasing', 1849: 'lilt', 1850: 'ms', 1851: 'helen', 1852: 'baxendale', 1853: 'credible', 1854: 'lady', 1855: 'cheerfull', 1856: 'naughty', 1857: 'deadly', 1858: 'taste', 1859: 'blood', 1860: 'evil', 1861: 'government', 1862: 'scientist', 1863: 'argued', 1864: 'humanity', 1865: 'reasons', 1866: 'gadget', 1867: 'abysmal', 1868: '54', 1869: 'sheer', 1870: 'tedium', 1871: 'melodrama', 1872: 'sinking', 1873: 'death', 1874: 'f', 1875: 'x', 1876: 'lewis', 1877: \"black's\", 1878: 'considerable', 1879: 'talent', 1880: 'incendiary', 1881: 'unrestrained', 1882: 'allow', 1883: 'planned', 1884: 'dodge', 1885: 'stratus', 1886: 'help', 1887: 'makers', 1888: 'restrained', 1889: 'québec', 1890: 'inspiration', 1891: 'overcome', 1892: 'rejection', 1893: 'storyline', 1894: 'inconsistencies', 1895: 'horrid', 1896: 'wasting', 1897: \"kid's\", 1898: 'ultra', 1899: 'cotton', 1900: 'club', 1901: 'unfaithful', 1902: 'lane', 1903: 'gere', 1904: 'decidely', 1905: 'wooden', 1906: 'universal', 1907: 'indeed', 1908: 'ryans', 1909: 'portrayed', 1910: 'schizophrenic', 1911: 'affected', 1912: 'war', 1913: 'critical', 1914: 'exceptionally', 1915: 'applauded', 1916: '30', 1917: 'elderly', 1918: 'awkwardly', 1919: 'babbling', 1920: 'overwrought', 1921: 'pseudo', 1922: 'satanic', 1923: 'gibberish', 1924: 'corny', 1925: 'teen', 1926: 'goth', 1927: 'blush', 1928: 'olde', 1929: 'english', 1930: 'latin', 1931: 'raw', 1932: 'sublimely', 1933: 'co', 1934: 'fare', 1935: 'freeman', 1936: 'jonah', 1937: 'helms', 1938: 'pulls', 1939: 'punches', 1940: 'himself', 1941: 'suggests', 1942: 'brings', 1943: 'underlying', 1944: 'tensions', 1945: 'served', 1946: 'apart', 1947: 'odd', 1948: 'inappropriate', 1949: 'smiling', 1950: 'keira', 1951: 'knightley', 1952: 'prone', 1953: 'shattered', 1954: \"'film'\", 1955: 'fully', 1956: 'recover', 1957: \"90's\", 1958: 'proudly', 1959: 'classical', 1960: 'wb', 1961: 'cartoons', 1962: 'dominated', 1963: 'disney', 1964: \"pixar's\", 1965: 'cgi', 1966: 'masterpieces', 1967: 'refreshing', 1968: 'comforting', 1969: 'miyazaki', 1970: 'relying', 1971: 'traditional', 1972: 'drawn', 1973: 'enchanting', 1974: 'washing', 1975: 'twirling', 1976: \"wouldn't\", 1977: 'hurt', 1978: 'longer', 1979: 'surprised', 1980: 'helps', 1981: 'savant', 1982: 'sister', 1983: 'imdb', 1984: 'numbers', 1985: 'cases', 1986: 'unremarkable', 1987: 'author', 1988: 'abstruse', 1989: 'culture', 1990: 'insane', 1991: 'shell', 1992: \"you're\", 1993: 'drift', 1994: 'create', 1995: 'succeeds', 1996: 'obviously', 1997: 'meagre', 1998: 'hopefully', 1999: 'cox', 2000: 'feature', 2001: 'length', 2002: 'win', 2003: 'added', 2004: 'bonuses', 2005: 'bipolarity', 2006: 'thug', 2007: 'killer', 2008: \"luv's\", 2009: 'diaper', 2010: 'commercial', 2011: 'body', 2012: '1947', 2013: 'masterpiece', 2014: 'casted', 2015: 'powerful', 2016: 'explorations', 2017: 'nature', 2018: 'tear', 2019: 'hang', 2020: 'foreigner', 2021: 'jason', 2022: 'connery', 2023: 'moved', 2024: 'tears', 2025: 'monolog', 2026: 'candle', 2027: 'sphere', 2028: 'decay', 2029: 'forces', 2030: 'president', 2031: 'u', 2032: 'return', 2033: 'school', 2034: 'pile', 2035: 'round', 2036: 'scary', 2037: 'villains', 2038: 'sleep', 2039: 'awarded', 2040: 'charismatic', 2041: 'punishment', 2042: 'park', 2043: 'rumbles', 2044: 'desperately', 2045: 'depending', 2046: 'addition', 2047: 'connections', 2048: 'wild', 2049: 'stuff', 2050: 'giallo', 2051: 'yelps', 2052: 'hes', 2053: 'scared', 2054: 'funniest', 2055: 'caught', 2056: 'curtain', 2057: \"'ive\", 2058: \"before'\", 2059: 'edition', 2060: 'lid', 2061: 'ones', 2062: 'comprehensible', 2063: 'mirrormask', 2064: 'unsatisfactory', 2065: 'putting', 2066: 'card', 2067: 'lets', 2068: 'major', 2069: 'flaw', 2070: 'destroy', 2071: \"latifa's\", 2072: 'miserable', 2073: 'laughable', 2074: 'alongside', 2075: 'olivia', 2076: 'havilland', 2077: 'legendary', 2078: 'gem', 2079: 'cat', 2080: 'n', 2081: 'delight', 2082: 'readers', 2083: 'worthwhile', 2084: 'elaborately', 2085: 'aesthetically', 2086: 'sculpture', 2087: 'dislike', 2088: 'understated', 2089: 'leaves', 2090: 'lasting', 2091: 'impression', 2092: 'developments', 2093: 'okay', 2094: 'fair', 2095: 'critic', 2096: \"i'll\", 2097: 'credit', 2098: \"credit's\", 2099: 'creature', 2100: 'pleasant', 2101: 'voyage', 2102: 'discovery', 2103: 'trouble', 2104: 'impossible', 2105: 'establish', 2106: 'watchable', 2107: 'theme', 2108: 'wont', 2109: 'rubbish', 2110: 'researched', 2111: 'rate', 2112: 'scale', 2113: 'realised', 2114: 'content', 2115: 'fill', 2116: 'dozen', 2117: 'joins', 2118: 'revenge', 2119: 'boogeyman', 2120: 'zombiez', 2121: 'hellish', 2122: 'trinity', 2123: 'popular', 2124: 'laughs', 2125: 'cg', 2126: 'microsoft', 2127: 'slideshow', 2128: \"god's\", 2129: 'malta', 2130: 'settings', 2131: 'dry', 2132: 'barren', 2133: 'geek', 2134: 'bible', 2135: 'thumper', 2136: 'ass', 2137: 'proceedings', 2138: 'remotely', 2139: 'america', 2140: 'creative', 2141: 'understood', 2142: 'identified', 2143: 'touches', 2144: 'member', 2145: 'need', 2146: 'excruciatingly', 2147: 'smile', 2148: 'once', 2149: 'atrocious', 2150: 'understatement', 2151: 'unbearable', 2152: 'comedic', 2153: 'timing', 2154: 'painful', 2155: 'drag', 2156: 'heroes', 2157: 'cannot', 2158: 'ticker', 2159: 'integral', 2160: 'element', 2161: 'helping', 2162: 'enjoyable', 2163: 'sloppy', 2164: 'im', 2165: 'rpg', 2166: 'disgrace', 2167: 'respecting', 2168: 'rpger', 2169: 'imagine', 2170: 'decisions', 2171: 'nurse', 2172: 'unpredictability', 2173: 'florida', 2174: 'veteran', 2175: 'nostalgia', 2176: 'trip', 2177: 'owns', 2178: 'spacek', 2179: 'coal', 2180: \"miner's\", 2181: 'daughter', 2182: 'quaid', 2183: 'balls', 2184: 'fire', 2185: 'cutie', 2186: 'gotta', 2187: 'slimy', 2188: 'drooling', 2189: 'teeth', 2190: 'general', 2191: \"loewenhielm's\", 2192: 'partaking', 2193: 'cailles', 2194: 'en', 2195: 'sarcophage', 2196: 'sample', 2197: 'savor', 2198: 'garfield', 2199: 'ann', 2200: 'revere', 2201: 'lilli', 2202: 'plmer', 2203: 'william', 2204: 'conrad', 2205: 'canada', 2206: 'lee', 2207: 'cinematographers', 2208: 'wong', 2209: 'howe', 2210: 'add', 2211: 'kathy', 2212: 'bates', 2213: 'desperation', 2214: 'escapism', 2215: 'variation', 2216: 'fields', 2217: 'cliche', 2218: 'choices', 2219: 'parents', 2220: 'predict', 2221: 'verbatim', 2222: 'selections', 2223: 'success', 2224: 'depends', 2225: 'sydney', 2226: 'greenstreet', 2227: 'yardley', 2228: 'nevsky', 2229: 'sour', 2230: 'wise', 2231: 'contains', 2232: 'wall', 2233: 'street', 2234: 'charlie', 2235: 'poignant', 2236: 'squibs', 2237: 'convention', 2238: 'worked', 2239: 'considering', 2240: 'taylor', 2241: 'concert', 2242: 'sequences', 2243: 'inside', 2244: 'telly', 2245: 'savalas', 2246: 'peter', 2247: 'boyle', 2248: 'movements', 2249: \"roth's\", 2250: 'pearls', 2251: 'renowned', 2252: 'frances', 2253: 'marion', 2254: \"hasn't\", 2255: 'guy', 2256: \"he's\", 2257: 'potted', 2258: 'plants', 2259: 'regrettably', 2260: 'meredith', 2261: 'm', 2262: \"'must'\", 2263: 'exciting', 2264: '4', 2265: 'buildings', 2266: 'couple', 2267: 'locations', 2268: 'hummh', 2269: 'bob', 2270: 'rise', 2271: 'outside', 2272: 'attempted', 2273: 'truth', 2274: 'reconciliation', 2275: 'crash', 2276: 'provokes', 2277: 'emotion', 2278: 'teaches', 2279: 'racism', 2280: 'prejudice', 2281: 'peculiarity', 2282: 'identify', 2283: 'gosh', 2284: 'latched', 2285: 'endearing', 2286: \"family's\", 2287: 'literally', 2288: 'excerpts', 2289: 'forced', 2290: 'problem', 2291: 'villain', 2292: 'michael', 2293: 'ironside', 2294: 'except', 2295: 'highest', 2296: 'superlative', 2297: 'imaginable', 2298: 'consolations', 2299: \"anne's\", 2300: 'sorry', 2301: 'derivative', 2302: 'mercy', 2303: 'killing', 2304: 'irons', 2305: 'doing', 2306: 'ireland', 2307: 'fingernails', 2308: 'chalkboard', 2309: 'overdue', 2310: 'deeply', 2311: 'remaining', 2312: 'survivors', 2313: 'ferry', 2314: 'valentine', 2315: 'judge', 2316: 'solidifying', 2317: 'happiness', 2318: 'dealt', 2319: 'unoriginal', 2320: 'inventive', 2321: 'elegant', 2322: 'angle', 2323: 'pointillistic', 2324: 'behold', 2325: 'pyromaniac', 2326: 'waylaid', 2327: 'switched', 2328: 'number', 2329: 'th', 2330: 'beware', 2331: 'trashy', 2332: 'carrell', 2333: 'save', 2334: 'initially', 2335: 'local', 2336: 'sites', 2337: 'buffalo', 2338: 'intrigued', 2339: 'routine', 2340: 'based', 2341: 'boost', 2342: 'produce', 2343: 'agree', 2344: 'jessica', 2345: 'iq', 2346: 'mollusk', 2347: 'rendering', 2348: \"america's\", 2349: 'imperial', 2350: 'crackles', 2351: 'unpredictable', 2352: 'youthful', 2353: 'honestly', 2354: 'concentrate', 2355: 'meanders', 2356: '25', 2357: 'amazed', 2358: 'timeless', 2359: 'string', 2360: 'hosting', 2361: 'overs', 2362: 'monotonous', 2363: 'guests', 2364: 'monumental', 2365: 'errol', 2366: 'flynn', 2367: 'custer', 2368: 'hence', 2369: 'title', 2370: 'considered', 2371: 'telephone', 2372: 'repair', 2373: 'bitchy', 2374: 'boss', 2375: 'heartwarming', 2376: 'chasing', 2377: 'indescribably', 2378: 'idiotic', 2379: 'outlandish', 2380: 'array', 2381: 'psychotic', 2382: 'lovable', 2383: 'jokes', 2384: 'offend', 2385: 'open', 2386: 'mother', 2387: 'brother', 2388: 'ryan', 2389: 'imitation', 2390: 'individual', 2391: 'schoolers', 2392: 'whine', 2393: 'cry', 2394: 'blah', 2395: 'views', 2396: 'barcelona', 2397: 'famed', 2398: 'gaudi', 2399: 'towers', 2400: 'rare', 2401: 'maker', 2402: 'worthy', 2403: 'trap', 2404: 'overly', 2405: 'syrupy', 2406: 'indulgent', 2407: 'ironically', 2408: 'total', 2409: 'balance', 2410: 'bland', 2411: 'monica', 2412: 'bellucci', 2413: 'hip', 2414: \"pray's\", 2415: 'hype', 2416: 'dropped', 2417: 'ball', 2418: 'universe', 2419: 'fascinating', 2420: 'speed', 2421: 'cheerless', 2422: 'heist', 2423: 'characterisation', 2424: 'underbite', 2425: 'stoic', 2426: 'emoting', 2427: 'chow', 2428: 'yun', 2429: 'tomorrow', 2430: 'cheesy', 2431: 'abandoned', 2432: 'factory', 2433: 'poorly', 2434: 'executed', 2435: 'flying', 2436: 'judo', 2437: 'rolls', 2438: 'la', 2439: 'woo', 2440: 'realize', 2441: \"here's\", 2442: 'pi', 2443: 'adventure', 2444: 'rough', 2445: 'draft', 2446: 'shooting', 2447: 'finished', 2448: 'completed', 2449: 'football', 2450: 'perplexing', 2451: 'wants', 2452: 'surf', 2453: 'wave', 2454: '1998', 2455: 'deep', 2456: 'impact', 2457: 'armageddon', 2458: 'everywhere', 2459: 'ben', 2460: 'affleck', 2461: 'leaving', 2462: 'wife', 2463: 'knocked', 2464: 'confuses', 2465: 'sincere', 2466: 'scares', 2467: 'medical', 2468: 'terminology', 2469: 'iffy', 2470: 'insulin', 2471: 'dependant', 2472: 'diabetic', 2473: 'cuts', 2474: 'audio', 2475: 'secondary', 2476: 'incomprehensible', 2477: 'relation', 2478: 'primary', 2479: 'mystifying', 2480: 'ps', 2481: 'finds', 2482: 'room', 2483: 'blown', 2484: 'shelves', 2485: 'store', 2486: 'sappiest'}\n"
     ]
    }
   ],
   "source": [
    "print(vocabulary)"
   ]
  },
  {
   "cell_type": "code",
   "execution_count": 8,
   "id": "513ed1ce",
   "metadata": {
    "execution": {
     "iopub.execute_input": "2023-03-16T08:15:51.581717Z",
     "iopub.status.busy": "2023-03-16T08:15:51.581304Z",
     "iopub.status.idle": "2023-03-16T08:15:51.601852Z",
     "shell.execute_reply": "2023-03-16T08:15:51.600597Z"
    },
    "papermill": {
     "duration": 0.037402,
     "end_time": "2023-03-16T08:15:51.605637",
     "exception": false,
     "start_time": "2023-03-16T08:15:51.568235",
     "status": "completed"
    },
    "tags": []
   },
   "outputs": [
    {
     "name": "stdout",
     "output_type": "stream",
     "text": [
      "[[7, 912, 60, 913, 529, 16, 914, 2, 530, 2, 4, 531, 44, 915, 532, 102], [6, 5, 3, 377, 12], [18, 7, 5, 378, 916], [1, 533, 31, 917, 47, 918, 2, 66, 5, 29, 132, 7, 919, 534, 379, 30, 81, 535, 920, 3, 921, 922, 1, 923, 9, 244, 380, 381, 8, 23, 69, 297, 30, 107, 4, 6, 13, 2, 382, 21, 9, 245, 924, 213, 3, 925, 536, 9, 926, 537, 927], [1, 12, 44, 188, 62, 246, 71, 10, 7, 2, 32, 115, 214], [1, 928, 71, 19, 133, 929, 189, 34, 383, 930, 134, 247, 931, 932, 31, 384, 14, 19, 76, 933, 934, 4, 1, 935, 385], [936, 77, 3, 538, 18, 8, 91, 6, 5, 24, 4, 1, 63, 67, 78], [8, 116, 21, 937, 9, 42, 117, 7, 15, 32, 215, 15, 539, 4, 938, 8, 939], [22, 29, 26, 22, 147, 135, 216, 23, 15, 14, 540], [6, 12, 5, 82, 541], [6, 12, 5, 29, 386], [542, 940, 11, 387, 388], [22, 136, 543, 14, 6, 72, 13, 11, 65, 10, 941, 17, 544, 298, 108, 73, 942, 943, 10, 1, 944, 945, 217, 2, 299, 529, 31, 14, 39], [10, 248, 8, 148, 7, 74, 61, 946, 16, 3, 947, 2, 8, 148, 6, 948, 949, 950, 74, 61, 951, 389], [8, 300, 952, 1, 162, 39, 8, 163, 7, 29, 8, 83, 118, 7, 15, 953], [8, 92, 1, 954, 67, 2, 28, 190, 67, 2, 6, 24, 545, 103, 119, 33], [27, 249, 955, 9, 390, 1, 63, 546, 4, 28, 39], [1, 84, 85, 149, 86, 5, 1, 956, 4, 28, 1, 957, 2, 1, 958, 4, 150, 93, 1, 71, 5, 60, 4, 1, 164, 2, 70, 959, 960, 961, 137, 86, 218, 78, 87], [49, 7, 11, 9, 391, 55, 35, 250, 165, 93, 3, 392, 4, 547, 548, 61, 8, 301, 40, 962], [191, 138, 549, 9, 120, 151, 53, 26, 7, 11], [1, 121, 251, 44, 1, 393, 4, 963, 964, 965, 2, 5, 394, 966, 2, 967], [2, 1, 395, 4, 7, 23, 968, 33, 192, 132, 16, 969, 550, 396, 30, 1, 970, 79, 971, 397, 9, 972, 30, 973, 1, 974, 4, 975, 385], [1, 122, 11, 50], [166, 551], [21, 552, 51, 11, 54, 553, 1, 976, 52, 56, 1, 302, 977, 303, 4, 554, 978, 41], [8, 139, 6, 152, 13, 20, 979, 1, 94, 250, 2, 219, 167, 7], [6, 12, 5, 3, 35, 2, 555, 980, 20, 140, 10, 981], [33, 11, 219, 62, 982, 56, 556, 9, 168, 71, 56, 52], [7, 44, 983, 557, 2, 984, 30, 1, 985, 7, 986], [24, 4, 1, 70, 987, 988, 5, 1, 989, 4, 558, 990], [8, 167, 6, 12, 7, 11, 3, 50, 398, 4, 3, 252, 51, 108, 22, 399, 4, 400, 2, 401, 18, 10, 1, 304, 79, 559, 14, 153, 92, 79, 108, 15, 220, 94], [991, 560, 992, 2, 993, 13, 15, 561, 994, 995, 62, 996, 62, 562, 562, 20, 1, 997, 36, 1, 998, 5, 3, 394, 563, 2, 564, 95, 31, 565], [28, 1, 96, 221, 3, 72, 123, 253, 999, 1000, 17, 566, 1001, 51, 1002, 37, 1, 1003, 1004, 10, 1, 567, 254, 1, 1005, 1006, 169, 5, 124, 4, 9, 1, 402, 403], [45, 255, 4, 1, 1007, 4, 1, 1008, 1009, 10, 1, 305, 97, 11, 109, 152, 4, 306, 170, 307, 170, 154, 11, 34, 3, 86, 4, 121], [75, 1010, 7], [568, 1011, 68, 5, 3, 125, 51, 5, 21, 1012, 15, 1, 1013, 14, 5, 30, 9, 1014, 18, 40, 569, 1, 570, 10, 571, 17, 1, 66, 1015, 2, 6, 50, 222, 308, 3, 123, 14, 223, 25, 572, 1, 1016, 1017, 2, 573], [62, 574, 44, 171, 141, 309, 14, 575, 1018, 10, 6, 12], [310, 6, 12, 11, 256, 404], [132], [1019, 1, 13, 5, 48, 65, 16, 576, 193, 86, 311, 43, 2, 577, 126, 37, 1020, 1021, 578, 257, 35, 5, 3, 1022, 1023, 579, 1024, 14, 1025, 34, 22, 405, 37, 3, 1026, 580], [10, 406, 8, 88, 21, 1027, 16, 6, 12, 89, 3, 581, 10, 582, 583, 5, 109, 18, 584], [18, 8, 155, 45, 43, 11, 1028], [18, 1, 43, 42, 14, 4, 142, 1029, 17, 407, 2, 1030, 1031, 11, 133, 1, 194, 141, 312, 1032, 9, 1, 1033, 1, 408, 1034, 34, 2, 1, 193, 86, 409, 1035], [141, 224, 27, 410, 1036, 585, 64, 411, 10, 14, 1037, 3, 115, 1038, 4, 1039, 250, 1040, 17, 79, 156, 157, 3, 1041, 1042, 586, 20, 3, 66, 20, 1, 1043, 4, 1, 1044], [224, 409, 3, 258, 587, 10, 1, 13, 2, 33, 19, 588, 4, 555, 313], [412, 6, 5, 3, 26, 12, 14, 5, 23, 589, 26], [590, 25, 75, 314, 1045, 413, 1046, 33, 19, 1047, 4, 315, 149, 2, 126, 259, 1, 13, 591, 172, 316, 15, 1048, 195, 18, 81, 11, 3, 414, 592, 593, 10, 1049], [49, 25, 1050, 1, 1051, 1052, 20, 6, 1053, 25, 88, 58, 317, 6, 13, 69, 38, 3, 594], [33, 19, 1, 415, 416, 1054, 595], [1055, 20, 8, 92, 596], [33, 11, 109, 260, 30, 7, 31, 28], [1, 71, 16, 1, 382, 29, 417, 1056, 261, 19, 3, 1057], [7, 5, 72, 2, 1058, 9, 117, 2, 8, 597, 14, 7, 598, 599, 166, 20, 9, 1059, 56, 418], [7, 5, 3, 32, 48, 419, 2, 262, 225, 12], [49, 25, 263, 3, 12, 318, 21, 1060, 18, 308, 25, 60, 1061, 6, 5, 3, 50, 1062], [8, 420, 127, 7, 151, 2, 151], [8, 196, 118, 6, 12, 15, 110, 600, 10, 121, 601, 319, 1063, 56, 1064, 264], [28, 10, 28, 3, 50, 1065], [18, 1066, 1067, 5, 27, 104, 1068, 1069, 17, 1070, 1071, 578, 2, 173, 260, 89, 40, 5, 3, 50, 222], [8, 11, 257, 602, 16, 1, 43, 603, 4, 1072, 1073], [1074, 1075, 398, 4, 3, 1076, 1077, 1078, 11, 1079], [604, 166, 26], [314, 8, 320, 127, 7], [6, 12, 44, 3, 1080, 1081, 9, 7], [1, 111, 5, 1082, 128], [8, 421, 1, 174, 321, 600], [226, 135, 422, 41], [33, 47, 90, 129, 423, 400], [195, 172, 47, 1083, 9, 46, 1084, 16, 6, 1085, 197, 4, 1086, 605, 1087], [1, 424, 19, 21, 1088, 36, 1089, 89, 1, 96, 195, 38, 606, 17, 105, 9, 1090, 30, 21, 84, 425, 383, 607, 1, 175, 48, 18, 425, 1, 175, 322, 5, 107, 35], [426, 4, 1, 1091, 88, 46, 10, 1092], [8, 301, 7, 11, 608, 9, 46, 265, 1093, 227, 609, 60, 1094, 20, 1, 1095, 18, 7, 11, 23, 128], [168, 19, 1, 610, 1096, 4, 1, 13, 2, 79, 19, 611, 1097, 1098, 2, 16, 62, 323, 4, 612], [80, 223, 6, 66, 427, 19, 1, 324, 428, 429, 1099, 430, 613, 2, 266, 1, 324, 431, 1, 1100, 614, 1101, 189, 3, 1102, 1103, 2, 1104, 264], [7, 11, 14, 615, 198, 14, 1105, 432, 14, 1106, 11, 138, 31, 1, 267, 4, 45, 228, 17, 1107, 36, 45, 1108, 616, 4, 325, 1109, 1110, 1111, 1, 1112], [8, 57, 148, 14], [1, 326, 11, 1113, 32, 1114], [218, 87, 1115, 1116, 54, 1117, 61, 6, 12], [6, 13, 1118, 1, 1119, 595, 4, 1, 1120, 617, 14, 22, 21, 30, 1121, 1122, 56, 1123, 18, 433, 5, 30, 51, 1124, 74, 10, 1125], [42, 49, 25, 92, 26, 67, 98, 21, 117, 6, 12], [268, 6, 13, 31, 28, 618], [27, 143, 434, 2, 619, 407, 5, 435, 35, 17, 3, 1126, 538, 1127, 1128, 620, 269, 92, 9, 58, 407, 1129, 1130, 2, 1131, 1132, 10, 3, 229, 327, 328, 30, 1133, 1134], [1135, 6, 13, 37, 99, 436], [8, 98, 21, 176, 49, 6, 11, 621, 1136, 622, 1137, 18, 1, 623, 1, 624, 2, 1138, 4, 1, 52, 17, 48, 17, 60, 265, 193, 86, 625, 1, 68, 1139, 626, 28, 1140, 3, 627, 1141], [80, 5, 42, 54, 128, 5, 14, 51, 108, 155, 27, 437, 14, 33, 177, 46, 3, 581, 10, 582, 583], [7, 108, 60, 628, 43, 37, 1, 629, 1142, 2, 7, 11, 3, 329, 326, 17, 25, 1143, 83, 58], [6, 11, 142, 27, 386, 12, 14, 8, 630, 7, 230, 4, 1144], [310, 1, 13, 5, 143, 2, 155, 631], [18, 6, 12, 57, 438, 9, 77], [53, 6, 197, 4, 404, 11, 78, 599, 5, 330, 77, 1, 43, 1, 66, 1, 52, 1, 632, 153, 149, 385, 22, 28, 439], [82, 1, 126, 36, 1145, 1146, 5, 390, 1, 63, 440, 218, 78, 633], [1, 130, 629, 52, 441, 46, 130, 4, 1, 70, 260, 634, 8, 78, 139, 1147, 20, 137], [7, 147, 635, 41, 9, 46, 136, 636, 17, 231, 17, 637, 638, 190, 331, 97, 156], [1148, 5, 29, 442, 2, 1149, 10, 29, 129, 639, 4, 158, 2, 640, 427, 52, 20, 137], [217, 1150, 5, 3, 332, 14, 1151, 9, 333, 1152, 22, 1153, 22, 27, 1154, 229, 36, 1155, 1156, 1157, 9, 1158, 17, 27, 1159, 270], [8, 334, 6, 10, 3, 133, 103], [8, 155, 7, 11, 26], [90, 1160, 1161], [220, 1162, 1163, 641, 147, 1164, 9, 1, 71, 2, 52], [7, 1165, 9, 1166, 1, 1167, 1168, 4, 1169, 14, 47, 3, 50, 124, 4, 1, 642], [33, 11, 3, 335, 443, 533, 9, 221, 1, 52, 60, 323, 18, 7, 69, 57, 86, 93, 1, 395, 4, 1, 64], [1, 66, 322, 5, 23, 178, 2, 1170], [1, 12, 5, 643, 258, 10, 644], [81, 5, 1171, 317, 8, 271, 1172, 7, 142, 3, 26, 645], [7, 23, 1173], [104, 123], [268, 268, 268], [1, 396, 47, 1, 63, 2, 1, 1174, 47, 29, 272], [416, 5, 3, 50, 336], [1175, 1176, 5, 32, 646], [7, 5, 3, 13, 30, 109, 23, 3, 1177, 9, 179, 337, 246, 71], [318, 53, 269, 1178, 6, 1179, 1180, 39, 1181, 4, 3, 13], [1, 43, 5, 133, 2, 1, 158, 5, 141], [8, 118, 6, 15, 273, 51, 1182, 13, 67, 444, 3, 86, 4, 121], [59, 8, 139, 7, 10, 1, 319, 8, 155, 8, 11, 180, 9, 46, 647], [648, 1, 1183, 4, 1184, 8, 148, 6, 12], [1, 193, 57, 649, 100, 10, 6, 12], [403, 1185, 1186, 1, 445, 1187, 5, 1, 164, 10, 1, 232], [7, 11, 1188, 14, 169, 108, 1, 1189, 2, 603, 9, 1190, 230, 6, 124], [7, 44, 3, 32, 35, 64, 7, 1191, 99, 446, 1192, 1, 43, 5, 650, 568, 1193, 11, 651, 2, 1194, 1195, 11, 82, 32, 35], [49, 25, 263, 3, 85, 1196, 338, 6, 24], [109, 339, 33], [6, 13, 44, 62, 652, 447], [7, 340, 653, 16, 3, 418, 1197, 8, 630, 18, 8, 138, 635, 1, 144, 230, 1198, 254, 89, 8, 11, 1199, 15, 1200], [8, 301, 8, 148, 1, 1201, 4, 45, 1202, 40, 11, 260], [1203, 44, 65, 3, 1204, 274, 4, 1205, 1206, 97], [10, 3, 70, 72, 654, 1207, 3, 66, 4, 1208], [6, 5, 1, 233, 4, 275, 14, 5, 199, 1209], [8, 234, 14, 22, 608, 9, 46, 3, 256, 1210, 214, 18, 14, 200, 334, 14, 7, 44, 9, 333, 655, 276, 656, 2, 38, 158, 29, 410, 657, 14, 7, 1211, 20, 1212], [6, 12, 658, 27, 28, 403, 122, 2, 80, 8, 167, 1, 70, 11, 14, 7, 1213, 55, 448, 9, 58, 94, 96, 51, 8, 659, 87, 449], [450, 660, 94, 451, 65, 77, 661, 10, 3, 1214, 103, 449, 1215, 93, 662, 1216, 1217, 15, 1218], [1, 64, 48, 8, 341, 269, 452, 14, 24, 156], [1, 453, 14, 1, 130, 1219, 1220, 2, 1221, 19, 201], [8, 38, 87, 129, 67, 1222, 1223, 1224, 18, 55, 380, 6, 11, 24, 4, 100, 63, 202, 7, 340, 41, 1225, 134, 663], [29, 8, 271, 102, 9, 1226, 25, 98, 21, 338, 6, 12, 7, 5, 1, 1227, 144, 25, 38, 112, 87], [181, 4, 235, 10, 1, 64, 224, 109, 30, 53, 40, 664, 1, 1228, 109, 30, 236, 40, 1229, 665, 134, 203, 45, 565, 2, 417, 666], [227, 154, 236, 79, 1230, 425, 56, 21, 9, 1231, 1, 1232, 51, 1233, 11, 667, 15, 1, 1234, 5, 454, 190, 57, 128], [1235, 1236, 2, 249], [1, 1237, 434, 5, 199, 277, 7, 5, 1238, 36, 1, 1239, 668, 20, 1, 669, 1240], [1241, 4, 1, 126, 7, 5, 1242, 670, 2, 1243], [1, 71, 19, 342, 113, 2, 455, 456, 17, 1, 52, 1244, 114, 1245, 2, 236, 79, 19, 180], [1, 204, 5, 205, 377, 9, 237, 1, 174, 2, 1, 671, 19, 109, 49, 21, 1246, 4, 1, 121], [457, 115, 332, 37, 416, 16, 458, 4, 459, 1247, 625, 3, 672, 1248, 3, 1249, 343, 3, 1250, 673, 3, 1251, 64, 2, 60, 1252, 1253], [191, 3, 238, 674, 4, 6, 232, 278, 675, 9, 542, 1254, 251, 1255, 2, 1256], [676, 37, 22, 133, 279, 6, 13, 44, 677, 4, 94, 1257], [22, 90, 26, 14, 273, 460, 280, 69, 399, 1258, 678, 4, 1259, 9, 1260, 15, 49, 79, 281, 1261, 38, 3, 231, 74, 13, 20, 276, 1262, 61, 6, 585, 1263, 206], [7, 11, 90, 178, 42, 15, 3, 679, 229], [8, 239, 1264, 6, 680, 9, 55, 634, 59, 79, 47, 115], [8, 57, 75, 58, 53, 110, 116, 320, 6, 12], [1, 1265, 48, 19, 3, 681], [6, 5, 23, 3, 50, 12], [196, 1266], [6, 5, 27, 104, 13], [75, 145, 99, 39], [7, 11, 1267], [6, 5, 159, 27, 121, 12, 7, 147, 44, 3, 181, 4, 121, 10, 7], [6, 5, 21, 12, 344], [32, 26, 123, 626, 1268, 1269, 3, 682, 1270, 51, 5, 31, 683, 28, 1, 39], [32, 113], [6, 13, 1271, 129, 1272, 2, 1273], [21, 90, 1274, 21, 9, 1275, 18, 23, 207], [18, 1276, 1277, 5, 21, 42, 26, 182, 9, 101, 7, 9, 1, 638, 4, 394, 133, 67], [2, 1278, 157, 28, 14, 172, 120, 9, 27, 183, 14, 1279, 171, 50, 108, 7, 171, 611, 36, 1280, 131, 2, 21, 1281, 1282], [1, 684, 5, 3, 1283, 1284, 65, 54, 1285, 195, 312, 89, 4, 276, 1286, 547, 1287, 16, 1288, 2, 22, 1289, 1290, 4, 1291], [33, 19, 461, 685, 461, 1292, 52, 22, 23, 3, 461, 228], [18, 8, 118, 1293, 15, 114, 1294, 1295, 452, 6, 24, 156], [8, 257, 462, 55, 1296, 192, 1297, 36, 1298, 1299, 4, 126, 14, 106, 1300, 41, 16, 32, 115, 1301, 2, 42, 463, 686], [1, 32, 437, 4, 7, 11, 551, 316, 3, 1302, 68, 37, 3, 464, 465, 687, 13, 2, 101, 3, 446, 282, 688, 590, 1303, 73, 1304, 9, 3, 465, 1305, 252, 12], [8, 1306, 67, 34, 14], [7, 112, 1307, 28, 1, 52, 38, 35, 466, 1308, 2, 260, 467], [3, 159, 159, 26, 13], [1309, 5, 689, 1310], [6, 5, 226, 24, 4, 1, 74, 1311, 8, 38, 87, 690, 31, 252, 691, 2, 1312], [1, 43, 184, 1, 126, 184, 1, 111, 184, 1, 623, 184, 1, 153, 671, 1313, 1, 194, 184, 535, 6, 12, 184], [6, 12, 5, 29, 436, 1314, 132, 7, 345, 38, 42, 171, 468], [25, 83, 244, 74, 67, 31, 1315], [188, 28, 4, 1, 396, 10, 692, 261, 19, 247, 1316, 2, 21, 32, 1317], [20, 1, 469, 22, 1318, 182, 9, 1319, 693, 15, 240, 694, 470, 4, 140, 199, 10, 1320, 4, 1, 137], [1321, 1322, 44, 346, 3, 72, 66, 30, 1323, 2, 1324, 44, 1325, 24, 4, 1, 70, 1326, 52, 87, 10, 67, 10, 695, 134], [8, 696, 25, 9, 95, 41, 15, 7], [6, 5, 24, 4, 1, 63, 67, 41, 33, 14, 697, 142, 471, 1327, 1328, 15, 220, 94], [30, 698, 208, 93, 6, 13, 8, 347, 348, 283, 1329], [22, 3, 572, 35, 13, 2, 318, 53, 8, 300, 59, 8, 340, 41, 4, 1, 185], [27, 1330, 699, 700, 6, 3, 349, 50, 13, 2, 318, 207], [8, 23, 1331, 701, 6, 12, 54, 61, 1332, 472, 272, 2, 350, 1, 702, 71, 19, 113, 28, 1, 702, 1333, 38, 591, 153, 90, 113, 8, 1334, 473, 88, 92, 7, 703, 7, 59, 7, 704, 41, 7, 44, 339, 447], [8, 284, 237, 107, 54, 8, 75, 34, 705, 29, 8, 75, 263, 9, 46, 24, 18, 8, 285, 6, 13, 5, 135, 99, 39], [6, 5, 3, 26, 13, 16, 26, 158, 2, 35, 96, 27, 1335, 451, 706, 36, 1336, 1337, 15, 131, 51, 160, 1338, 444, 18, 1, 1339, 1340, 10, 1341, 3, 707, 1342, 16, 1343], [708, 1, 1344, 1345, 709], [6, 49, 1, 162, 12, 218, 1346, 3, 76, 9, 10, 134], [59, 8, 162, 163, 6, 12, 10, 1, 1347, 8, 167, 7], [55, 1348, 76, 440, 5, 278, 15, 1, 64], [1, 1349, 47, 1350, 20, 2, 8, 91, 1, 63, 96, 2, 710, 47, 3, 1351, 9, 1, 179, 168, 52, 47, 29, 85], [24, 54, 144, 8, 83, 1352, 1353, 1354, 32, 48, 191, 28, 15, 1355, 711, 2, 1356, 4, 1357, 18, 1, 1358, 579, 68, 11, 23, 90, 105], [1, 1359, 19, 32, 35], [8, 340, 41, 4, 7, 165, 1360], [8, 271, 29, 1361, 157, 216, 3, 12, 34, 6], [2, 150, 1362, 1363, 47, 350], [1, 1364, 71, 47, 48, 262], [33, 19, 29, 129, 467, 8, 1365, 176, 236, 9, 712], [145, 99, 275, 20, 6, 228], [6, 5, 27, 1366, 13], [1, 279, 125, 5, 713, 653], [7, 1367, 471, 92], [714, 1, 474, 19, 286], [7, 11, 3, 32, 1368, 12, 2, 7, 715, 77, 1, 165, 14, 8, 11, 127, 475, 433, 61, 3, 13], [186, 37, 43, 9, 204, 11, 311], [40, 5, 24, 4, 55, 716, 717, 2, 24, 4, 1, 70, 442, 717, 10, 1, 264, 4, 185], [8, 139, 7, 17, 3, 343, 20, 225, 476, 10, 1369, 59, 7, 11, 1, 1370, 2, 8, 167, 7], [8, 38, 351, 7, 9, 718], [199, 130, 470], [29, 26], [17, 3, 1371, 287, 22, 1372, 17, 27, 1373, 20, 1, 605, 1374, 1375, 22, 719], [348, 9, 557, 352, 23, 9, 120, 36, 2, 120, 254, 1, 250, 11, 29, 1376], [22, 23, 350, 216, 413, 189, 1377, 10, 1, 1378, 10, 3, 196, 564, 49, 455, 1379, 103], [76, 76], [22, 3, 215, 39, 277, 8, 11, 29, 1380, 36, 3, 12], [1, 1381, 146, 5, 627, 85, 9, 140], [1, 122, 5, 35], [269, 696, 110, 9, 156, 2, 58, 7], [596, 1382, 5, 29, 105, 1383, 61, 6, 286, 2, 15, 100, 9, 1384, 6, 329, 5, 241, 720], [6, 11, 3, 229, 1385, 37, 73, 1386], [191, 643, 353, 14, 6, 13, 106, 1387, 29, 129, 1388, 2, 1389, 253, 59, 33, 19, 231, 54, 721, 354, 4, 13, 41, 33], [274, 4, 722, 723, 52, 7, 5, 1390, 346, 36, 1391, 1392, 51, 82, 477, 2, 5, 478, 1393, 36, 724, 1394, 37, 554, 24, 106, 725, 3, 50, 1395, 54], [8, 75, 91, 218, 78, 1396, 9, 3, 12, 2, 726, 7, 17, 105], [6, 12, 173, 1397, 20, 55, 1398], [76, 76], [1, 395, 4, 1, 12, 727, 121, 556, 686, 49, 22, 30, 1399, 7, 354, 8, 301, 89, 22, 728], [25, 88, 729, 1, 319, 1400, 9, 156, 41, 2, 536, 479, 1, 480], [6, 154, 5, 32, 471, 2, 1401], [1, 255, 4, 481, 1402, 1403, 1404, 322, 259, 1, 12, 18, 5, 48, 1405, 119, 36, 26, 43, 2, 26, 5, 3, 233, 482, 102, 62, 1406, 71, 14, 19, 411, 10, 15, 62, 540, 483, 1407, 14, 355, 34, 79, 47, 65, 37, 3, 1408, 1409, 1410, 2, 3, 622, 251, 14, 1411, 20, 1412], [22, 1, 24, 12, 14, 112, 730, 9, 1413, 77, 205, 89, 7, 1414, 77, 1415, 17, 8, 731, 9, 389, 9, 1416, 22, 1417], [22, 3, 681, 9, 58, 35, 96, 34, 1418, 2, 325, 101, 3, 732, 10, 3, 206, 34, 6], [36, 1, 39, 1, 13, 1419, 8, 21, 84, 726, 7, 8, 1420, 7], [733, 7], [3, 35, 1421, 4, 1422, 92, 2, 1423, 3, 13, 135, 216], [18, 49, 25, 148, 67, 34, 1, 1424, 2, 74, 314, 114, 1425, 8, 91, 734, 484, 1, 155, 631, 1426, 270, 6, 13, 88, 221, 25], [8, 106, 221, 6, 1427, 232, 3, 76, 485, 49, 8, 116], [40, 1428, 200, 176, 53, 9, 101, 3, 1429, 246, 12, 37, 1, 735, 4, 1430, 1431, 24, 51, 11, 84, 1432, 9, 486, 1, 111, 23, 15, 3, 238, 736, 4, 275], [6, 5, 3, 709, 2, 1433, 616, 4, 1, 1434, 1435, 680, 1436, 1437, 36, 1438, 1439, 2, 487, 721, 4, 73, 1440, 1441], [705, 737, 460, 83, 56, 160, 46, 341, 30, 7, 1442, 5, 738, 706], [10, 488, 1, 1443, 203, 1, 1444, 739, 2, 1, 1445, 23, 69, 86, 15, 77, 31, 28], [166, 62, 64, 31, 28], [412, 1446, 1447, 5, 27, 740, 4, 53, 544, 309, 9, 1448, 741, 15, 1449, 1450], [1451, 44, 3, 742, 393, 2, 308, 3, 288, 123], [49, 25, 58, 7, 25, 177, 209, 23, 729, 7, 20, 1, 1452], [196, 378, 31, 28, 743], [18, 22, 23, 21, 113], [3, 1453, 154], [744, 745, 1454, 1455, 489, 1456, 5, 21, 84, 241, 3, 1457, 1458, 18, 5, 27, 1459, 1460, 490, 4, 3, 12], [109, 152, 4, 1461, 430, 204, 10, 6, 13], [6, 13, 1462, 9, 46, 3, 746, 2, 1463, 332, 190, 229, 2, 7, 289, 1464], [22, 17, 1465, 201, 9, 95, 31, 17, 3, 1466, 18, 1, 691, 102, 19, 54, 388, 2, 1, 747, 54, 748, 61, 60, 4, 14, 749, 86], [18, 169, 5, 138, 3, 26, 574, 1467, 100, 1468, 750, 1469, 10, 220, 4, 100, 751], [1, 43, 17, 752, 725, 37, 6, 122, 5, 267, 1470], [2, 7, 11, 258], [1471, 41, 4, 698, 15, 3, 159, 457, 13], [1472, 314, 240, 72, 13, 37, 1, 50, 749, 1473], [8, 160, 285, 224, 42, 3, 688, 9, 6], [8, 34, 1474, 1475, 55, 1476, 1477, 708, 1478, 143, 29, 8, 163, 7, 606, 491, 2, 209, 88, 166], [25, 159, 316, 6, 492, 254, 1, 448, 2, 753, 4, 3, 343], [1479, 1480, 5, 1, 84, 144, 35, 10, 6, 13], [7, 5, 1481, 290, 356, 37, 754], [6, 173, 1482, 12, 5, 29, 151, 1, 267, 2, 443, 2, 1483, 14, 259, 1, 210, 493, 208, 4, 1484, 755, 8, 209, 355, 31, 55, 117, 30, 1485, 290], [1486, 8, 494, 357, 553, 10, 1, 1487, 4, 1, 13], [1488, 1489, 82, 756, 10, 3, 35, 123, 10, 3, 1490, 757, 18, 358, 495, 17, 1, 1491, 1492, 1493, 189, 1494, 1495, 758], [14, 11, 262, 10, 1, 283, 12], [1496, 1497, 398, 4, 1, 1498, 5, 211, 456, 2, 113, 31, 1, 496, 39, 16, 41, 344, 563, 4, 1499, 56, 1, 673], [198, 6, 69, 101, 119, 15, 1, 248, 14, 310, 6, 11, 3, 759, 258, 12], [265, 2, 3, 85, 592, 593, 6, 13, 138, 545, 1500, 1501, 63, 97, 42, 157, 1502, 72, 134], [28, 6, 12, 213, 5, 101, 25, 647, 127, 28, 168, 1503, 101, 1504, 15, 114, 128, 1505, 15, 493, 208], [8, 91, 14, 7, 5, 3, 497, 58, 1506, 359, 1507, 13], [5, 136, 113], [32, 459, 2, 1508, 1509, 392, 760], [59, 3, 498, 116, 701, 1, 499, 4, 1, 1510, 74, 142, 17, 59, 1511, 1512, 1513, 140, 11, 3, 1514, 4, 328, 1, 498, 247, 125, 36, 761, 762, 11, 161, 81, 1515, 129, 499], [445, 482, 6, 179, 5, 3, 85, 755], [336, 761, 1516, 1517, 1518, 1519, 9, 1520, 763, 37, 754, 2, 764, 16, 1, 456, 287, 2, 272, 214, 25, 83, 112, 500, 80, 5, 180, 9, 1521, 501], [7, 5, 23, 1, 1522, 4, 1523, 14, 5, 1524, 10, 1, 1525, 9, 1526, 1, 1527, 15, 21, 348, 1528], [1, 242, 96], [8, 75, 91, 33, 19, 107, 652, 1529, 10, 6, 765], [15, 131, 51, 19, 162, 1530, 10, 13, 344, 8, 91, 79, 281, 27, 104, 291], [9, 736, 1, 13, 119, 1531, 5, 3, 133, 1532, 65, 190, 12, 14, 177, 46, 1533, 34, 1, 1534, 1535], [1536, 328, 30, 132], [1, 360, 1537, 208, 4, 12, 19, 82, 21, 26, 17, 48], [49, 25, 19, 690, 15, 3, 12, 16, 3, 324, 122, 60, 35, 126, 502, 3, 1538, 1539, 1540, 4, 1, 103, 25, 95, 1541, 2, 27, 1542, 183, 221, 6, 24, 3, 731], [227, 224, 1, 64, 235], [227, 8, 163, 7, 166, 130, 1543, 663, 1544, 744, 1545, 2, 8, 766, 9, 57, 320, 7, 2, 6, 39, 8, 1546, 1, 361, 144], [15, 14, 22, 135, 422, 41], [1, 63, 154, 10, 1, 12, 5, 31, 1, 304, 18, 8, 284, 767, 7], [22, 6, 1547, 9, 1, 302, 14, 1548, 70, 4, 45, 97], [105, 54, 143, 54, 246, 54, 331, 2, 463, 4, 1, 1549, 1550], [1, 63, 740, 4, 53, 768, 1, 158, 5, 59, 22, 1551, 14, 25, 83, 391, 1, 1552, 1553, 476, 93, 1554, 36, 1555, 3, 1556, 1557, 3, 197, 4, 1, 1558], [1, 64, 44, 54, 235, 61, 3, 1559, 4, 1560, 1561, 2, 1, 503, 2, 266, 5, 1562, 1563, 1564], [8, 239, 7], [40, 83, 490, 25, 9, 1565, 2, 1566, 1, 1567, 4, 3, 12, 1568, 61, 110, 460], [1, 1569, 4, 6, 13, 5, 450, 1, 70, 1570, 1571, 10, 1, 264, 4, 185], [99, 1572, 88, 389, 9, 1573, 401, 17, 124, 4, 3, 1574, 1575, 4, 362, 1576], [1577, 112, 730, 9, 1578, 77], [769, 477, 36, 24, 4, 770, 1579, 63, 1580, 1581, 1582], [282, 1583, 1584, 1585, 129, 1586, 2, 170, 124, 19, 1587, 241, 48], [6, 283, 393, 4, 413, 771, 772, 1, 504, 1588, 773, 1589, 14, 615, 5, 209, 45, 70, 1590, 13, 278, 89, 7, 11, 29, 1591, 1592], [6, 12, 5, 133], [1593, 1594, 23, 589, 184], [268, 31, 28, 618], [1, 84, 331, 8, 11, 165, 11, 1, 1595, 31, 23, 53, 1596, 1, 1597, 47], [363, 1598, 140, 1599, 104, 1600, 1601, 15, 1, 13, 81, 774, 48, 330, 192, 23, 240, 12, 30, 3, 1602], [505, 8, 69, 1603, 9, 58, 7], [8, 775, 8, 116, 1604, 469, 429, 1605], [1, 43, 37, 28, 280, 2, 14, 1606, 150, 34, 1607, 2, 1608, 5, 26, 2, 1609, 41, 2, 344, 187, 776, 17, 247, 17, 79, 95, 10, 85, 140, 1, 153, 149, 19, 1610, 34, 59, 1611, 44, 9, 1612, 1613, 20, 3, 1614, 1615, 59, 40, 1616, 401, 37, 3, 1617], [2, 298, 1, 364, 2, 64, 5, 1618, 61, 1, 628, 1619], [1620, 1, 12, 136, 105, 292], [1621, 1, 64, 1622, 1623, 2, 1, 537, 1624, 71, 47, 3, 1625], [2, 506, 7, 11, 29, 507, 14, 8, 108, 9, 95, 356], [703, 7, 475, 7, 320, 7, 92, 7], [1, 84, 144, 57, 135, 127, 11, 1, 453, 2, 1, 489, 89, 7, 5, 201], [226, 135, 422, 41], [8, 271, 29, 602, 9, 176, 142, 3, 777, 250, 778, 5, 41, 33, 1626, 5, 1627, 15, 121, 508, 352, 2, 1628, 432, 17, 27, 302, 16, 352], [8, 452, 55, 1629, 328, 77, 93, 216, 6, 26, 437, 172, 211, 733, 7], [1, 779, 149, 47, 132], [7, 5, 1630], [6, 12, 5, 48, 1631, 16, 214, 2, 287, 2, 8, 487, 239, 357], [1, 146, 292], [22, 34, 3, 26, 130, 365, 225, 12], [169, 1632, 1, 12, 48], [8, 345, 316, 187, 381], [186, 1633], [1634, 1635, 16, 168, 52, 89, 383, 28, 723, 1636, 2, 509, 56, 670, 1637, 509], [25, 116, 508, 3, 1638, 1639, 93, 168, 235], [1, 66, 1640, 10, 1641, 745, 1642, 2, 1, 255, 4, 366, 126, 161, 20, 366, 1643, 5, 23, 24, 54, 288, 1644], [1645, 1646, 27, 1647, 222, 51, 161, 1648, 780, 10, 129, 97, 4, 1, 1649, 5, 3, 1650, 217, 125, 51, 5, 667, 4, 1651, 3, 299, 125, 10, 1, 510], [485, 7, 11, 48, 1652, 2, 1653, 73, 1654, 152, 1655, 39], [22, 3, 1656, 4, 1657, 26, 7, 5, 1658], [305, 4, 1, 70, 1659, 781, 67, 218, 78, 87], [342, 1, 146, 200, 57, 511, 37, 24, 175, 9, 240, 56, 1660, 1, 1661], [8, 285, 14, 1662, 217, 11, 262, 48], [42, 1663, 15, 242, 428, 429, 15, 1, 39, 1664, 2, 1, 1665, 60, 233, 4, 1666, 232, 6, 5, 1667], [26, 52, 26, 66, 2, 26, 43], [1, 1668, 4, 1, 293, 214, 5, 1669, 36, 107, 12, 10, 695, 134], [6, 12, 213, 27, 104, 291, 4, 541, 1, 1670, 4, 1, 1671, 2, 1, 306, 1672, 1673, 510, 782], [7, 88, 508, 25, 1674, 783], [7, 1675, 55, 294, 2, 5, 212, 3, 497, 58, 15, 110, 16, 62, 1676, 56, 1677, 1678], [6, 11, 24, 4, 1, 164, 97, 8, 38, 78, 87], [1679, 1680, 16, 217, 299, 2, 265, 193, 743, 1, 12, 353, 664, 42, 54, 337, 17, 1, 43, 11, 242, 2, 1, 64, 2, 364, 188, 282, 1681], [82, 50, 194, 2, 430], [1682, 1683, 5, 27, 1684, 1685, 13, 9, 276, 185, 264], [8, 139, 6, 12, 2, 8, 155, 6, 5, 3, 128, 12], [18, 59, 512, 1686, 15, 1687, 2, 601, 18, 1688, 3, 1689, 2, 342, 337, 66, 3, 784, 4, 1690, 71, 367, 146, 227, 25, 120, 1, 164, 233, 4, 3, 12, 14, 60, 94, 699, 32, 1691, 1692, 17, 367, 286], [5, 7, 785, 15, 3, 12, 9, 120, 107, 141, 61, 6], [100, 495, 11, 161, 48], [8, 212, 98, 21, 334, 6, 1693, 10, 3, 35, 103], [14, 12, 11, 26], [8, 148, 1, 103, 1694, 1695, 68, 11, 513, 9, 98, 23, 30, 186, 9, 1696, 16, 45, 1697], [76, 41, 4, 76, 480], [9, 46, 1698, 16, 25, 6, 5, 514, 584, 2, 32, 1699], [1700, 1701, 11, 42, 26, 2, 614, 1702, 11, 188, 1703], [196, 351, 15, 28, 1704, 786, 1, 1705, 1706, 88, 209, 21, 484, 60, 4, 1, 54, 293, 1707, 79, 88, 212, 484, 24, 1708, 154, 10, 488], [8, 38, 9, 237, 14, 6, 13, 11, 769, 477, 2, 1709, 1, 787, 17, 3, 1710, 770, 1711, 13], [6, 179, 5, 65, 15, 1712, 7, 5, 90, 128, 2, 274, 16, 1713, 2, 788, 9, 46, 1714, 1715], [7, 42, 44, 73, 1716, 789], [8, 57, 167, 1, 66, 175, 2, 1, 1717, 534, 11, 1718, 646, 18, 49, 110, 44, 3, 1719, 30, 1720, 1721, 23, 790, 356], [37, 102, 20, 1, 1722, 68, 756, 1723, 1724], [50, 12], [1725, 8, 271, 1726, 243, 102, 15, 1, 791, 4, 1727, 15, 6, 57, 5, 31, 1, 792, 4, 1, 467, 16, 6, 13, 7, 44, 90, 105, 180, 20, 793, 107, 85, 1728, 794], [52, 19, 24, 1729, 42, 1, 35, 795, 2, 253, 1, 26, 795], [82, 22, 3, 85, 1730, 9, 58, 1731, 758, 189, 773, 1732], [28, 10, 28, 73, 27, 655, 9, 1733, 656, 2, 3, 414, 145, 4, 275], [1734, 712, 16, 28, 1, 1735, 43, 253, 37, 1, 279, 1736, 11, 32, 32, 26], [1, 52, 19, 1737, 41, 478, 48, 257, 1738, 2, 1739, 2, 28, 1, 96, 1740, 114, 1741, 1742, 364, 16, 23, 1, 207, 1743, 4, 1744, 1745, 10, 1746, 9, 101, 1, 146, 211, 272, 2, 796], [266, 1, 266, 4, 6, 13, 11, 1747, 10, 55, 1748], [3, 294, 74, 61, 1749, 4, 1, 295, 10, 1, 1750, 714], [6, 5, 226, 3, 368, 296, 48, 135, 760, 2, 1751, 16, 1752], [2, 49, 14, 797, 182, 4, 3, 206, 4, 3, 12, 15, 25, 1, 707, 5, 82, 1753, 16, 3, 1754, 255, 4, 561, 1755, 2, 1756, 1757], [8, 284, 767, 7, 18, 1, 183, 10, 136, 249], [118, 16, 1758], [485, 16, 1, 1759, 433, 1760, 326, 2, 1761, 1762, 39, 7, 213, 27, 249, 291], [566, 1763, 219, 5, 363, 515], [18, 1, 1764, 64, 23, 69, 1765, 77, 2, 105, 4, 1, 13, 11, 163, 16, 3, 1766, 1767, 1768], [6, 11, 3, 242, 765, 4, 55, 63, 718, 1769], [380, 2, 8, 83, 112, 120, 14, 493, 208, 476], [186, 5, 798], [18, 1, 12, 223, 3, 181, 4, 746, 1770], [119, 33, 16, 1, 63, 4, 1771], [7, 57, 468, 3, 1772, 165, 202], [799, 2, 800, 19, 1773, 122, 10, 80, 5, 10, 129, 639, 3, 777, 1774, 4, 1775, 801, 1776, 10, 73, 1777], [369], [412, 1778, 4, 503, 1779, 14, 154, 157, 154, 1780, 16, 115, 10, 1, 103, 4, 802, 803, 56, 1781], [22, 516, 21, 9, 804, 1782, 151, 1783, 10, 92, 16, 14, 261], [1784, 1, 13, 289, 20, 70, 685], [8, 487, 239, 7, 59, 1785, 1786, 805, 1787, 4, 1, 1788, 2, 1, 1789, 4, 1, 232], [1, 306, 517, 159, 1790, 1, 1791, 4, 1, 13], [1792, 5, 226, 1793, 806, 1794], [7, 11, 29, 113], [518, 33, 106, 46, 3, 1795, 794, 15, 6, 1796], [27, 1797, 296, 16, 3, 50, 517, 2, 3, 1798, 498, 807, 1, 183, 1799], [76, 41, 4, 76, 15, 211, 1, 12, 2, 546], [307, 10, 1, 1800, 1801, 1802, 1803, 45, 1804, 808, 669, 251, 1805, 809, 3, 13, 34, 62, 94], [1806, 8, 91, 7, 697, 14, 131, 177, 810, 9, 244, 3, 1807, 187, 362, 793, 1808, 94, 131, 93, 1809], [6, 106, 21, 42, 46, 35, 17, 3, 65, 15, 225, 229], [8, 334, 10, 3, 796, 294, 169, 106, 112, 38, 1810, 93, 14, 1811, 1812, 1, 210, 144, 11, 241, 443], [1813, 172, 438, 3, 490, 1814, 30, 3, 811, 1815, 1816, 1817], [81, 44, 54, 323, 2, 68, 61, 1, 125, 812, 7], [6, 5, 24, 8, 281, 21, 38, 18, 8, 163, 7, 813, 20, 1818, 12, 1819, 2, 11, 32, 353], [1820, 1821, 5, 35, 10, 6, 12, 2, 57, 223, 3, 1822], [82, 558, 5, 359, 1823, 288, 1824, 1825, 1826, 204, 2, 1, 50, 428, 1827, 814, 36, 1828, 1829, 51, 1830, 20, 9, 98, 1, 358, 814, 15, 1831, 1832, 15, 81, 169, 1833, 3, 48, 815, 1834], [1, 12, 11, 32, 143, 37, 567, 9, 1, 304], [737, 1, 1835, 11, 180, 15, 40, 816, 1836], [7, 11, 3, 35, 144, 14, 1, 1837, 84, 1838, 817, 1839, 89, 8, 106, 46, 783, 49, 269, 38, 818, 1840, 819, 9, 58, 6, 286], [138, 8, 98, 34, 6, 12, 15, 22, 1841, 4, 741, 224, 21, 182, 67, 41, 33, 34, 6, 24], [1, 1842, 5, 820, 65, 2, 60, 4, 73, 1843, 384, 19, 1844, 3, 1845, 290, 10, 1, 13], [7, 209, 106, 38, 171, 74, 49, 1, 336, 1846, 1847, 70, 4, 1, 12, 1848, 45, 519, 121, 86, 81, 57, 797, 14, 821], [8, 822, 1, 319, 16, 3, 1849, 10, 55, 823, 370, 10, 55, 824, 2, 597, 15, 1, 825, 520], [27, 104, 123, 37, 1850], [8, 88, 112, 826, 7, 195], [1851, 1852, 5, 3, 32, 1853, 1854, 827, 51, 83, 46, 32, 1855, 31, 290, 2, 506, 169, 23, 521, 34, 3, 1856, 261, 18, 1857, 10, 100, 1858, 15, 1859, 2, 1860], [8, 23, 139, 6, 13, 2, 8, 118, 7], [7, 828, 522, 53, 1, 1861, 2, 1, 1862, 1863, 15, 1864, 2, 1, 1865, 4, 1, 1866], [1, 43, 5, 330, 1867], [371, 365, 1868, 208, 4, 1869, 1870, 1871, 2, 829, 43, 3, 206, 4, 3, 111, 2, 3, 1872, 165, 4, 35, 830, 80, 47, 79, 379], [33, 831, 1873, 71, 34, 10, 832, 67, 2, 1, 1874, 1875, 19, 133], [1876, 1877, 1878, 1879, 5, 199, 102, 90, 17, 40, 5, 31, 45, 70, 1880, 59, 40, 5, 1881, 81, 1, 465, 687, 523, 212, 284, 1882], [191, 505, 6, 367, 197, 4, 833, 69, 98, 17, 1883, 36, 1, 1884, 1885, 238, 384, 22, 834, 1886, 12, 1887, 51, 831, 10, 1, 32, 1888, 12, 835, 4, 1889], [204, 1, 13, 11, 307, 10, 27, 143, 103], [8, 160, 58, 53, 6, 12, 83, 46, 27, 1890, 9, 110, 9, 836, 41, 56, 1891, 539, 2, 1892], [33, 5, 198, 60, 136, 35, 43, 31, 174, 15, 6, 524, 4, 13], [16, 50, 315, 149, 2, 576, 153, 149, 8, 160, 118, 6, 12, 182], [198, 8, 813, 163, 1, 210, 144, 166, 20, 418, 2, 8, 11, 333, 837, 36, 53, 689, 128, 1, 1893, 11, 53, 7, 658, 235, 1894, 2, 838, 3, 210, 181, 4, 286, 2, 53, 1895, 1, 839, 11], [381, 22, 21, 135, 1896, 99, 56, 99, 1897, 39, 20], [1, 13, 44, 27, 1898, 256, 95, 9, 7], [838, 157, 1899, 1900, 2, 1901, 7, 11, 233, 4, 507, 9, 117, 1902, 2, 1903, 10, 6, 13, 89, 7, 5, 26], [523, 371, 41, 4, 76], [1, 43, 11, 1904, 1905, 202, 62, 141, 61, 3, 366, 1906, 637, 12], [840, 1907], [215, 811, 2, 841], [8, 91, 7, 11, 842, 1908, 63, 13, 89, 40, 1909, 512, 34, 55, 843, 2, 40, 11, 3, 1910, 10, 85, 140, 55, 843, 786, 40, 112, 672, 110, 18, 11, 1911, 54, 29, 807, 1, 283, 294, 1912, 81, 65, 352, 141], [114, 20, 137, 372, 1913, 9, 1, 361, 13, 5, 466], [1914, 26], [7, 5, 21, 35], [1, 517, 292], [1, 361, 302, 1915, 31, 1, 406, 4, 1, 13], [30, 1916, 208, 4, 844, 5, 199, 9, 179, 464, 1917, 96, 1918, 1919, 1920, 1921, 1922, 1923, 1924, 182, 9, 101, 3, 1925, 1926, 1927, 188, 435, 10, 1928, 1929, 2, 506, 10, 1930, 14, 441, 56, 441, 21, 46, 65, 119, 845], [1931, 2, 1932, 846], [186, 30, 6, 13, 5, 205, 306], [45, 1933, 480, 75, 1934, 105, 74, 16, 131, 34, 800, 1935, 1936, 580, 2, 847, 1937, 23, 199], [1, 194, 848, 90, 367], [6, 152, 13, 212, 1938, 62, 1939], [10, 248, 22, 516, 9, 462, 14, 1, 124, 4, 363, 515, 5, 192, 419, 2, 21, 161, 36, 1, 125, 1940], [3, 417, 293, 111, 14, 1941, 2, 455, 1942, 93, 802, 668, 1, 1943, 1944, 5, 48, 1945, 36, 849, 424, 1946, 37, 1, 1947, 1948, 1949, 14, 1950, 1951, 5, 1952, 9, 202, 312, 479, 503, 6, 39, 17, 1, 94, 52, 397, 342, 245, 7], [8, 11, 822, 1953, 37, 1, 270, 4, 127, 6, 1954, 2, 8, 805, 3, 35, 130, 470, 9, 1955, 1956], [192, 3, 1957, 343, 8, 159, 239, 6, 179, 2, 8, 83, 1958, 237, 14, 8, 239, 7, 238, 39, 2, 42, 54, 61, 1, 1959, 1960, 1961], [31, 3, 39, 59, 7, 848, 14, 13, 850, 44, 171, 1962, 36, 1963, 1964, 1965, 1966, 7, 5, 211, 1967, 2, 1968, 9, 176, 14, 1969, 5, 138, 1970, 20, 1971, 571, 1972, 850, 9, 500, 45, 472, 2, 1973, 851], [170, 373, 68, 11, 272, 2, 815, 9, 46, 700, 3, 279], [127, 1974, 852, 1975, 853, 1976, 1977, 99, 448, 17, 105, 17, 6, 179], [147, 1, 474, 47, 35, 31, 1, 39], [1, 52, 19, 143, 2, 25, 263, 9, 244, 41, 54, 30, 187, 1, 1978, 1, 12, 774, 20, 2, 8, 91, 131, 88, 46, 1979, 36, 51, 213, 2, 200, 101, 7], [1, 43, 1980, 1, 158, 764, 32, 48, 518, 1, 854, 1981, 1982, 116, 38, 171, 161, 74, 2, 7, 5, 3, 85, 370, 9, 117], [1983, 787, 84, 156, 17, 329, 371, 15, 132, 22, 39, 9, 120, 60, 469, 1984, 10, 33, 15, 1985, 142, 17, 168], [15, 150, 14, 659, 87, 7, 75, 145, 99, 39], [6, 5, 3, 855, 1986, 12, 30, 27, 1987, 732, 586, 10, 3, 855, 1988, 1989], [7, 5, 27, 1990, 228], [57, 26], [22, 27, 728, 856, 1991, 4, 3, 12], [104, 122, 66, 175, 424], [49, 25, 857, 10, 142, 3, 13, 25, 177, 46, 505, 14, 1992, 834, 1993, 356, 37, 858, 17, 231, 17, 785], [8, 11, 859, 259, 1, 210, 860, 144], [6, 24, 23, 289, 9, 1994, 107, 85, 331], [1, 13, 1995, 648, 56, 312, 89, 4, 27, 1996, 1997, 326], [1998, 1, 336, 325, 1999, 83, 391, 1, 152, 93, 3, 2000, 2001, 13, 16, 1, 496, 122, 56, 2002, 432, 151, 16, 3, 210, 339, 13], [23, 374, 1, 104, 66, 311, 43, 2, 95, 4, 1, 13, 17, 2003, 2004], [1, 122, 5, 435, 378, 17, 415], [1, 2005, 4, 1, 861, 2006, 24, 862, 3, 861, 2007, 1, 501, 862, 3, 2008, 2009, 2010, 5, 333, 722], [657, 158, 212, 18, 65, 42, 141, 36, 1, 26, 194], [1, 642, 2011, 2, 753, 2012, 5, 3, 2013], [8, 11, 32, 353, 10, 1, 12], [8, 106, 38, 2014, 100, 10, 14, 495, 157, 513, 1, 111], [1, 851, 47, 2015, 2016, 4, 1, 2017, 4, 125, 2, 4, 121], [8, 75, 176, 80, 863, 10, 864, 817, 80, 3, 206], [1, 183, 5, 29, 29, 849, 734, 609, 3, 2018], [1, 64, 200, 2019, 327, 31, 28, 2, 1, 43, 5, 219, 798], [1, 2020, 5, 21, 135, 24, 283, 4, 99, 39], [7, 11, 23, 90, 829], [827, 2021, 2022, 2023, 77, 9, 2024, 16, 45, 445, 2025, 41, 757, 2026, 41, 40, 715, 1, 2027, 4, 865, 2028, 2, 662, 2029, 3, 825, 750, 81, 223, 7, 1, 54, 143], [1, 111, 5, 3, 238, 866, 206], [18, 1, 434, 4, 1, 13, 11, 29, 337, 14, 1, 2030, 4, 1, 2031, 833], [188, 273, 280, 497, 46, 2032, 9, 2033, 43, 5, 387, 178, 2, 26, 111, 5, 2034, 4, 295, 28, 2035], [40, 160, 857, 24, 4, 1, 174, 2036, 2037, 8, 38, 78, 87, 40, 160, 486, 281, 40, 486, 6, 860, 12, 10, 45, 2038], [45, 123, 17, 2039, 11, 377], [7, 11, 3, 215, 39, 14, 8, 69, 58, 3, 29, 2040, 222, 20, 137], [2041, 2042, 5, 3, 369, 197, 4, 185], [1, 64, 205, 2043, 20, 34, 3, 852, 2044, 2045, 20, 1, 2046, 4, 339, 71], [867, 103, 7, 184], [2, 45, 293, 2047, 203, 1, 305, 97, 19, 386], [53, 83, 110, 10, 114, 207, 436, 790, 15, 444, 54, 37, 3, 12, 61, 6], [22, 138, 2048, 2049, 202, 2, 5, 196, 351, 9, 426, 4, 2050, 185], [6, 12, 5, 104, 525, 5, 201, 2, 375, 5, 350, 45, 115, 2051, 59, 2052, 2053, 2, 1, 2054, 313, 19, 59, 375, 5, 2055, 479, 1, 2056, 2, 59, 525, 2, 375, 19, 550, 2057, 112, 108, 6, 165, 2058, 8, 173, 118, 6, 12, 73, 405, 41, 20, 153, 2059, 20, 575, 665, 1, 692, 44, 375, 20, 3, 295, 83, 2, 525, 812, 1, 2060], [7, 5, 21, 23, 3, 368, 7, 5, 3, 368, 296], [6, 5, 226, 24, 4, 1, 26, 2061], [21, 719, 10, 1, 174, 2, 409, 2062], [8, 139, 2063, 360, 392, 2, 7, 11, 27, 2064, 270], [2065, 1, 520, 2066, 676, 2067, 95, 31, 1, 2068, 2069, 10, 1, 13, 79, 2070, 2071, 68], [22, 3, 464, 2072, 856, 2073, 2, 178, 197, 4, 295], [267, 175, 75, 145, 99, 39, 2, 275, 20, 6, 24, 73, 17, 26, 17, 7, 704], [1, 174, 341, 30, 1, 43, 1, 74], [45, 43, 2074, 2075, 806, 2076, 11, 369, 2, 1, 183, 11, 651], [363, 515, 5, 2077], [1, 868, 869, 4, 6, 2078, 5, 3, 296, 2, 1, 2079, 2080, 771, 870, 14, 511, 19, 3, 2081, 9, 117], [15, 2082, 51, 38, 491, 87, 24, 4, 560, 97, 40, 5, 138, 10, 267, 871, 2, 65, 240, 2083, 270], [21, 105, 146, 21, 105, 126, 1, 210, 13, 11, 307, 17, 2084, 2, 2085, 34, 3, 2086], [30, 303, 103, 254, 6, 13, 8, 347, 9, 2087, 7], [18, 6, 2088, 13, 2089, 3, 2090, 2091], [1, 68, 2092, 82, 872, 10, 323], [8, 148, 7], [60, 50, 126, 2, 324, 453], [2093, 8, 34, 9, 374, 357, 3, 2094, 2095, 29, 2096, 221, 2097, 236, 2098, 675, 1, 2099, 149, 47, 147, 136, 402], [28, 1, 52, 10, 6, 13, 19, 759, 48, 161], [21, 3, 2100, 2101, 4, 362, 2102], [22, 768, 2, 841, 2, 3, 446, 145, 4, 39], [2103, 5, 1, 158, 2, 194, 101, 7, 2104, 9, 2105, 150, 243, 14, 101, 3, 12, 2106, 34, 68, 66, 2107, 2, 29, 20], [25, 2108, 693, 7], [75, 145, 99, 39, 127, 6, 2109, 282, 2110, 13], [8, 139, 6, 13, 151, 801, 2, 80, 3, 50, 13, 7, 11], [310, 8, 2111, 6, 12, 3, 76, 41, 4, 3, 371, 76, 2112], [33, 5, 3, 181, 4, 201, 644], [18, 7, 421, 873, 8, 163, 6, 13, 14, 8, 2113, 53, 50, 40, 147, 11], [10, 94, 845, 1, 2114, 678, 4, 6, 13, 5, 182, 9, 450, 2115, 3, 2116, 94, 97], [6, 12, 195, 2117, 2118, 4, 1, 2119, 2, 2120, 17, 124, 4, 1, 2121, 2122, 4, 190, 97], [7, 11, 32, 2123, 59, 8, 11, 10, 1, 185, 3, 35, 489, 2, 32, 35, 874, 2, 588, 4, 2124], [57, 132], [1, 2125, 868, 869, 10, 875, 355, 34, 7, 116, 38, 171, 468, 20, 2126, 2127, 15, 2128, 791], [1, 66, 5, 330, 128], [1, 2129, 2130, 19, 17, 2131, 2, 17, 2132, 17, 1, 146], [1, 876, 682, 2133, 11, 514, 1, 2134, 2135, 1, 26, 2136, 261, 51, 19, 168, 96], [1, 13, 5, 103, 90, 215], [31, 62, 877, 10, 1, 2137, 213, 7, 95, 2138, 34, 2139], [6, 12, 5, 390, 24, 4, 1, 70, 2140, 354, 4, 190, 78], [196, 351, 3], [24, 4, 1, 63, 878, 67, 78, 2, 24, 4, 1, 463, 2141, 42, 36, 878, 397, 62, 570, 53, 2142, 1, 177, 38, 300, 16, 7], [55, 523, 23, 879, 41, 4, 76], [1, 877, 5, 1, 492, 3, 492, 14, 2143, 170, 2144, 4, 1, 252], [58, 7], [33, 47, 880, 789, 10, 1, 12, 14, 23, 69, 2145, 9, 46, 33, 2, 47, 2146, 481, 846], [69, 661, 56, 42, 2147, 2148], [1, 146, 5, 2149], [173, 427, 16, 677, 4, 2150, 2, 217, 214, 6, 5, 3, 13, 335, 120, 9, 58, 18, 150, 51, 98, 88, 462, 7], [40, 5, 188, 2151, 9, 117, 20, 137, 40, 44, 115, 9, 62, 713, 2, 133, 2152, 2153], [22, 23, 2154], [18, 94, 61, 14, 1, 12, 881, 9, 2155, 2, 1, 2156, 69, 57, 86, 15, 114, 711], [28, 1, 136, 751, 10, 1, 294, 2157, 101, 119, 15, 3, 197, 4, 86, 14, 5, 866, 31, 1, 792], [42, 141, 61, 2158], [153, 245, 177, 46, 65, 4, 1, 650, 126, 440, 2, 315, 149, 81, 19, 27, 2159, 2160, 10, 2161, 9, 101, 6, 142, 3, 358, 2, 2162, 451], [1, 194, 5, 2163, 31, 63], [2164, 238, 674, 4, 2165, 870, 90, 18, 6, 12, 73, 3, 2166, 9, 107, 362, 2167, 2168, 33, 5], [62, 64, 483], [195, 2169, 14, 170, 373, 24, 4, 150, 2170, 11, 65, 439], [1, 63, 124, 30, 2171, 882, 5, 22, 2172], [1, 12, 828, 3, 181, 4, 2173, 31, 22, 63, 65, 7, 95, 32, 781], [7, 5, 27, 104, 287, 27, 104, 332, 2, 27, 104, 13], [1, 122, 4, 2174, 96, 19, 54, 61, 23, 3, 2175, 2176], [40, 2177, 1, 13, 23, 17, 2178, 883, 2179, 2180, 2181, 2, 2182, 883, 50, 2183, 4, 2184], [169, 5, 17, 457, 17, 415, 6, 2185], [3, 32, 472, 13, 16, 72, 641, 2, 824], [2186, 92, 150, 423, 400, 4, 2187, 2188, 2189], [25, 399, 2190, 2191, 884, 370, 10, 45, 2192, 4, 1, 2193, 2194, 2195, 42, 202, 25, 19, 23, 127, 3, 12, 18, 25, 98, 775, 15, 23, 3, 349, 2196, 9, 2197], [317, 11, 6, 13, 65], [359, 2198, 2199, 2200, 2201, 2202, 2203, 2204, 2205, 2206, 2, 885, 36, 24, 4, 1, 886, 2207, 9, 78, 530, 1, 137, 325, 2208, 2209], [156, 338, 7], [2210, 882, 299, 2, 724, 887, 2, 25, 38, 3, 50, 122, 273, 161, 114, 313, 57, 48], [2211, 2212, 5, 72, 10, 100, 52, 293, 2213, 2, 2214, 3, 2215, 20, 100, 68, 10, 31, 475, 10, 1, 2216, 4, 1, 830], [347, 127, 6, 18, 69, 285, 10, 107, 4, 1, 52], [8, 253, 148, 1, 282, 2217, 2218, 16, 1, 2219, 10, 94, 67, 8, 116, 2220, 1, 408, 2221, 18, 1, 158, 10, 6, 12, 65, 74, 2222], [1, 2223, 4, 1, 13, 2224, 20, 1, 431, 4, 2225, 2226, 17, 1, 888, 2227, 68], [888, 2228, 5, 3, 50, 13], [2, 33, 421, 3, 373, 2229, 620, 837, 43, 2230, 867, 60, 478, 311, 431, 102], [7, 355, 34, 3, 72, 66], [8, 818, 90, 105], [1, 624, 203, 889, 2, 621, 2231, 1, 496, 72, 372, 172, 139, 10, 2232, 2233, 16, 889, 2, 2234], [186, 30, 7, 5, 23, 26], [1, 66, 5, 82, 211, 113, 2, 2235, 31, 290], [42, 1, 2236, 95, 132], [6, 2237, 112, 2238, 48, 10, 1, 890, 2, 212, 200, 86, 102], [25, 284, 826, 6, 12], [2239, 1, 891, 230, 137, 203, 2240, 2, 799, 7, 11, 543, 53, 115, 372, 33, 11, 20, 137, 203, 1, 130, 4, 187], [1, 2241, 2242, 23, 292], [25, 810, 3, 181, 30, 1, 85, 2243, 499, 4, 131, 10, 6, 12, 2, 3, 181, 30, 1, 12, 835, 322], [50, 68, 96, 2244, 2245, 2, 2246, 2247], [1, 892, 193, 2248, 47, 82, 376], [8, 92, 7], [48, 23, 49, 25, 420, 379, 53, 26, 7, 5], [7, 11, 29, 258], [205, 201], [8, 91, 8, 11, 24, 4, 1, 131, 51, 494, 6, 240, 24, 4, 2249, 2250], [22, 82, 50, 9, 58, 14, 2251, 504, 735, 2252, 2253, 2254, 816, 3, 823, 180, 37, 504, 9, 315], [33, 5, 62, 64, 102, 9, 420, 25, 180, 10, 1, 162, 893], [1, 2255, 51, 341, 2256, 108, 74, 146, 16, 45, 2257, 2258, 44, 7, 207], [2259, 1, 13, 289], [178, 18, 21, 3, 26, 117], [7, 5, 3, 526, 296], [2260, 2261, 11, 74, 61, 28, 207], [32, 526, 9, 894, 2, 3, 2262, 15, 28, 894, 426], [10, 3, 482, 7, 5, 507], [660, 4, 187, 19, 748, 56, 2263], [84, 34, 879, 56, 2264, 2265, 309, 3, 2266, 4, 2267, 518, 242, 2268], [42, 619, 2269, 345, 2270, 895, 1, 111, 81, 11, 141], [8, 285, 170, 24, 177, 58, 6, 12, 17, 8, 91, 335, 131, 2271, 4, 510, 782, 234, 73, 890, 2, 80, 5, 192, 2272, 10, 1, 2273, 2, 2274, 617], [2275, 5, 3, 720, 115, 109, 14, 2276, 2277, 18, 2278, 25, 109, 49, 25, 491, 176, 2279, 2, 2280, 19, 26, 243], [1, 52, 47, 28, 113, 2, 108, 1, 2281, 4, 21, 348, 3, 526, 279, 68], [79, 19, 29, 896, 9, 92, 18, 42, 54, 896, 9, 2282, 16], [164, 365, 2, 3, 303, 4, 55, 140, 382, 55, 2283], [8, 75, 176, 522, 80, 7, 5, 30, 6, 12, 18, 172, 2284, 20, 9, 6, 2285, 12, 2, 7, 44, 527, 3, 153, 124, 4, 276, 2286, 548], [8, 91, 1, 70, 72, 313, 2287, 274, 4, 897, 19, 1, 2288, 37, 45, 354], [7, 11, 2289, 34, 186, 10, 6, 12], [55, 84, 2290, 5, 8, 155, 1, 222, 189, 1, 2291, 11, 3, 329, 338, 2292, 2293], [112, 633, 4, 107, 4, 187, 2294, 898, 51, 11, 173, 514, 10, 1, 124], [1, 684, 5, 3, 13, 14, 23, 75, 95, 207], [22, 241, 205, 1, 2295, 70, 2296, 871, 4, 185, 2297], [1, 52, 19, 143, 2, 25, 57, 297, 15, 187], [49, 25, 98, 117, 7, 198, 33, 19, 349, 2298, 1, 710, 189, 2299, 899, 220, 98, 3, 72, 291, 16, 114, 780], [2, 75, 42, 120, 77, 347, 20, 1, 892, 604], [191, 29, 2300, 18, 8, 57, 160, 118, 7, 9, 110], [1, 64, 142, 17, 7, 5, 5, 29, 2301, 2, 178, 14, 1, 183, 5, 34, 3, 2302, 2303], [80, 20, 858, 5, 2304, 2305, 10, 6, 13], [8, 300, 17, 202, 100, 180, 9, 2306, 281, 219, 109, 483], [474, 5, 231, 37, 1, 63, 124, 4, 1, 228], [6, 12, 5, 26], [24, 68, 5, 173, 376, 16, 3, 900, 14, 308, 77, 1, 165, 4, 2307, 20, 3, 2308], [6, 645, 5, 215, 2309, 277, 8, 374, 3, 528, 4, 130, 899, 9, 46, 1, 373, 886, 13, 78, 65], [8, 11, 2310, 901, 16, 1, 68, 40, 161], [8, 38, 9, 245, 6, 2, 7, 5, 3, 414, 532, 8, 167, 1, 183, 53, 28, 1, 52, 4, 1, 305, 97, 47, 1, 2311, 2312, 4, 1, 2313, 902, 16, 2314, 2, 1, 762, 2315, 327, 2, 1, 247, 125, 127, 7, 20, 100, 225, 2316, 45, 2317, 151, 1, 573, 81, 40, 2318, 16, 15, 150, 129, 134], [6, 5, 209, 24, 4, 1, 174, 577, 2, 387, 2319, 97, 8, 38, 78, 87, 10, 55, 361, 140], [18, 895, 28, 1, 884, 779, 613, 4, 220, 587, 16, 2320, 2, 2321, 255, 4, 423, 119, 193, 2322, 2, 903, 502, 2323, 808, 683, 12, 844, 5, 3, 897, 2, 370, 9, 2324], [36, 1, 39, 1, 2325, 2326, 1, 739, 8, 11, 859, 2, 69, 297, 80, 863, 501, 2, 29, 8, 2327, 230], [406, 8, 167, 7], [6, 5, 1, 2328, 24, 63, 2329, 228, 10, 1, 232], [2330, 6, 5, 21, 3, 2331, 368, 12, 6, 5, 404, 366], [18, 42, 1, 442, 2332, 160, 2333, 6], [2334, 1, 2335, 2336, 10, 1, 13, 81, 11, 885, 102, 10, 2337, 2338, 77], [6, 278, 2339, 248, 2340, 225, 287, 598, 3, 2341, 37, 1, 288, 123, 36, 898], [8, 116, 21, 234, 80, 233, 4, 854, 106, 2342, 6, 206, 10, 1, 162, 893, 21, 9, 245, 880, 864], [1, 12, 881, 3, 115, 481, 31, 162], [1, 903, 5, 132], [8, 2343, 16, 2344, 6, 12, 5, 136, 26], [752, 38, 9, 38, 1, 2345, 4, 257, 128, 2346, 21, 9, 58, 14, 24, 405], [102, 10, 1, 904, 2, 1, 905, 172, 58, 3, 72, 2347, 4, 2348, 519, 2349, 666], [7, 2350, 16, 27, 2351, 2352, 906, 18, 2353, 8, 494, 7, 516, 9, 511, 2, 2354, 20, 7, 2355, 29, 820], [198, 157, 216, 1, 152, 166, 157, 30, 2356, 134, 8, 11, 2357, 31, 53, 2358, 1, 13, 147, 5], [49, 84, 512, 280, 16, 7, 559, 53, 9, 2359, 327, 747], [40, 57, 69, 776, 9, 263, 9, 46, 2360, 45, 900, 2361, 47, 2362, 69, 120, 280, 16, 1, 2363], [10, 152, 6, 11, 3, 2364, 145, 4, 39, 2, 906, 2, 8, 106, 21, 118, 110, 9, 78, 58, 6, 13], [8, 155, 2365, 2366, 11, 369, 17, 2367, 2, 44, 277, 527, 55, 716, 222], [33, 138, 19, 35, 96, 853], [1, 12, 5, 274, 4, 72, 839, 2368, 1, 2369], [28, 243, 2370, 3, 291, 32, 48, 262], [45, 123, 5, 205, 778], [1, 2371, 2372, 125, 11, 57, 113, 2, 45, 874, 9, 1, 907, 2, 2373, 2374, 47, 159, 466], [1, 248, 5, 6, 13, 5, 3, 72, 2375, 528, 30, 130, 131, 2376, 114, 763], [7, 5, 2377, 1, 70, 376, 2, 2378, 179, 8, 38, 78, 87], [7, 447, 27, 2379, 2380, 4, 358, 2381, 18, 2382, 907], [162, 4, 28, 33, 19, 182, 908, 509, 2, 908, 2383, 9, 2384, 273], [58, 7, 16, 99, 473, 49, 25, 38, 3, 594, 7, 88, 2385, 119, 60, 249, 408, 30, 53, 231, 520, 891, 38, 836, 10, 1, 360, 819, 134], [6, 5, 147, 3, 32, 887, 12], [3, 321, 178], [55, 2386, 2, 2387, 108, 9, 98, 6, 59, 8, 139, 842, 2388, 640, 6, 524, 4, 125, 7, 11, 3, 32, 35, 2389, 4, 6, 524, 4, 2390, 2, 8, 11, 901], [7, 5, 27, 365, 2, 303, 145, 4, 39, 772, 3, 784, 4, 32, 136, 909, 2391, 2392, 2, 2393, 30, 140], [1, 904, 2, 1, 905, 5, 48, 346, 2, 738, 419], [1, 52, 19, 143, 42, 49, 3, 321, 178], [4, 531, 1, 43, 5, 2394], [204, 821, 502, 288, 2395, 4, 2396, 2, 73, 2397, 2398, 2399], [7, 5, 2400, 59, 3, 13, 2401, 569, 1, 39, 9, 500, 3, 2402, 865, 528, 16, 297, 2, 92, 14, 200, 804, 93, 1, 2403, 4, 192, 2404, 2405, 56, 151, 2406], [2407, 8, 278, 244, 45, 97, 3, 2408, 145, 4, 39, 9, 117], [198, 102, 33, 11, 62, 636, 43, 246, 56, 654, 86, 9, 2409, 243, 119], [1, 13, 521, 256, 2, 2410], [1, 35, 204, 82, 223, 100, 2, 2411, 2412, 95, 32, 201], [113, 265, 2413, 23, 34, 2414, 832, 13, 2415], [227, 1, 13, 23, 2416, 1, 2417], [6, 12, 809, 73, 519, 2418, 2, 5, 2419, 10, 170, 103], [1, 43, 292], [6, 5, 24, 4, 1, 164, 910, 911, 12, 277, 2420, 694, 18, 21, 241, 14, 26], [3, 256, 2, 2421, 2422, 12, 16, 242, 2423, 458, 4, 2424, 251, 2425, 2426, 91, 2427, 2428, 876, 10, 3, 74, 2429, 2, 60, 2430, 788, 411, 93, 27, 2431, 2432, 513, 15, 3, 335, 2433, 2434, 2435, 2436, 2437, 3, 2438, 359, 2439], [8, 69, 2440, 53, 72, 1, 152, 57, 5, 873, 1, 360, 130, 71], [8, 173, 2, 219, 118, 6, 12, 9, 110, 51, 649, 35, 742, 252, 67, 89, 14, 5, 522, 80, 6, 5], [14, 11, 459], [191, 21, 552, 80, 40, 11, 549, 9, 98, 16, 6, 13], [1, 473, 19, 376], [2441, 236, 1, 12, 57, 2442, 847, 77, 230], [6, 5, 909, 2443, 31, 73, 63], [1, 111, 521, 17, 49, 84, 3, 2444, 2445, 11, 346, 2, 2446, 766, 449, 3, 2447, 111, 11, 2448], [1, 2449, 71, 31, 1, 304, 47, 2450], [298, 7, 23, 872, 612], [6, 24, 2451, 9, 2452, 20, 1, 349, 2453, 4, 875, 67, 10, 2454, 2455, 2456, 2, 2457, 2, 6, 24, 289, 2458], [33, 11, 62, 372, 203, 2459, 2460, 2, 910, 911, 10, 6, 13, 2, 8, 345, 234, 317, 40, 106, 374, 42, 2461, 45, 2462, 9, 46, 15, 6, 679, 14, 40, 632, 11, 2463, 41, 36], [6, 12, 5, 3, 454, 902, 1, 66, 5, 128, 2, 1, 266, 5, 1, 164, 8, 38, 87, 7, 2464, 25, 410], [211, 96, 159, 234, 2, 527, 114, 488, 68, 607, 3, 388, 2465, 123], [458, 4, 235, 10, 1, 111], [1, 13, 727, 107, 85, 2466, 56, 803, 60, 4, 1, 2467, 2468, 309, 259, 5, 3, 321, 2469, 9, 237, 1, 174, 8, 237, 14, 17, 27, 2470, 2471, 2472, 357], [1, 364, 1, 2473, 1, 2474, 186, 5, 439], [1, 2475, 64, 175, 5, 2476, 2, 73, 2477, 9, 1, 2478, 64, 175, 5, 2479], [2480, 1, 84, 154, 10, 1, 12, 14, 11, 402, 5, 59, 1, 610, 68, 2481, 100, 2482, 2483, 119], [33, 19, 60, 298, 50, 243, 10, 7], [8, 75, 234, 53, 6, 295, 438, 20, 1, 2484, 4, 1, 12, 2485, 22, 21, 42, 3, 85, 12], [1, 164, 2486, 146, 8, 116, 156, 20, 2, 20], [22, 454, 840]]\n"
     ]
    }
   ],
   "source": [
    "# Sequence\n",
    "train_sequence = tok.texts_to_sequences(xtrain)\n",
    "print(train_sequence)"
   ]
  },
  {
   "cell_type": "code",
   "execution_count": 9,
   "id": "f442c2d9",
   "metadata": {
    "execution": {
     "iopub.execute_input": "2023-03-16T08:15:51.631902Z",
     "iopub.status.busy": "2023-03-16T08:15:51.631484Z",
     "iopub.status.idle": "2023-03-16T08:15:51.637158Z",
     "shell.execute_reply": "2023-03-16T08:15:51.635963Z"
    },
    "papermill": {
     "duration": 0.021935,
     "end_time": "2023-03-16T08:15:51.639770",
     "exception": false,
     "start_time": "2023-03-16T08:15:51.617835",
     "status": "completed"
    },
    "tags": []
   },
   "outputs": [],
   "source": [
    "# Length of all documents\n",
    "doc_length = []\n",
    "for doc in train_sequence:\n",
    "  doc_length.append(len(doc))"
   ]
  },
  {
   "cell_type": "code",
   "execution_count": 10,
   "id": "c151f25b",
   "metadata": {
    "execution": {
     "iopub.execute_input": "2023-03-16T08:15:51.666074Z",
     "iopub.status.busy": "2023-03-16T08:15:51.665642Z",
     "iopub.status.idle": "2023-03-16T08:15:51.673669Z",
     "shell.execute_reply": "2023-03-16T08:15:51.672272Z"
    },
    "papermill": {
     "duration": 0.024759,
     "end_time": "2023-03-16T08:15:51.676539",
     "exception": false,
     "start_time": "2023-03-16T08:15:51.651780",
     "status": "completed"
    },
    "tags": []
   },
   "outputs": [
    {
     "data": {
      "text/plain": [
       "69"
      ]
     },
     "execution_count": 10,
     "metadata": {},
     "output_type": "execute_result"
    }
   ],
   "source": [
    "max(doc_length)"
   ]
  },
  {
   "cell_type": "code",
   "execution_count": 11,
   "id": "480fa354",
   "metadata": {
    "execution": {
     "iopub.execute_input": "2023-03-16T08:15:51.703579Z",
     "iopub.status.busy": "2023-03-16T08:15:51.703171Z",
     "iopub.status.idle": "2023-03-16T08:15:51.711936Z",
     "shell.execute_reply": "2023-03-16T08:15:51.710614Z"
    },
    "papermill": {
     "duration": 0.025814,
     "end_time": "2023-03-16T08:15:51.714817",
     "exception": false,
     "start_time": "2023-03-16T08:15:51.689003",
     "status": "completed"
    },
    "tags": []
   },
   "outputs": [
    {
     "data": {
      "text/plain": [
       "27.0"
      ]
     },
     "execution_count": 11,
     "metadata": {},
     "output_type": "execute_result"
    }
   ],
   "source": [
    "# 90% quantile\n",
    "# 90% document length is less than or equal to 30\n",
    "np.quantile(doc_length, 0.9)"
   ]
  },
  {
   "cell_type": "code",
   "execution_count": 12,
   "id": "60d51869",
   "metadata": {
    "execution": {
     "iopub.execute_input": "2023-03-16T08:15:51.742215Z",
     "iopub.status.busy": "2023-03-16T08:15:51.740952Z",
     "iopub.status.idle": "2023-03-16T08:15:51.749351Z",
     "shell.execute_reply": "2023-03-16T08:15:51.748363Z"
    },
    "papermill": {
     "duration": 0.024571,
     "end_time": "2023-03-16T08:15:51.751845",
     "exception": false,
     "start_time": "2023-03-16T08:15:51.727274",
     "status": "completed"
    },
    "tags": []
   },
   "outputs": [
    {
     "data": {
      "text/plain": [
       "45.0"
      ]
     },
     "execution_count": 12,
     "metadata": {},
     "output_type": "execute_result"
    }
   ],
   "source": [
    "# 99% quantile\n",
    "# 99% document length is less than or equal to 45\n",
    "np.quantile(doc_length, 0.99)"
   ]
  },
  {
   "cell_type": "code",
   "execution_count": 13,
   "id": "f634824d",
   "metadata": {
    "execution": {
     "iopub.execute_input": "2023-03-16T08:15:51.779005Z",
     "iopub.status.busy": "2023-03-16T08:15:51.777814Z",
     "iopub.status.idle": "2023-03-16T08:15:51.783374Z",
     "shell.execute_reply": "2023-03-16T08:15:51.782433Z"
    },
    "papermill": {
     "duration": 0.021908,
     "end_time": "2023-03-16T08:15:51.785874",
     "exception": false,
     "start_time": "2023-03-16T08:15:51.763966",
     "status": "completed"
    },
    "tags": []
   },
   "outputs": [],
   "source": [
    "max_length = 45"
   ]
  },
  {
   "cell_type": "code",
   "execution_count": 14,
   "id": "0c72e7b6",
   "metadata": {
    "execution": {
     "iopub.execute_input": "2023-03-16T08:15:51.815019Z",
     "iopub.status.busy": "2023-03-16T08:15:51.813828Z",
     "iopub.status.idle": "2023-03-16T08:15:51.827030Z",
     "shell.execute_reply": "2023-03-16T08:15:51.826133Z"
    },
    "papermill": {
     "duration": 0.031013,
     "end_time": "2023-03-16T08:15:51.829522",
     "exception": false,
     "start_time": "2023-03-16T08:15:51.798509",
     "status": "completed"
    },
    "tags": []
   },
   "outputs": [
    {
     "data": {
      "text/plain": [
       "array([[  0,   0,   0, ..., 915, 532, 102],\n",
       "       [  0,   0,   0, ...,   3, 377,  12],\n",
       "       [  0,   0,   0, ...,   5, 378, 916],\n",
       "       ...,\n",
       "       [  0,   0,   0, ...,   3,  85,  12],\n",
       "       [  0,   0,   0, ...,  20,   2,  20],\n",
       "       [  0,   0,   0, ...,  22, 454, 840]], dtype=int32)"
      ]
     },
     "execution_count": 14,
     "metadata": {},
     "output_type": "execute_result"
    }
   ],
   "source": [
    "# Padding\n",
    "train_matrix = sequence.pad_sequences(train_sequence,maxlen=max_length)\n",
    "train_matrix"
   ]
  },
  {
   "cell_type": "code",
   "execution_count": 15,
   "id": "2fe90655",
   "metadata": {
    "execution": {
     "iopub.execute_input": "2023-03-16T08:15:51.856557Z",
     "iopub.status.busy": "2023-03-16T08:15:51.856115Z",
     "iopub.status.idle": "2023-03-16T08:15:51.876234Z",
     "shell.execute_reply": "2023-03-16T08:15:51.875100Z"
    },
    "papermill": {
     "duration": 0.036949,
     "end_time": "2023-03-16T08:15:51.879012",
     "exception": false,
     "start_time": "2023-03-16T08:15:51.842063",
     "status": "completed"
    },
    "tags": []
   },
   "outputs": [
    {
     "data": {
      "text/plain": [
       "array([[  0,   0,   0, ...,   3, 388, 111],\n",
       "       [  0,   0,   0, ...,   9, 101,  77],\n",
       "       [  0,   0,   0, ...,  42,  35,  15],\n",
       "       ...,\n",
       "       [  0,   0,   0, ...,   3,  35, 222],\n",
       "       [  0,   0,   0, ...,  22,  23, 551],\n",
       "       [  0,   0,   0, ...,  12,   5, 128]], dtype=int32)"
      ]
     },
     "execution_count": 15,
     "metadata": {},
     "output_type": "execute_result"
    }
   ],
   "source": [
    "# Testing data\n",
    "test_sequence = tok.texts_to_sequences(xtest)\n",
    "test_matrix = sequence.pad_sequences(test_sequence,maxlen=max_length)\n",
    "test_matrix"
   ]
  },
  {
   "cell_type": "markdown",
   "id": "19867827",
   "metadata": {
    "papermill": {
     "duration": 0.012734,
     "end_time": "2023-03-16T08:15:51.904621",
     "exception": false,
     "start_time": "2023-03-16T08:15:51.891887",
     "status": "completed"
    },
    "tags": []
   },
   "source": [
    "## Simple RNN"
   ]
  },
  {
   "cell_type": "code",
   "execution_count": 16,
   "id": "897b5225",
   "metadata": {
    "execution": {
     "iopub.execute_input": "2023-03-16T08:15:51.933498Z",
     "iopub.status.busy": "2023-03-16T08:15:51.932314Z",
     "iopub.status.idle": "2023-03-16T08:15:52.536986Z",
     "shell.execute_reply": "2023-03-16T08:15:52.535264Z"
    },
    "papermill": {
     "duration": 0.623644,
     "end_time": "2023-03-16T08:15:52.540915",
     "exception": false,
     "start_time": "2023-03-16T08:15:51.917271",
     "status": "completed"
    },
    "tags": []
   },
   "outputs": [],
   "source": [
    "# model\n",
    "model = Sequential()\n",
    "model.add(Embedding(input_dim=vocab_length+1, # vocabulary length, +1 -> 0 tokens\n",
    "                    input_length=max_length,  # max length of document -> 45\n",
    "                    output_dim=100,           # hyperparameter -> vector length of each token\n",
    "                    mask_zero=True))          # do not learn for 0 token\n",
    "model.add(SimpleRNN(32))\n",
    "model.add(Dense(32,activation=\"relu\"))\n",
    "model.add(Dense(16,activation=\"relu\"))\n",
    "model.add(Dense(1,activation=\"sigmoid\"))"
   ]
  },
  {
   "cell_type": "code",
   "execution_count": 17,
   "id": "80bbcf76",
   "metadata": {
    "execution": {
     "iopub.execute_input": "2023-03-16T08:15:52.571034Z",
     "iopub.status.busy": "2023-03-16T08:15:52.570158Z",
     "iopub.status.idle": "2023-03-16T08:16:05.262531Z",
     "shell.execute_reply": "2023-03-16T08:16:05.261255Z"
    },
    "papermill": {
     "duration": 12.711552,
     "end_time": "2023-03-16T08:16:05.265172",
     "exception": false,
     "start_time": "2023-03-16T08:15:52.553620",
     "status": "completed"
    },
    "tags": []
   },
   "outputs": [
    {
     "name": "stdout",
     "output_type": "stream",
     "text": [
      "Epoch 1/20\n",
      "22/22 [==============================] - 3s 19ms/step - loss: 0.6920\n",
      "Epoch 2/20\n",
      "22/22 [==============================] - 0s 18ms/step - loss: 0.5563\n",
      "Epoch 3/20\n",
      "22/22 [==============================] - 0s 18ms/step - loss: 0.2714\n",
      "Epoch 4/20\n",
      "22/22 [==============================] - 0s 18ms/step - loss: 0.0619\n",
      "Epoch 5/20\n",
      "22/22 [==============================] - 0s 18ms/step - loss: 0.0156\n",
      "Epoch 6/20\n",
      "22/22 [==============================] - 0s 18ms/step - loss: 0.0072\n",
      "Epoch 7/20\n",
      "22/22 [==============================] - 0s 18ms/step - loss: 0.0043\n",
      "Epoch 8/20\n",
      "22/22 [==============================] - 0s 19ms/step - loss: 0.0029\n",
      "Epoch 9/20\n",
      "22/22 [==============================] - 0s 18ms/step - loss: 0.0022\n",
      "Epoch 10/20\n",
      "22/22 [==============================] - 0s 19ms/step - loss: 0.0017\n",
      "Epoch 11/20\n",
      "22/22 [==============================] - 0s 19ms/step - loss: 0.0014\n",
      "Epoch 12/20\n",
      "22/22 [==============================] - 0s 18ms/step - loss: 0.0011\n",
      "Epoch 13/20\n",
      "22/22 [==============================] - 0s 17ms/step - loss: 9.4078e-04\n",
      "Epoch 14/20\n",
      "22/22 [==============================] - 0s 18ms/step - loss: 7.9431e-04\n",
      "Epoch 15/20\n",
      "22/22 [==============================] - 0s 20ms/step - loss: 6.8046e-04\n",
      "Epoch 16/20\n",
      "22/22 [==============================] - 0s 22ms/step - loss: 5.8967e-04\n",
      "Epoch 17/20\n",
      "22/22 [==============================] - 0s 22ms/step - loss: 5.1807e-04\n",
      "Epoch 18/20\n",
      "22/22 [==============================] - 0s 21ms/step - loss: 4.5902e-04\n",
      "Epoch 19/20\n",
      "22/22 [==============================] - 0s 18ms/step - loss: 4.0760e-04\n",
      "Epoch 20/20\n",
      "22/22 [==============================] - 0s 18ms/step - loss: 3.6328e-04\n"
     ]
    },
    {
     "data": {
      "text/plain": [
       "<keras.callbacks.History at 0x7f96b45dea90>"
      ]
     },
     "execution_count": 17,
     "metadata": {},
     "output_type": "execute_result"
    }
   ],
   "source": [
    "model.compile(optimizer=\"adam\",loss=\"binary_crossentropy\")\n",
    "model.fit(train_matrix,ytrain,epochs=20,batch_size=32)"
   ]
  },
  {
   "cell_type": "code",
   "execution_count": 18,
   "id": "d5f5cb35",
   "metadata": {
    "execution": {
     "iopub.execute_input": "2023-03-16T08:16:05.318065Z",
     "iopub.status.busy": "2023-03-16T08:16:05.316980Z",
     "iopub.status.idle": "2023-03-16T08:16:05.695088Z",
     "shell.execute_reply": "2023-03-16T08:16:05.693776Z"
    },
    "papermill": {
     "duration": 0.40884,
     "end_time": "2023-03-16T08:16:05.699230",
     "exception": false,
     "start_time": "2023-03-16T08:16:05.290390",
     "status": "completed"
    },
    "tags": []
   },
   "outputs": [
    {
     "name": "stdout",
     "output_type": "stream",
     "text": [
      "10/10 [==============================] - 0s 6ms/step\n",
      "              precision    recall  f1-score   support\n",
      "\n",
      "           0       0.61      0.54      0.57       151\n",
      "           1       0.58      0.64      0.61       149\n",
      "\n",
      "    accuracy                           0.59       300\n",
      "   macro avg       0.59      0.59      0.59       300\n",
      "weighted avg       0.59      0.59      0.59       300\n",
      "\n"
     ]
    }
   ],
   "source": [
    "# prediction\n",
    "y_pred = model.predict(test_matrix)\n",
    "y_pred = np.where(y_pred >= 0.5, 1, 0)\n",
    "print(classification_report(ytest,y_pred))"
   ]
  },
  {
   "cell_type": "markdown",
   "id": "a3fcde57",
   "metadata": {
    "papermill": {
     "duration": 0.025085,
     "end_time": "2023-03-16T08:16:05.749434",
     "exception": false,
     "start_time": "2023-03-16T08:16:05.724349",
     "status": "completed"
    },
    "tags": []
   },
   "source": [
    "## Bidirectional RNN"
   ]
  },
  {
   "cell_type": "code",
   "execution_count": 19,
   "id": "3ab2c357",
   "metadata": {
    "execution": {
     "iopub.execute_input": "2023-03-16T08:16:05.801865Z",
     "iopub.status.busy": "2023-03-16T08:16:05.801191Z",
     "iopub.status.idle": "2023-03-16T08:16:06.018059Z",
     "shell.execute_reply": "2023-03-16T08:16:06.016666Z"
    },
    "papermill": {
     "duration": 0.246859,
     "end_time": "2023-03-16T08:16:06.021346",
     "exception": false,
     "start_time": "2023-03-16T08:16:05.774487",
     "status": "completed"
    },
    "tags": []
   },
   "outputs": [],
   "source": [
    "# model\n",
    "model2 = Sequential()\n",
    "model2.add(Embedding(input_dim=vocab_length+1, # vocabulary length, +1 -> 0 tokens\n",
    "                    input_length=max_length,  # max length of document -> 45\n",
    "                    output_dim=100,           # hyperparameter -> vector length of each token\n",
    "                    mask_zero=True))          # do not learn for 0 token\n",
    "model2.add(Bidirectional(SimpleRNN(32)))\n",
    "model2.add(Dense(32,activation=\"relu\"))\n",
    "model2.add(Dense(16,activation=\"relu\"))\n",
    "model2.add(Dense(1,activation=\"sigmoid\"))"
   ]
  },
  {
   "cell_type": "code",
   "execution_count": 20,
   "id": "1198666c",
   "metadata": {
    "execution": {
     "iopub.execute_input": "2023-03-16T08:16:06.073254Z",
     "iopub.status.busy": "2023-03-16T08:16:06.072819Z",
     "iopub.status.idle": "2023-03-16T08:16:22.100377Z",
     "shell.execute_reply": "2023-03-16T08:16:22.098918Z"
    },
    "papermill": {
     "duration": 16.057077,
     "end_time": "2023-03-16T08:16:22.103340",
     "exception": false,
     "start_time": "2023-03-16T08:16:06.046263",
     "status": "completed"
    },
    "tags": []
   },
   "outputs": [
    {
     "name": "stdout",
     "output_type": "stream",
     "text": [
      "Epoch 1/20\n",
      "22/22 [==============================] - 4s 29ms/step - loss: 0.6932\n",
      "Epoch 2/20\n",
      "22/22 [==============================] - 1s 29ms/step - loss: 0.6230\n",
      "Epoch 3/20\n",
      "22/22 [==============================] - 1s 29ms/step - loss: 0.3831\n",
      "Epoch 4/20\n",
      "22/22 [==============================] - 1s 31ms/step - loss: 0.1289\n",
      "Epoch 5/20\n",
      "22/22 [==============================] - 1s 28ms/step - loss: 0.0344\n",
      "Epoch 6/20\n",
      "22/22 [==============================] - 1s 29ms/step - loss: 0.0166\n",
      "Epoch 7/20\n",
      "22/22 [==============================] - 1s 28ms/step - loss: 0.0093\n",
      "Epoch 8/20\n",
      "22/22 [==============================] - 1s 28ms/step - loss: 0.0061\n",
      "Epoch 9/20\n",
      "22/22 [==============================] - 1s 29ms/step - loss: 0.0037\n",
      "Epoch 10/20\n",
      "22/22 [==============================] - 1s 29ms/step - loss: 0.0026\n",
      "Epoch 11/20\n",
      "22/22 [==============================] - 1s 28ms/step - loss: 0.0020\n",
      "Epoch 12/20\n",
      "22/22 [==============================] - 1s 29ms/step - loss: 0.0016\n",
      "Epoch 13/20\n",
      "22/22 [==============================] - 1s 30ms/step - loss: 0.0013\n",
      "Epoch 14/20\n",
      "22/22 [==============================] - 1s 28ms/step - loss: 0.0011\n",
      "Epoch 15/20\n",
      "22/22 [==============================] - 1s 30ms/step - loss: 9.1217e-04\n",
      "Epoch 16/20\n",
      "22/22 [==============================] - 1s 29ms/step - loss: 7.8398e-04\n",
      "Epoch 17/20\n",
      "22/22 [==============================] - 1s 28ms/step - loss: 6.7605e-04\n",
      "Epoch 18/20\n",
      "22/22 [==============================] - 1s 29ms/step - loss: 5.9095e-04\n",
      "Epoch 19/20\n",
      "22/22 [==============================] - 1s 28ms/step - loss: 5.2318e-04\n",
      "Epoch 20/20\n",
      "22/22 [==============================] - 1s 28ms/step - loss: 4.6229e-04\n"
     ]
    },
    {
     "data": {
      "text/plain": [
       "<keras.callbacks.History at 0x7f964678e410>"
      ]
     },
     "execution_count": 20,
     "metadata": {},
     "output_type": "execute_result"
    }
   ],
   "source": [
    "model2.compile(optimizer=\"adam\",loss=\"binary_crossentropy\")\n",
    "model2.fit(train_matrix,ytrain,epochs=20,batch_size=32)"
   ]
  },
  {
   "cell_type": "code",
   "execution_count": 21,
   "id": "a46fa161",
   "metadata": {
    "execution": {
     "iopub.execute_input": "2023-03-16T08:16:22.188427Z",
     "iopub.status.busy": "2023-03-16T08:16:22.187207Z",
     "iopub.status.idle": "2023-03-16T08:16:22.687947Z",
     "shell.execute_reply": "2023-03-16T08:16:22.685794Z"
    },
    "papermill": {
     "duration": 0.546584,
     "end_time": "2023-03-16T08:16:22.691186",
     "exception": false,
     "start_time": "2023-03-16T08:16:22.144602",
     "status": "completed"
    },
    "tags": []
   },
   "outputs": [
    {
     "name": "stdout",
     "output_type": "stream",
     "text": [
      "10/10 [==============================] - 0s 8ms/step\n",
      "              precision    recall  f1-score   support\n",
      "\n",
      "           0       0.74      0.66      0.70       151\n",
      "           1       0.69      0.77      0.73       149\n",
      "\n",
      "    accuracy                           0.71       300\n",
      "   macro avg       0.72      0.71      0.71       300\n",
      "weighted avg       0.72      0.71      0.71       300\n",
      "\n"
     ]
    }
   ],
   "source": [
    "# prediction\n",
    "y_pred = model2.predict(test_matrix)\n",
    "y_pred = np.where(y_pred >= 0.5, 1, 0)\n",
    "print(classification_report(ytest,y_pred))"
   ]
  },
  {
   "cell_type": "markdown",
   "id": "829e3466",
   "metadata": {
    "papermill": {
     "duration": 0.041516,
     "end_time": "2023-03-16T08:16:22.774561",
     "exception": false,
     "start_time": "2023-03-16T08:16:22.733045",
     "status": "completed"
    },
    "tags": []
   },
   "source": [
    "## Multi-layer RNN"
   ]
  },
  {
   "cell_type": "code",
   "execution_count": 22,
   "id": "19c3a190",
   "metadata": {
    "execution": {
     "iopub.execute_input": "2023-03-16T08:16:22.869949Z",
     "iopub.status.busy": "2023-03-16T08:16:22.869045Z",
     "iopub.status.idle": "2023-03-16T08:16:23.176017Z",
     "shell.execute_reply": "2023-03-16T08:16:23.174503Z"
    },
    "papermill": {
     "duration": 0.362687,
     "end_time": "2023-03-16T08:16:23.178979",
     "exception": false,
     "start_time": "2023-03-16T08:16:22.816292",
     "status": "completed"
    },
    "tags": []
   },
   "outputs": [],
   "source": [
    "# model\n",
    "model3 = Sequential()\n",
    "model3.add(Embedding(input_dim=vocab_length+1, # vocabulary length, +1 -> 0 tokens\n",
    "                    input_length=max_length,  # max length of document -> 45\n",
    "                    output_dim=100,           # hyperparameter -> vector length of each token\n",
    "                    mask_zero=True))          # do not learn for 0 token\n",
    "model3.add(SimpleRNN(32, return_sequences=True))\n",
    "model3.add(SimpleRNN(32, return_sequences=True))\n",
    "model3.add(SimpleRNN(32))\n",
    "model3.add(Dense(32,activation=\"relu\"))\n",
    "model3.add(Dense(16,activation=\"relu\"))\n",
    "model3.add(Dense(1,activation=\"sigmoid\"))"
   ]
  },
  {
   "cell_type": "code",
   "execution_count": 23,
   "id": "b6033a5e",
   "metadata": {
    "execution": {
     "iopub.execute_input": "2023-03-16T08:16:23.264007Z",
     "iopub.status.busy": "2023-03-16T08:16:23.262676Z",
     "iopub.status.idle": "2023-03-16T08:16:46.308639Z",
     "shell.execute_reply": "2023-03-16T08:16:46.307042Z"
    },
    "papermill": {
     "duration": 23.091164,
     "end_time": "2023-03-16T08:16:46.311367",
     "exception": false,
     "start_time": "2023-03-16T08:16:23.220203",
     "status": "completed"
    },
    "tags": []
   },
   "outputs": [
    {
     "name": "stdout",
     "output_type": "stream",
     "text": [
      "Epoch 1/20\n",
      "22/22 [==============================] - 5s 42ms/step - loss: 0.6937\n",
      "Epoch 2/20\n",
      "22/22 [==============================] - 1s 42ms/step - loss: 0.5906\n",
      "Epoch 3/20\n",
      "22/22 [==============================] - 1s 41ms/step - loss: 0.3692\n",
      "Epoch 4/20\n",
      "22/22 [==============================] - 1s 41ms/step - loss: 0.1303\n",
      "Epoch 5/20\n",
      "22/22 [==============================] - 1s 43ms/step - loss: 0.0417\n",
      "Epoch 6/20\n",
      "22/22 [==============================] - 1s 48ms/step - loss: 0.0181\n",
      "Epoch 7/20\n",
      "22/22 [==============================] - 1s 48ms/step - loss: 0.0077\n",
      "Epoch 8/20\n",
      "22/22 [==============================] - 1s 43ms/step - loss: 0.0054\n",
      "Epoch 9/20\n",
      "22/22 [==============================] - 1s 43ms/step - loss: 0.0066\n",
      "Epoch 10/20\n",
      "22/22 [==============================] - 1s 41ms/step - loss: 0.0120\n",
      "Epoch 11/20\n",
      "22/22 [==============================] - 1s 40ms/step - loss: 0.0067\n",
      "Epoch 12/20\n",
      "22/22 [==============================] - 1s 40ms/step - loss: 0.0023\n",
      "Epoch 13/20\n",
      "22/22 [==============================] - 1s 41ms/step - loss: 0.0014\n",
      "Epoch 14/20\n",
      "22/22 [==============================] - 1s 41ms/step - loss: 0.0011\n",
      "Epoch 15/20\n",
      "22/22 [==============================] - 1s 41ms/step - loss: 8.7630e-04\n",
      "Epoch 16/20\n",
      "22/22 [==============================] - 1s 41ms/step - loss: 7.2827e-04\n",
      "Epoch 17/20\n",
      "22/22 [==============================] - 1s 41ms/step - loss: 6.1347e-04\n",
      "Epoch 18/20\n",
      "22/22 [==============================] - 1s 41ms/step - loss: 5.3091e-04\n",
      "Epoch 19/20\n",
      "22/22 [==============================] - 1s 43ms/step - loss: 4.5821e-04\n",
      "Epoch 20/20\n",
      "22/22 [==============================] - 1s 41ms/step - loss: 4.0546e-04\n"
     ]
    },
    {
     "data": {
      "text/plain": [
       "<keras.callbacks.History at 0x7f9645dcdd10>"
      ]
     },
     "execution_count": 23,
     "metadata": {},
     "output_type": "execute_result"
    }
   ],
   "source": [
    "model3.compile(optimizer=\"adam\",loss=\"binary_crossentropy\")\n",
    "model3.fit(train_matrix,ytrain,epochs=20,batch_size=32)"
   ]
  },
  {
   "cell_type": "code",
   "execution_count": 24,
   "id": "96e0bf0b",
   "metadata": {
    "execution": {
     "iopub.execute_input": "2023-03-16T08:16:46.430309Z",
     "iopub.status.busy": "2023-03-16T08:16:46.428403Z",
     "iopub.status.idle": "2023-03-16T08:16:47.106638Z",
     "shell.execute_reply": "2023-03-16T08:16:47.105162Z"
    },
    "papermill": {
     "duration": 0.740041,
     "end_time": "2023-03-16T08:16:47.109710",
     "exception": false,
     "start_time": "2023-03-16T08:16:46.369669",
     "status": "completed"
    },
    "tags": []
   },
   "outputs": [
    {
     "name": "stdout",
     "output_type": "stream",
     "text": [
      "10/10 [==============================] - 1s 12ms/step\n",
      "              precision    recall  f1-score   support\n",
      "\n",
      "           0       0.53      0.59      0.56       151\n",
      "           1       0.53      0.47      0.50       149\n",
      "\n",
      "    accuracy                           0.53       300\n",
      "   macro avg       0.53      0.53      0.53       300\n",
      "weighted avg       0.53      0.53      0.53       300\n",
      "\n"
     ]
    }
   ],
   "source": [
    "# prediction\n",
    "y_pred = model3.predict(test_matrix)\n",
    "y_pred = np.where(y_pred >= 0.5, 1, 0)\n",
    "print(classification_report(ytest,y_pred))"
   ]
  },
  {
   "cell_type": "markdown",
   "id": "cce88767",
   "metadata": {
    "papermill": {
     "duration": 0.061324,
     "end_time": "2023-03-16T08:16:47.229972",
     "exception": false,
     "start_time": "2023-03-16T08:16:47.168648",
     "status": "completed"
    },
    "tags": []
   },
   "source": [
    "## Bidirectional Multilayer"
   ]
  },
  {
   "cell_type": "code",
   "execution_count": 25,
   "id": "4e04d7c0",
   "metadata": {
    "execution": {
     "iopub.execute_input": "2023-03-16T08:16:47.351353Z",
     "iopub.status.busy": "2023-03-16T08:16:47.350189Z",
     "iopub.status.idle": "2023-03-16T08:16:48.027384Z",
     "shell.execute_reply": "2023-03-16T08:16:48.025973Z"
    },
    "papermill": {
     "duration": 0.739989,
     "end_time": "2023-03-16T08:16:48.030265",
     "exception": false,
     "start_time": "2023-03-16T08:16:47.290276",
     "status": "completed"
    },
    "tags": []
   },
   "outputs": [],
   "source": [
    "# model\n",
    "model4 = Sequential()\n",
    "model4.add(Embedding(input_dim=vocab_length+1, # vocabulary length, +1 -> 0 tokens\n",
    "                    input_length=max_length,  # max length of document -> 45\n",
    "                    output_dim=100,           # hyperparameter -> vector length of each token\n",
    "                    mask_zero=True))          # do not learn for 0 token\n",
    "model4.add(Bidirectional(SimpleRNN(32, return_sequences=True)))\n",
    "model4.add(Bidirectional(SimpleRNN(32)))\n",
    "model4.add(Dense(32,activation=\"relu\"))\n",
    "model4.add(Dense(16,activation=\"relu\"))\n",
    "model4.add(Dense(1,activation=\"sigmoid\"))"
   ]
  },
  {
   "cell_type": "code",
   "execution_count": 26,
   "id": "2cde2b00",
   "metadata": {
    "execution": {
     "iopub.execute_input": "2023-03-16T08:16:48.149272Z",
     "iopub.status.busy": "2023-03-16T08:16:48.148862Z",
     "iopub.status.idle": "2023-03-16T08:17:16.743353Z",
     "shell.execute_reply": "2023-03-16T08:17:16.742065Z"
    },
    "papermill": {
     "duration": 28.658127,
     "end_time": "2023-03-16T08:17:16.746512",
     "exception": false,
     "start_time": "2023-03-16T08:16:48.088385",
     "status": "completed"
    },
    "tags": []
   },
   "outputs": [
    {
     "name": "stdout",
     "output_type": "stream",
     "text": [
      "Epoch 1/20\n",
      "22/22 [==============================] - 7s 50ms/step - loss: 0.6938\n",
      "Epoch 2/20\n",
      "22/22 [==============================] - 1s 54ms/step - loss: 0.5417\n",
      "Epoch 3/20\n",
      "22/22 [==============================] - 1s 51ms/step - loss: 0.2762\n",
      "Epoch 4/20\n",
      "22/22 [==============================] - 1s 53ms/step - loss: 0.0662\n",
      "Epoch 5/20\n",
      "22/22 [==============================] - 1s 52ms/step - loss: 0.0146\n",
      "Epoch 6/20\n",
      "22/22 [==============================] - 1s 52ms/step - loss: 0.0066\n",
      "Epoch 7/20\n",
      "22/22 [==============================] - 1s 51ms/step - loss: 0.0041\n",
      "Epoch 8/20\n",
      "22/22 [==============================] - 1s 50ms/step - loss: 0.0029\n",
      "Epoch 9/20\n",
      "22/22 [==============================] - 1s 50ms/step - loss: 0.0021\n",
      "Epoch 10/20\n",
      "22/22 [==============================] - 1s 64ms/step - loss: 0.0017\n",
      "Epoch 11/20\n",
      "22/22 [==============================] - 1s 50ms/step - loss: 0.0013\n",
      "Epoch 12/20\n",
      "22/22 [==============================] - 1s 51ms/step - loss: 0.0010\n",
      "Epoch 13/20\n",
      "22/22 [==============================] - 1s 51ms/step - loss: 8.6000e-04\n",
      "Epoch 14/20\n",
      "22/22 [==============================] - 1s 48ms/step - loss: 7.1290e-04\n",
      "Epoch 15/20\n",
      "22/22 [==============================] - 1s 51ms/step - loss: 5.9410e-04\n",
      "Epoch 16/20\n",
      "22/22 [==============================] - 1s 50ms/step - loss: 5.0952e-04\n",
      "Epoch 17/20\n",
      "22/22 [==============================] - 1s 51ms/step - loss: 4.2953e-04\n",
      "Epoch 18/20\n",
      "22/22 [==============================] - 1s 51ms/step - loss: 3.7890e-04\n",
      "Epoch 19/20\n",
      "22/22 [==============================] - 1s 51ms/step - loss: 3.2444e-04\n",
      "Epoch 20/20\n",
      "22/22 [==============================] - 1s 49ms/step - loss: 2.8817e-04\n"
     ]
    },
    {
     "data": {
      "text/plain": [
       "<keras.callbacks.History at 0x7f96455d4ad0>"
      ]
     },
     "execution_count": 26,
     "metadata": {},
     "output_type": "execute_result"
    }
   ],
   "source": [
    "model4.compile(optimizer=\"adam\",loss=\"binary_crossentropy\")\n",
    "model4.fit(train_matrix,ytrain,epochs=20,batch_size=32)"
   ]
  },
  {
   "cell_type": "code",
   "execution_count": 27,
   "id": "44e9bb5a",
   "metadata": {
    "execution": {
     "iopub.execute_input": "2023-03-16T08:17:16.916279Z",
     "iopub.status.busy": "2023-03-16T08:17:16.914904Z",
     "iopub.status.idle": "2023-03-16T08:17:17.736083Z",
     "shell.execute_reply": "2023-03-16T08:17:17.734850Z"
    },
    "papermill": {
     "duration": 0.910822,
     "end_time": "2023-03-16T08:17:17.739737",
     "exception": false,
     "start_time": "2023-03-16T08:17:16.828915",
     "status": "completed"
    },
    "tags": []
   },
   "outputs": [
    {
     "name": "stdout",
     "output_type": "stream",
     "text": [
      "10/10 [==============================] - 1s 14ms/step\n",
      "              precision    recall  f1-score   support\n",
      "\n",
      "           0       0.72      0.62      0.66       151\n",
      "           1       0.66      0.75      0.70       149\n",
      "\n",
      "    accuracy                           0.68       300\n",
      "   macro avg       0.69      0.68      0.68       300\n",
      "weighted avg       0.69      0.68      0.68       300\n",
      "\n"
     ]
    }
   ],
   "source": [
    "# prediction\n",
    "y_pred = model4.predict(test_matrix)\n",
    "y_pred = np.where(y_pred >= 0.5, 1, 0)\n",
    "print(classification_report(ytest,y_pred))"
   ]
  },
  {
   "cell_type": "markdown",
   "id": "0224770d",
   "metadata": {
    "papermill": {
     "duration": 0.10655,
     "end_time": "2023-03-16T08:17:17.927567",
     "exception": false,
     "start_time": "2023-03-16T08:17:17.821017",
     "status": "completed"
    },
    "tags": []
   },
   "source": [
    "## LSTM"
   ]
  },
  {
   "cell_type": "code",
   "execution_count": 28,
   "id": "80171595",
   "metadata": {
    "execution": {
     "iopub.execute_input": "2023-03-16T08:17:18.094376Z",
     "iopub.status.busy": "2023-03-16T08:17:18.093376Z",
     "iopub.status.idle": "2023-03-16T08:17:19.175511Z",
     "shell.execute_reply": "2023-03-16T08:17:19.174173Z"
    },
    "papermill": {
     "duration": 1.168302,
     "end_time": "2023-03-16T08:17:19.178638",
     "exception": false,
     "start_time": "2023-03-16T08:17:18.010336",
     "status": "completed"
    },
    "tags": []
   },
   "outputs": [],
   "source": [
    "# model\n",
    "model5 = Sequential()\n",
    "model5.add(Embedding(input_dim=vocab_length+1, # vocabulary length, +1 -> 0 tokens\n",
    "                    input_length=max_length,  # max length of document -> 45\n",
    "                    output_dim=100,           # hyperparameter -> vector length of each token\n",
    "                    mask_zero=True))          # do not learn for 0 token\n",
    "model5.add(LSTM(64))\n",
    "model5.add(Dense(64,activation=\"relu\"))\n",
    "model5.add(Dense(32,activation=\"relu\"))\n",
    "model5.add(Dense(1,activation=\"sigmoid\"))"
   ]
  },
  {
   "cell_type": "code",
   "execution_count": 29,
   "id": "8c4fc797",
   "metadata": {
    "execution": {
     "iopub.execute_input": "2023-03-16T08:17:19.345751Z",
     "iopub.status.busy": "2023-03-16T08:17:19.344937Z",
     "iopub.status.idle": "2023-03-16T08:17:44.612190Z",
     "shell.execute_reply": "2023-03-16T08:17:44.610600Z"
    },
    "papermill": {
     "duration": 25.354909,
     "end_time": "2023-03-16T08:17:44.615108",
     "exception": false,
     "start_time": "2023-03-16T08:17:19.260199",
     "status": "completed"
    },
    "tags": []
   },
   "outputs": [
    {
     "name": "stdout",
     "output_type": "stream",
     "text": [
      "Epoch 1/20\n",
      "22/22 [==============================] - 6s 36ms/step - loss: 0.6921\n",
      "Epoch 2/20\n",
      "22/22 [==============================] - 1s 36ms/step - loss: 0.6356\n",
      "Epoch 3/20\n",
      "22/22 [==============================] - 1s 36ms/step - loss: 0.3203\n",
      "Epoch 4/20\n",
      "22/22 [==============================] - 1s 35ms/step - loss: 0.1164\n",
      "Epoch 5/20\n",
      "22/22 [==============================] - 1s 35ms/step - loss: 0.0347\n",
      "Epoch 6/20\n",
      "22/22 [==============================] - 1s 39ms/step - loss: 0.0179\n",
      "Epoch 7/20\n",
      "22/22 [==============================] - 1s 37ms/step - loss: 0.0236\n",
      "Epoch 8/20\n",
      "22/22 [==============================] - 1s 36ms/step - loss: 0.0183\n",
      "Epoch 9/20\n",
      "22/22 [==============================] - 1s 35ms/step - loss: 0.0092\n",
      "Epoch 10/20\n",
      "22/22 [==============================] - 1s 36ms/step - loss: 0.0066\n",
      "Epoch 11/20\n",
      "22/22 [==============================] - 1s 36ms/step - loss: 0.0038\n",
      "Epoch 12/20\n",
      "22/22 [==============================] - 1s 36ms/step - loss: 0.0016\n",
      "Epoch 13/20\n",
      "22/22 [==============================] - 1s 36ms/step - loss: 0.0012\n",
      "Epoch 14/20\n",
      "22/22 [==============================] - 1s 36ms/step - loss: 9.9326e-04\n",
      "Epoch 15/20\n",
      "22/22 [==============================] - 1s 44ms/step - loss: 8.0265e-04\n",
      "Epoch 16/20\n",
      "22/22 [==============================] - 1s 38ms/step - loss: 6.7091e-04\n",
      "Epoch 17/20\n",
      "22/22 [==============================] - 1s 36ms/step - loss: 5.6840e-04\n",
      "Epoch 18/20\n",
      "22/22 [==============================] - 1s 35ms/step - loss: 4.8856e-04\n",
      "Epoch 19/20\n",
      "22/22 [==============================] - 1s 37ms/step - loss: 4.2225e-04\n",
      "Epoch 20/20\n",
      "22/22 [==============================] - 1s 34ms/step - loss: 3.7168e-04\n"
     ]
    },
    {
     "data": {
      "text/plain": [
       "<keras.callbacks.History at 0x7f960ae051d0>"
      ]
     },
     "execution_count": 29,
     "metadata": {},
     "output_type": "execute_result"
    }
   ],
   "source": [
    "model5.compile(optimizer=\"adam\",loss=\"binary_crossentropy\")\n",
    "model5.fit(train_matrix,ytrain,epochs=20,batch_size=32)"
   ]
  },
  {
   "cell_type": "code",
   "execution_count": 30,
   "id": "4470130e",
   "metadata": {
    "execution": {
     "iopub.execute_input": "2023-03-16T08:17:44.814311Z",
     "iopub.status.busy": "2023-03-16T08:17:44.813323Z",
     "iopub.status.idle": "2023-03-16T08:17:46.505165Z",
     "shell.execute_reply": "2023-03-16T08:17:46.503069Z"
    },
    "papermill": {
     "duration": 1.793584,
     "end_time": "2023-03-16T08:17:46.508036",
     "exception": false,
     "start_time": "2023-03-16T08:17:44.714452",
     "status": "completed"
    },
    "tags": []
   },
   "outputs": [
    {
     "name": "stdout",
     "output_type": "stream",
     "text": [
      "10/10 [==============================] - 1s 11ms/step\n",
      "              precision    recall  f1-score   support\n",
      "\n",
      "           0       0.77      0.76      0.76       151\n",
      "           1       0.76      0.77      0.76       149\n",
      "\n",
      "    accuracy                           0.76       300\n",
      "   macro avg       0.76      0.76      0.76       300\n",
      "weighted avg       0.76      0.76      0.76       300\n",
      "\n"
     ]
    }
   ],
   "source": [
    "# prediction\n",
    "y_pred = model5.predict(test_matrix)\n",
    "y_pred = np.where(y_pred >= 0.5, 1, 0)\n",
    "print(classification_report(ytest,y_pred))"
   ]
  },
  {
   "cell_type": "markdown",
   "id": "7f4a4e38",
   "metadata": {
    "papermill": {
     "duration": 0.096891,
     "end_time": "2023-03-16T08:17:46.701987",
     "exception": false,
     "start_time": "2023-03-16T08:17:46.605096",
     "status": "completed"
    },
    "tags": []
   },
   "source": [
    "## Bidirectional LSTM"
   ]
  },
  {
   "cell_type": "code",
   "execution_count": 31,
   "id": "27f878b1",
   "metadata": {
    "execution": {
     "iopub.execute_input": "2023-03-16T08:17:46.902212Z",
     "iopub.status.busy": "2023-03-16T08:17:46.901766Z",
     "iopub.status.idle": "2023-03-16T08:17:49.360128Z",
     "shell.execute_reply": "2023-03-16T08:17:49.358797Z"
    },
    "papermill": {
     "duration": 2.563934,
     "end_time": "2023-03-16T08:17:49.363775",
     "exception": false,
     "start_time": "2023-03-16T08:17:46.799841",
     "status": "completed"
    },
    "tags": []
   },
   "outputs": [],
   "source": [
    "# model\n",
    "model6 = Sequential()\n",
    "model6.add(Embedding(input_dim=vocab_length+1, # vocabulary length, +1 -> 0 tokens\n",
    "                    input_length=max_length,  # max length of document -> 45\n",
    "                    output_dim=100,           # hyperparameter -> vector length of each token\n",
    "                    mask_zero=True))          # do not learn for 0 token\n",
    "model6.add(Bidirectional(LSTM(64)))\n",
    "model6.add(Dense(64,activation=\"relu\"))\n",
    "model6.add(Dense(64,activation=\"relu\"))\n",
    "model6.add(Dense(1,activation=\"sigmoid\"))"
   ]
  },
  {
   "cell_type": "code",
   "execution_count": 32,
   "id": "c84425a9",
   "metadata": {
    "execution": {
     "iopub.execute_input": "2023-03-16T08:17:49.638922Z",
     "iopub.status.busy": "2023-03-16T08:17:49.638253Z",
     "iopub.status.idle": "2023-03-16T08:18:20.190194Z",
     "shell.execute_reply": "2023-03-16T08:18:20.189112Z"
    },
    "papermill": {
     "duration": 30.654137,
     "end_time": "2023-03-16T08:18:20.192551",
     "exception": false,
     "start_time": "2023-03-16T08:17:49.538414",
     "status": "completed"
    },
    "tags": []
   },
   "outputs": [
    {
     "name": "stdout",
     "output_type": "stream",
     "text": [
      "Epoch 1/20\n",
      "22/22 [==============================] - 10s 49ms/step - loss: 0.6920\n",
      "Epoch 2/20\n",
      "22/22 [==============================] - 1s 47ms/step - loss: 0.6272\n",
      "Epoch 3/20\n",
      "22/22 [==============================] - 1s 47ms/step - loss: 0.2454\n",
      "Epoch 4/20\n",
      "22/22 [==============================] - 1s 50ms/step - loss: 0.0747\n",
      "Epoch 5/20\n",
      "22/22 [==============================] - 1s 48ms/step - loss: 0.0404\n",
      "Epoch 6/20\n",
      "22/22 [==============================] - 1s 48ms/step - loss: 0.0199\n",
      "Epoch 7/20\n",
      "22/22 [==============================] - 1s 48ms/step - loss: 0.0492\n",
      "Epoch 8/20\n",
      "22/22 [==============================] - 1s 48ms/step - loss: 0.0901\n",
      "Epoch 9/20\n",
      "22/22 [==============================] - 1s 63ms/step - loss: 0.0458\n",
      "Epoch 10/20\n",
      "22/22 [==============================] - 1s 49ms/step - loss: 0.0177\n",
      "Epoch 11/20\n",
      "22/22 [==============================] - 1s 48ms/step - loss: 0.0084\n",
      "Epoch 12/20\n",
      "22/22 [==============================] - 1s 47ms/step - loss: 0.0051\n",
      "Epoch 13/20\n",
      "22/22 [==============================] - 1s 48ms/step - loss: 0.0029\n",
      "Epoch 14/20\n",
      "22/22 [==============================] - 1s 50ms/step - loss: 0.0020\n",
      "Epoch 15/20\n",
      "22/22 [==============================] - 1s 49ms/step - loss: 0.0016\n",
      "Epoch 16/20\n",
      "22/22 [==============================] - 1s 48ms/step - loss: 0.0012\n",
      "Epoch 17/20\n",
      "22/22 [==============================] - 1s 49ms/step - loss: 0.0010\n",
      "Epoch 18/20\n",
      "22/22 [==============================] - 1s 49ms/step - loss: 8.5603e-04\n",
      "Epoch 19/20\n",
      "22/22 [==============================] - 1s 48ms/step - loss: 7.3912e-04\n",
      "Epoch 20/20\n",
      "22/22 [==============================] - 1s 50ms/step - loss: 6.2598e-04\n"
     ]
    },
    {
     "data": {
      "text/plain": [
       "<keras.callbacks.History at 0x7f960b2f0690>"
      ]
     },
     "execution_count": 32,
     "metadata": {},
     "output_type": "execute_result"
    }
   ],
   "source": [
    "model6.compile(optimizer=\"adam\",loss=\"binary_crossentropy\")\n",
    "model6.fit(train_matrix,ytrain,epochs=20,batch_size=32)"
   ]
  },
  {
   "cell_type": "code",
   "execution_count": 33,
   "id": "e70facf6",
   "metadata": {
    "execution": {
     "iopub.execute_input": "2023-03-16T08:18:20.431374Z",
     "iopub.status.busy": "2023-03-16T08:18:20.430923Z",
     "iopub.status.idle": "2023-03-16T08:18:23.326541Z",
     "shell.execute_reply": "2023-03-16T08:18:23.325055Z"
    },
    "papermill": {
     "duration": 3.018743,
     "end_time": "2023-03-16T08:18:23.329299",
     "exception": false,
     "start_time": "2023-03-16T08:18:20.310556",
     "status": "completed"
    },
    "tags": []
   },
   "outputs": [
    {
     "name": "stdout",
     "output_type": "stream",
     "text": [
      "10/10 [==============================] - 3s 14ms/step\n",
      "              precision    recall  f1-score   support\n",
      "\n",
      "           0       0.78      0.72      0.75       151\n",
      "           1       0.74      0.80      0.77       149\n",
      "\n",
      "    accuracy                           0.76       300\n",
      "   macro avg       0.76      0.76      0.76       300\n",
      "weighted avg       0.76      0.76      0.76       300\n",
      "\n"
     ]
    }
   ],
   "source": [
    "# prediction\n",
    "y_pred = model6.predict(test_matrix)\n",
    "y_pred = np.where(y_pred >= 0.5, 1, 0)\n",
    "print(classification_report(ytest,y_pred))"
   ]
  },
  {
   "cell_type": "markdown",
   "id": "cc7827e2",
   "metadata": {
    "papermill": {
     "duration": 0.117947,
     "end_time": "2023-03-16T08:18:23.566956",
     "exception": false,
     "start_time": "2023-03-16T08:18:23.449009",
     "status": "completed"
    },
    "tags": []
   },
   "source": [
    "## Multi layer LSTM"
   ]
  },
  {
   "cell_type": "code",
   "execution_count": 34,
   "id": "13155222",
   "metadata": {
    "execution": {
     "iopub.execute_input": "2023-03-16T08:18:23.809329Z",
     "iopub.status.busy": "2023-03-16T08:18:23.808920Z",
     "iopub.status.idle": "2023-03-16T08:18:26.441498Z",
     "shell.execute_reply": "2023-03-16T08:18:26.440339Z"
    },
    "papermill": {
     "duration": 2.756904,
     "end_time": "2023-03-16T08:18:26.444566",
     "exception": false,
     "start_time": "2023-03-16T08:18:23.687662",
     "status": "completed"
    },
    "tags": []
   },
   "outputs": [],
   "source": [
    "# model\n",
    "model7 = Sequential()\n",
    "model7.add(Embedding(input_dim=vocab_length+1, # vocabulary length, +1 -> 0 tokens\n",
    "                    input_length=max_length,  # max length of document -> 45\n",
    "                    output_dim=100,           # hyperparameter -> vector length of each token\n",
    "                    mask_zero=True))          # do not learn for 0 token\n",
    "model7.add(LSTM(64, return_sequences=True))\n",
    "model7.add(LSTM(64))\n",
    "model7.add(Dense(64,activation=\"relu\"))\n",
    "model7.add(Dense(64,activation=\"relu\"))\n",
    "model7.add(Dense(1,activation=\"sigmoid\"))"
   ]
  },
  {
   "cell_type": "code",
   "execution_count": 35,
   "id": "ac142555",
   "metadata": {
    "execution": {
     "iopub.execute_input": "2023-03-16T08:18:26.684464Z",
     "iopub.status.busy": "2023-03-16T08:18:26.684061Z",
     "iopub.status.idle": "2023-03-16T08:19:05.383812Z",
     "shell.execute_reply": "2023-03-16T08:19:05.381960Z"
    },
    "papermill": {
     "duration": 38.821667,
     "end_time": "2023-03-16T08:19:05.386465",
     "exception": false,
     "start_time": "2023-03-16T08:18:26.564798",
     "status": "completed"
    },
    "tags": []
   },
   "outputs": [
    {
     "name": "stdout",
     "output_type": "stream",
     "text": [
      "Epoch 1/20\n",
      "22/22 [==============================] - 11s 66ms/step - loss: 0.6931\n",
      "Epoch 2/20\n",
      "22/22 [==============================] - 1s 65ms/step - loss: 0.6171\n",
      "Epoch 3/20\n",
      "22/22 [==============================] - 2s 75ms/step - loss: 0.2802\n",
      "Epoch 4/20\n",
      "22/22 [==============================] - 1s 65ms/step - loss: 0.1052\n",
      "Epoch 5/20\n",
      "22/22 [==============================] - 1s 66ms/step - loss: 0.0463\n",
      "Epoch 6/20\n",
      "22/22 [==============================] - 1s 67ms/step - loss: 0.0242\n",
      "Epoch 7/20\n",
      "22/22 [==============================] - 1s 68ms/step - loss: 0.0176\n",
      "Epoch 8/20\n",
      "22/22 [==============================] - 2s 69ms/step - loss: 0.0094\n",
      "Epoch 9/20\n",
      "22/22 [==============================] - 1s 66ms/step - loss: 0.0034\n",
      "Epoch 10/20\n",
      "22/22 [==============================] - 1s 66ms/step - loss: 0.0020\n",
      "Epoch 11/20\n",
      "22/22 [==============================] - 1s 65ms/step - loss: 0.0013\n",
      "Epoch 12/20\n",
      "22/22 [==============================] - 1s 66ms/step - loss: 9.3991e-04\n",
      "Epoch 13/20\n",
      "22/22 [==============================] - 1s 66ms/step - loss: 7.1463e-04\n",
      "Epoch 14/20\n",
      "22/22 [==============================] - 1s 66ms/step - loss: 5.8096e-04\n",
      "Epoch 15/20\n",
      "22/22 [==============================] - 2s 70ms/step - loss: 4.7072e-04\n",
      "Epoch 16/20\n",
      "22/22 [==============================] - 1s 67ms/step - loss: 3.8216e-04\n",
      "Epoch 17/20\n",
      "22/22 [==============================] - 1s 66ms/step - loss: 3.2137e-04\n",
      "Epoch 18/20\n",
      "22/22 [==============================] - 1s 64ms/step - loss: 2.7834e-04\n",
      "Epoch 19/20\n",
      "22/22 [==============================] - 1s 65ms/step - loss: 2.3786e-04\n",
      "Epoch 20/20\n",
      "22/22 [==============================] - 1s 67ms/step - loss: 2.1008e-04\n"
     ]
    },
    {
     "data": {
      "text/plain": [
       "<keras.callbacks.History at 0x7f9609db7a90>"
      ]
     },
     "execution_count": 35,
     "metadata": {},
     "output_type": "execute_result"
    }
   ],
   "source": [
    "model7.compile(optimizer=\"adam\",loss=\"binary_crossentropy\")\n",
    "model7.fit(train_matrix,ytrain,epochs=20,batch_size=32)"
   ]
  },
  {
   "cell_type": "code",
   "execution_count": 36,
   "id": "fb73d448",
   "metadata": {
    "execution": {
     "iopub.execute_input": "2023-03-16T08:19:05.690399Z",
     "iopub.status.busy": "2023-03-16T08:19:05.689610Z",
     "iopub.status.idle": "2023-03-16T08:19:08.709010Z",
     "shell.execute_reply": "2023-03-16T08:19:08.707711Z"
    },
    "papermill": {
     "duration": 3.174598,
     "end_time": "2023-03-16T08:19:08.712053",
     "exception": false,
     "start_time": "2023-03-16T08:19:05.537455",
     "status": "completed"
    },
    "tags": []
   },
   "outputs": [
    {
     "name": "stdout",
     "output_type": "stream",
     "text": [
      "10/10 [==============================] - 3s 20ms/step\n",
      "              precision    recall  f1-score   support\n",
      "\n",
      "           0       0.75      0.74      0.74       151\n",
      "           1       0.74      0.74      0.74       149\n",
      "\n",
      "    accuracy                           0.74       300\n",
      "   macro avg       0.74      0.74      0.74       300\n",
      "weighted avg       0.74      0.74      0.74       300\n",
      "\n"
     ]
    }
   ],
   "source": [
    "# prediction\n",
    "y_pred = model7.predict(test_matrix)\n",
    "y_pred = np.where(y_pred >= 0.5, 1, 0)\n",
    "print(classification_report(ytest,y_pred))"
   ]
  },
  {
   "cell_type": "markdown",
   "id": "74c7fbc2",
   "metadata": {
    "papermill": {
     "duration": 0.148824,
     "end_time": "2023-03-16T08:19:09.009756",
     "exception": false,
     "start_time": "2023-03-16T08:19:08.860932",
     "status": "completed"
    },
    "tags": []
   },
   "source": [
    "## GRU"
   ]
  },
  {
   "cell_type": "code",
   "execution_count": 37,
   "id": "f4e2b55b",
   "metadata": {
    "execution": {
     "iopub.execute_input": "2023-03-16T08:19:09.307936Z",
     "iopub.status.busy": "2023-03-16T08:19:09.307264Z",
     "iopub.status.idle": "2023-03-16T08:19:10.349954Z",
     "shell.execute_reply": "2023-03-16T08:19:10.348482Z"
    },
    "papermill": {
     "duration": 1.195176,
     "end_time": "2023-03-16T08:19:10.353480",
     "exception": false,
     "start_time": "2023-03-16T08:19:09.158304",
     "status": "completed"
    },
    "tags": []
   },
   "outputs": [],
   "source": [
    "# model\n",
    "model8 = Sequential()\n",
    "model8.add(Embedding(input_dim=vocab_length+1, # vocabulary length, +1 -> 0 tokens\n",
    "                    input_length=max_length,  # max length of document -> 45\n",
    "                    output_dim=100,           # hyperparameter -> vector length of each token\n",
    "                    mask_zero=True))          # do not learn for 0 token\n",
    "model8.add(GRU(32))\n",
    "model8.add(Dense(32,activation=\"relu\"))\n",
    "model8.add(Dense(16,activation=\"relu\"))\n",
    "model8.add(Dense(1,activation=\"sigmoid\"))"
   ]
  },
  {
   "cell_type": "code",
   "execution_count": 38,
   "id": "cc0fe41e",
   "metadata": {
    "execution": {
     "iopub.execute_input": "2023-03-16T08:19:10.674591Z",
     "iopub.status.busy": "2023-03-16T08:19:10.673736Z",
     "iopub.status.idle": "2023-03-16T08:19:35.850585Z",
     "shell.execute_reply": "2023-03-16T08:19:35.849181Z"
    },
    "papermill": {
     "duration": 25.34128,
     "end_time": "2023-03-16T08:19:35.853415",
     "exception": false,
     "start_time": "2023-03-16T08:19:10.512135",
     "status": "completed"
    },
    "tags": []
   },
   "outputs": [
    {
     "name": "stdout",
     "output_type": "stream",
     "text": [
      "Epoch 1/20\n",
      "22/22 [==============================] - 6s 30ms/step - loss: 0.6921\n",
      "Epoch 2/20\n",
      "22/22 [==============================] - 1s 31ms/step - loss: 0.6707\n",
      "Epoch 3/20\n",
      "22/22 [==============================] - 1s 30ms/step - loss: 0.5472\n",
      "Epoch 4/20\n",
      "22/22 [==============================] - 1s 30ms/step - loss: 0.2717\n",
      "Epoch 5/20\n",
      "22/22 [==============================] - 1s 31ms/step - loss: 0.1040\n",
      "Epoch 6/20\n",
      "22/22 [==============================] - 1s 30ms/step - loss: 0.0397\n",
      "Epoch 7/20\n",
      "22/22 [==============================] - 1s 31ms/step - loss: 0.0208\n",
      "Epoch 8/20\n",
      "22/22 [==============================] - 1s 30ms/step - loss: 0.0151\n",
      "Epoch 9/20\n",
      "22/22 [==============================] - 1s 30ms/step - loss: 0.0118\n",
      "Epoch 10/20\n",
      "22/22 [==============================] - 1s 30ms/step - loss: 0.0080\n",
      "Epoch 11/20\n",
      "22/22 [==============================] - 1s 30ms/step - loss: 0.0066\n",
      "Epoch 12/20\n",
      "22/22 [==============================] - 1s 31ms/step - loss: 0.0067\n",
      "Epoch 13/20\n",
      "22/22 [==============================] - 1s 30ms/step - loss: 0.0020\n",
      "Epoch 14/20\n",
      "22/22 [==============================] - 1s 31ms/step - loss: 0.0013\n",
      "Epoch 15/20\n",
      "22/22 [==============================] - 1s 31ms/step - loss: 0.0011\n",
      "Epoch 16/20\n",
      "22/22 [==============================] - 1s 30ms/step - loss: 8.0796e-04\n",
      "Epoch 17/20\n",
      "22/22 [==============================] - 1s 30ms/step - loss: 6.6872e-04\n",
      "Epoch 18/20\n",
      "22/22 [==============================] - 1s 31ms/step - loss: 5.6524e-04\n",
      "Epoch 19/20\n",
      "22/22 [==============================] - 1s 30ms/step - loss: 4.8855e-04\n",
      "Epoch 20/20\n",
      "22/22 [==============================] - 1s 32ms/step - loss: 4.2583e-04\n"
     ]
    },
    {
     "data": {
      "text/plain": [
       "<keras.callbacks.History at 0x7f95f74bafd0>"
      ]
     },
     "execution_count": 38,
     "metadata": {},
     "output_type": "execute_result"
    }
   ],
   "source": [
    "model8.compile(optimizer=\"adam\",loss=\"binary_crossentropy\")\n",
    "model8.fit(train_matrix,ytrain,epochs=20,batch_size=32)"
   ]
  },
  {
   "cell_type": "code",
   "execution_count": 39,
   "id": "7de0be57",
   "metadata": {
    "execution": {
     "iopub.execute_input": "2023-03-16T08:19:36.249916Z",
     "iopub.status.busy": "2023-03-16T08:19:36.248666Z",
     "iopub.status.idle": "2023-03-16T08:19:37.758392Z",
     "shell.execute_reply": "2023-03-16T08:19:37.756711Z"
    },
    "papermill": {
     "duration": 1.680248,
     "end_time": "2023-03-16T08:19:37.761336",
     "exception": false,
     "start_time": "2023-03-16T08:19:36.081088",
     "status": "completed"
    },
    "tags": []
   },
   "outputs": [
    {
     "name": "stdout",
     "output_type": "stream",
     "text": [
      "10/10 [==============================] - 1s 8ms/step\n",
      "              precision    recall  f1-score   support\n",
      "\n",
      "           0       0.71      0.75      0.73       151\n",
      "           1       0.73      0.68      0.71       149\n",
      "\n",
      "    accuracy                           0.72       300\n",
      "   macro avg       0.72      0.72      0.72       300\n",
      "weighted avg       0.72      0.72      0.72       300\n",
      "\n"
     ]
    }
   ],
   "source": [
    "# prediction\n",
    "y_pred = model8.predict(test_matrix)\n",
    "y_pred = np.where(y_pred >= 0.5, 1, 0)\n",
    "print(classification_report(ytest,y_pred))"
   ]
  }
 ],
 "metadata": {
  "kernelspec": {
   "display_name": "Python 3",
   "language": "python",
   "name": "python3"
  },
  "language_info": {
   "codemirror_mode": {
    "name": "ipython",
    "version": 3
   },
   "file_extension": ".py",
   "mimetype": "text/x-python",
   "name": "python",
   "nbconvert_exporter": "python",
   "pygments_lexer": "ipython3",
   "version": "3.7.12"
  },
  "papermill": {
   "default_parameters": {},
   "duration": 252.04118,
   "end_time": "2023-03-16T08:19:41.181512",
   "environment_variables": {},
   "exception": null,
   "input_path": "__notebook__.ipynb",
   "output_path": "__notebook__.ipynb",
   "parameters": {},
   "start_time": "2023-03-16T08:15:29.140332",
   "version": "2.4.0"
  }
 },
 "nbformat": 4,
 "nbformat_minor": 5
}
