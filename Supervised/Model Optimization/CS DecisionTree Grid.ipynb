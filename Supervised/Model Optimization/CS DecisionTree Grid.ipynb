{
 "cells": [
  {
   "cell_type": "code",
   "execution_count": null,
   "id": "3b60e524",
   "metadata": {},
   "outputs": [],
   "source": [
    "import warnings\n",
    "warnings.filterwarnings(\"ignore\")\n",
    "\n",
    "import numpy as np\n",
    "import pandas as pd\n",
    "import matplotlib.pyplot as plt\n",
    "import seaborn as sns"
   ]
  },
  {
   "cell_type": "code",
   "execution_count": null,
   "id": "5d003693",
   "metadata": {},
   "outputs": [],
   "source": [
    "df = pd.read_csv(\"bank.csv\")\n",
    "df.head()"
   ]
  },
  {
   "cell_type": "code",
   "execution_count": null,
   "id": "2521ac07",
   "metadata": {},
   "outputs": [],
   "source": [
    "#EDA"
   ]
  },
  {
   "cell_type": "code",
   "execution_count": null,
   "id": "63a0010e",
   "metadata": {},
   "outputs": [],
   "source": [
    "x = df.iloc[:, :-1]\n",
    "y = df.iloc[:, -1]"
   ]
  },
  {
   "cell_type": "code",
   "execution_count": null,
   "id": "2516b4cd",
   "metadata": {},
   "outputs": [],
   "source": [
    "from sklearn.model_selection import train_test_split\n",
    "xtrain, xtest, ytrain, ytest = train_test_split(x,y, test_size=0.3, random_state=1)"
   ]
  },
  {
   "cell_type": "code",
   "execution_count": null,
   "id": "67d059da",
   "metadata": {},
   "outputs": [],
   "source": [
    "from sklearn.neighbors import KNeighborsClassifier\n",
    "from sklearn.linear_model import LogisticRegression\n",
    "from sklearn.svm import SVC\n",
    "from sklearn.tree import DecisionTreeClassifier"
   ]
  },
  {
   "cell_type": "code",
   "execution_count": null,
   "id": "0b240de7",
   "metadata": {},
   "outputs": [],
   "source": [
    "from sklearn.metrics import classification_report, accuracy_score"
   ]
  },
  {
   "cell_type": "code",
   "execution_count": null,
   "id": "17bf7c80",
   "metadata": {},
   "outputs": [],
   "source": [
    "def mymodel(model):\n",
    "    model.fit(xtrain, ytrain)\n",
    "    ypred = model.predict(xtest)\n",
    "    \n",
    "    train = model.score(xtrain, ytrain)\n",
    "    test = model.score(xtest, ytest)\n",
    "    \n",
    "    print(f\"Training Accuracy : {train}\\nTesting Accuracy : {test}\\n\\n\")\n",
    "    print(classification_report(ytest, ypred))\n",
    "    \n",
    "    return model"
   ]
  },
  {
   "cell_type": "code",
   "execution_count": null,
   "id": "6b79459e",
   "metadata": {},
   "outputs": [],
   "source": [
    "knn = mymodel(KNeighborsClassifier())"
   ]
  },
  {
   "cell_type": "code",
   "execution_count": null,
   "id": "9cec3795",
   "metadata": {},
   "outputs": [],
   "source": [
    "logreg = mymodel(LogisticRegression())"
   ]
  },
  {
   "cell_type": "code",
   "execution_count": null,
   "id": "6ededb3e",
   "metadata": {},
   "outputs": [],
   "source": [
    "svm = mymodel(SVC())"
   ]
  },
  {
   "cell_type": "code",
   "execution_count": null,
   "id": "35cf1530",
   "metadata": {},
   "outputs": [],
   "source": [
    "dt = mymodel(DecisionTreeClassifier())"
   ]
  },
  {
   "cell_type": "code",
   "execution_count": null,
   "id": "df8b8c8b",
   "metadata": {},
   "outputs": [],
   "source": [
    "from sklearn.preprocessing import StandardScaler\n",
    "sc = StandardScaler()\n",
    "xtrain = sc.fit_transform(xtrain)\n",
    "xtest = sc.transform(xtest)"
   ]
  },
  {
   "cell_type": "code",
   "execution_count": null,
   "id": "40953550",
   "metadata": {},
   "outputs": [],
   "source": [
    "knn = mymodel(KNeighborsClassifier())"
   ]
  },
  {
   "cell_type": "code",
   "execution_count": null,
   "id": "38dd15a7",
   "metadata": {},
   "outputs": [],
   "source": [
    "logreg = mymodel(LogisticRegression())"
   ]
  },
  {
   "cell_type": "code",
   "execution_count": null,
   "id": "33e6a068",
   "metadata": {},
   "outputs": [],
   "source": [
    "svm = mymodel(SVC())"
   ]
  },
  {
   "cell_type": "code",
   "execution_count": null,
   "id": "aabcee82",
   "metadata": {},
   "outputs": [],
   "source": [
    "dt = mymodel(DecisionTreeClassifier())"
   ]
  },
  {
   "cell_type": "markdown",
   "id": "49d3cf61",
   "metadata": {},
   "source": [
    "# Hyperparameter Tuning"
   ]
  },
  {
   "cell_type": "code",
   "execution_count": null,
   "id": "f6b3f7f3",
   "metadata": {},
   "outputs": [],
   "source": [
    "dt1 = mymodel(DecisionTreeClassifier(max_depth=10))"
   ]
  },
  {
   "cell_type": "code",
   "execution_count": null,
   "id": "eb038d1f",
   "metadata": {},
   "outputs": [],
   "source": [
    "for i in range(1, 50):\n",
    "    dt = DecisionTreeClassifier(max_depth=i)\n",
    "    dt.fit(xtrain, ytrain)\n",
    "    train = dt.score(xtrain, ytrain)\n",
    "    test = dt.score(xtest, ytest)\n",
    "    \n",
    "    print(f\"{i}  {train}  {test}\")\n",
    "    "
   ]
  },
  {
   "cell_type": "code",
   "execution_count": null,
   "id": "3ea68072",
   "metadata": {},
   "outputs": [],
   "source": [
    "dt2 = mymodel(DecisionTreeClassifier(max_depth=7))"
   ]
  },
  {
   "cell_type": "code",
   "execution_count": null,
   "id": "ae2cfc21",
   "metadata": {},
   "outputs": [],
   "source": [
    "dt3 = mymodel(DecisionTreeClassifier(min_samples_leaf=10))"
   ]
  },
  {
   "cell_type": "code",
   "execution_count": null,
   "id": "526b95df",
   "metadata": {},
   "outputs": [],
   "source": [
    "for i in range(1, 75):\n",
    "    dt = DecisionTreeClassifier(min_samples_leaf=i)\n",
    "    dt.fit(xtrain, ytrain)\n",
    "    train = dt.score(xtrain, ytrain)\n",
    "    test = dt.score(xtest, ytest)\n",
    "    \n",
    "    print(f\"{i}  {train}  {test}\")\n",
    "    "
   ]
  },
  {
   "cell_type": "code",
   "execution_count": null,
   "id": "4c988b6e",
   "metadata": {},
   "outputs": [],
   "source": [
    "dt4 = mymodel(DecisionTreeClassifier(min_samples_leaf=25))"
   ]
  },
  {
   "cell_type": "code",
   "execution_count": null,
   "id": "b4bfb0c8",
   "metadata": {},
   "outputs": [],
   "source": [
    "dt5 = mymodel(DecisionTreeClassifier(max_depth = 7, min_samples_leaf=25))"
   ]
  },
  {
   "cell_type": "markdown",
   "id": "5bc2cfd3",
   "metadata": {},
   "source": [
    "# Entropy"
   ]
  },
  {
   "cell_type": "code",
   "execution_count": null,
   "id": "a20cd9ae",
   "metadata": {},
   "outputs": [],
   "source": [
    "dt6 = mymodel(DecisionTreeClassifier(criterion= \"entropy\", min_samples_leaf=25))"
   ]
  },
  {
   "cell_type": "code",
   "execution_count": null,
   "id": "ecf663b0",
   "metadata": {},
   "outputs": [],
   "source": [
    "for i in range(1, 75):\n",
    "    dt = DecisionTreeClassifier(criterion= \"entropy\", min_samples_leaf=i)\n",
    "    dt.fit(xtrain, ytrain)\n",
    "    train = dt.score(xtrain, ytrain)\n",
    "    test = dt.score(xtest, ytest)\n",
    "    \n",
    "    print(f\"{i}  {train}  {test}\")\n",
    "    "
   ]
  },
  {
   "cell_type": "code",
   "execution_count": null,
   "id": "2a61fe36",
   "metadata": {},
   "outputs": [],
   "source": [
    "dt7 = mymodel(DecisionTreeClassifier(criterion= \"entropy\", min_samples_leaf=70))"
   ]
  },
  {
   "cell_type": "code",
   "execution_count": null,
   "id": "e25fec40",
   "metadata": {},
   "outputs": [],
   "source": [
    "dt7 = mymodel(DecisionTreeClassifier(criterion= \"entropy\", max_depth=7))"
   ]
  },
  {
   "cell_type": "code",
   "execution_count": null,
   "id": "457cb29b",
   "metadata": {},
   "outputs": [],
   "source": [
    "for i in range(1, 75):\n",
    "    dt = DecisionTreeClassifier(criterion= \"entropy\", max_depth=i)\n",
    "    dt.fit(xtrain, ytrain)\n",
    "    train = dt.score(xtrain, ytrain)\n",
    "    test = dt.score(xtest, ytest)\n",
    "    \n",
    "    print(f\"{i}  {train}  {test}\")\n",
    "    "
   ]
  },
  {
   "cell_type": "code",
   "execution_count": null,
   "id": "d154862a",
   "metadata": {},
   "outputs": [],
   "source": [
    "dt8 = mymodel(DecisionTreeClassifier(criterion= \"entropy\", max_depth=7))"
   ]
  },
  {
   "cell_type": "code",
   "execution_count": null,
   "id": "0afff3a9",
   "metadata": {},
   "outputs": [],
   "source": [
    "dt9 = mymodel(DecisionTreeClassifier(criterion= \"entropy\", max_depth=7, min_samples_leaf=70 ))"
   ]
  },
  {
   "cell_type": "markdown",
   "id": "e04d26fb",
   "metadata": {},
   "source": [
    "# Final Result"
   ]
  },
  {
   "cell_type": "code",
   "execution_count": null,
   "id": "a637fcec",
   "metadata": {},
   "outputs": [],
   "source": [
    "dt10 = mymodel(DecisionTreeClassifier(criterion= \"entropy\", min_samples_leaf=70))"
   ]
  },
  {
   "cell_type": "code",
   "execution_count": null,
   "id": "1a9b91bf",
   "metadata": {},
   "outputs": [],
   "source": [
    "dt11 = mymodel(DecisionTreeClassifier(criterion=\"gini\", min_samples_leaf=25))"
   ]
  },
  {
   "cell_type": "code",
   "execution_count": null,
   "id": "2845ab9f",
   "metadata": {},
   "outputs": [],
   "source": [
    "#entropy\n",
    "from sklearn.model_selection import cross_val_score\n",
    "cvs = cross_val_score(dt10, x,y, cv=5, scoring=\"accuracy\")\n",
    "print(f\"Avg Accuracy : {cvs.mean()}\\nSTD : {cvs.std()}\")"
   ]
  },
  {
   "cell_type": "code",
   "execution_count": null,
   "id": "6cce20a0",
   "metadata": {},
   "outputs": [],
   "source": [
    "#gini\n",
    "cvs = cross_val_score(dt11, x,y, cv=5, scoring=\"accuracy\")\n",
    "print(f\"Avg Accuracy : {cvs.mean()}\\nSTD : {cvs.std()}\")"
   ]
  },
  {
   "cell_type": "markdown",
   "id": "3a0fdf9c",
   "metadata": {},
   "source": [
    "# GridSearchCV"
   ]
  },
  {
   "cell_type": "code",
   "execution_count": null,
   "id": "4b445877",
   "metadata": {},
   "outputs": [],
   "source": [
    "list(range(1, 50, 5))"
   ]
  },
  {
   "cell_type": "code",
   "execution_count": null,
   "id": "823a9509",
   "metadata": {},
   "outputs": [],
   "source": [
    "parameters = {\n",
    "    \"criterion\":[\"gini\", \"entropy\"],\n",
    "    \"max_depth\": list(range(1,50, 5)),\n",
    "    \"min_samples_leaf\": list(range(1, 50, 5))\n",
    "}"
   ]
  },
  {
   "cell_type": "code",
   "execution_count": null,
   "id": "33e31f28",
   "metadata": {},
   "outputs": [],
   "source": [
    "from sklearn.model_selection import GridSearchCV\n",
    "grid = GridSearchCV(DecisionTreeClassifier(), parameters, verbose=2)\n",
    "grid.fit(xtrain, ytrain)"
   ]
  },
  {
   "cell_type": "code",
   "execution_count": null,
   "id": "9a21df27",
   "metadata": {},
   "outputs": [],
   "source": [
    "grid.best_params_"
   ]
  },
  {
   "cell_type": "code",
   "execution_count": null,
   "id": "2dd2eacd",
   "metadata": {},
   "outputs": [],
   "source": [
    "grid.best_score_"
   ]
  },
  {
   "cell_type": "code",
   "execution_count": null,
   "id": "1fbd42f3",
   "metadata": {},
   "outputs": [],
   "source": [
    "grid.best_estimator_"
   ]
  },
  {
   "cell_type": "code",
   "execution_count": null,
   "id": "9a48d35a",
   "metadata": {},
   "outputs": [],
   "source": [
    "dt = mymodel(grid.best_estimator_)"
   ]
  }
 ],
 "metadata": {
  "kernelspec": {
   "display_name": "Python 3",
   "language": "python",
   "name": "python3"
  },
  "language_info": {
   "codemirror_mode": {
    "name": "ipython",
    "version": 3
   },
   "file_extension": ".py",
   "mimetype": "text/x-python",
   "name": "python",
   "nbconvert_exporter": "python",
   "pygments_lexer": "ipython3",
   "version": "3.8.8"
  }
 },
 "nbformat": 4,
 "nbformat_minor": 5
}
