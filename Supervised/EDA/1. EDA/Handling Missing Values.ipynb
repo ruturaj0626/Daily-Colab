{
 "cells": [
  {
   "cell_type": "code",
   "execution_count": null,
   "id": "ae4d82c9",
   "metadata": {},
   "outputs": [],
   "source": [
    "import numpy as np\n",
    "import pandas as pd\n",
    "import matplotlib.pyplot as plt\n",
    "import seaborn as sns\n",
    "\n",
    "import warnings\n",
    "warnings.filterwarnings(\"ignore\")"
   ]
  },
  {
   "cell_type": "code",
   "execution_count": null,
   "id": "2e5ac149",
   "metadata": {},
   "outputs": [],
   "source": [
    "np.nan #Not a Number"
   ]
  },
  {
   "cell_type": "code",
   "execution_count": null,
   "id": "b9c5bca0",
   "metadata": {},
   "outputs": [],
   "source": [
    "df = pd.read_csv(\"data1.csv\")\n",
    "df"
   ]
  },
  {
   "cell_type": "code",
   "execution_count": null,
   "id": "486c85d4",
   "metadata": {},
   "outputs": [],
   "source": [
    "df.info()"
   ]
  },
  {
   "cell_type": "code",
   "execution_count": null,
   "id": "ea77a01c",
   "metadata": {},
   "outputs": [],
   "source": [
    "df.isna().sum()"
   ]
  },
  {
   "cell_type": "code",
   "execution_count": null,
   "id": "6bb753e6",
   "metadata": {},
   "outputs": [],
   "source": [
    "df.dropna() #remove all those rows where \"any\" of the cols has missing value"
   ]
  },
  {
   "cell_type": "code",
   "execution_count": null,
   "id": "5565feea",
   "metadata": {},
   "outputs": [],
   "source": [
    "df"
   ]
  },
  {
   "cell_type": "code",
   "execution_count": null,
   "id": "1bf9f099",
   "metadata": {},
   "outputs": [],
   "source": [
    "df.dropna()"
   ]
  },
  {
   "cell_type": "code",
   "execution_count": null,
   "id": "041e80eb",
   "metadata": {},
   "outputs": [],
   "source": [
    "df.dropna(how=\"all\") #remove all those rows where all the cols has missing value"
   ]
  },
  {
   "cell_type": "code",
   "execution_count": null,
   "id": "2a6e4998",
   "metadata": {},
   "outputs": [],
   "source": [
    "df.dropna(how=\"all\", subset=[\"Python\" ,\"Machine Learning\"])"
   ]
  },
  {
   "cell_type": "code",
   "execution_count": null,
   "id": "bdc2772a",
   "metadata": {},
   "outputs": [],
   "source": [
    "df"
   ]
  },
  {
   "cell_type": "code",
   "execution_count": null,
   "id": "4be4c994",
   "metadata": {},
   "outputs": [],
   "source": [
    "df.fillna(5)"
   ]
  },
  {
   "cell_type": "code",
   "execution_count": null,
   "id": "350b6089",
   "metadata": {},
   "outputs": [],
   "source": [
    "pmean = df[\"Python\"].mean()"
   ]
  },
  {
   "cell_type": "code",
   "execution_count": null,
   "id": "f8d6a8a4",
   "metadata": {},
   "outputs": [],
   "source": [
    "mmean = df[\"Machine Learning\"].mean()"
   ]
  },
  {
   "cell_type": "code",
   "execution_count": null,
   "id": "93bfadc1",
   "metadata": {},
   "outputs": [],
   "source": [
    "df[\"Python\"].fillna(pmean, inplace=True)\n",
    "df[\"Machine Learning\"].fillna(mmean, inplace=True)"
   ]
  },
  {
   "cell_type": "code",
   "execution_count": null,
   "id": "f190dc32",
   "metadata": {},
   "outputs": [],
   "source": [
    "df"
   ]
  },
  {
   "cell_type": "code",
   "execution_count": null,
   "id": "d43a3c50",
   "metadata": {},
   "outputs": [],
   "source": [
    "df.info()"
   ]
  },
  {
   "cell_type": "code",
   "execution_count": null,
   "id": "2161bd8d",
   "metadata": {},
   "outputs": [],
   "source": []
  }
 ],
 "metadata": {
  "kernelspec": {
   "display_name": "Python 3",
   "language": "python",
   "name": "python3"
  },
  "language_info": {
   "codemirror_mode": {
    "name": "ipython",
    "version": 3
   },
   "file_extension": ".py",
   "mimetype": "text/x-python",
   "name": "python",
   "nbconvert_exporter": "python",
   "pygments_lexer": "ipython3",
   "version": "3.8.8"
  }
 },
 "nbformat": 4,
 "nbformat_minor": 5
}
