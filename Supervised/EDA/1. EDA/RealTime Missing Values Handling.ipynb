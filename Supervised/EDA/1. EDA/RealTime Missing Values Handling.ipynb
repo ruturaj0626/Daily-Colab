{
 "cells": [
  {
   "cell_type": "code",
   "execution_count": null,
   "id": "41755f9d",
   "metadata": {},
   "outputs": [],
   "source": [
    "import numpy as np\n",
    "import pandas as pd\n",
    "import matplotlib.pyplot as plt\n",
    "import seaborn as sns\n",
    "\n",
    "import warnings\n",
    "warnings.filterwarnings(\"ignore\")"
   ]
  },
  {
   "cell_type": "code",
   "execution_count": null,
   "id": "31b0fc26",
   "metadata": {},
   "outputs": [],
   "source": [
    "df =pd.read_csv(\"cars.csv\")\n",
    "df.head()"
   ]
  },
  {
   "cell_type": "code",
   "execution_count": null,
   "id": "fd954b6b",
   "metadata": {},
   "outputs": [],
   "source": [
    "df.info()"
   ]
  },
  {
   "cell_type": "code",
   "execution_count": null,
   "id": "b3fe0e00",
   "metadata": {},
   "outputs": [],
   "source": [
    "df.isna().sum()"
   ]
  },
  {
   "cell_type": "code",
   "execution_count": null,
   "id": "3bd98868",
   "metadata": {},
   "outputs": [],
   "source": [
    "#NaN, ?, missing, NA, \" \""
   ]
  },
  {
   "cell_type": "code",
   "execution_count": null,
   "id": "1d242518",
   "metadata": {},
   "outputs": [],
   "source": [
    "df[\"normalized-losses\"].value_counts()"
   ]
  },
  {
   "cell_type": "code",
   "execution_count": null,
   "id": "8e3a2c75",
   "metadata": {},
   "outputs": [],
   "source": [
    "df[\"horsepower\"].value_counts()"
   ]
  },
  {
   "cell_type": "code",
   "execution_count": null,
   "id": "06f6e509",
   "metadata": {},
   "outputs": [],
   "source": [
    "#step1 -: replace the ? with NAN\n",
    "df[\"normalized-losses\"].replace(\"?\", np.nan, inplace=True)\n",
    "df[\"horsepower\"].replace(\"?\", np.nan, inplace=True)\n",
    "\n",
    "#step2 -: change the datatype\n",
    "df[\"normalized-losses\"] = df[\"normalized-losses\"].astype(\"float64\")\n",
    "df[\"horsepower\"] = df[\"horsepower\"].astype(\"float64\")\n",
    "\n",
    "#step3 -: get the mean\n",
    "nlmean =df[\"normalized-losses\"].mean()\n",
    "hpmean =df[\"horsepower\"].mean()\n",
    "\n",
    "#step4 -: use fillna\n",
    "df[\"normalized-losses\"].fillna(nlmean, inplace=True)\n",
    "df[\"horsepower\"].fillna(hpmean, inplace=True)"
   ]
  },
  {
   "cell_type": "code",
   "execution_count": null,
   "id": "d8343aad",
   "metadata": {},
   "outputs": [],
   "source": [
    "df.head()"
   ]
  },
  {
   "cell_type": "code",
   "execution_count": null,
   "id": "d7f78391",
   "metadata": {},
   "outputs": [],
   "source": [
    "df.info()"
   ]
  },
  {
   "cell_type": "code",
   "execution_count": null,
   "id": "20204eea",
   "metadata": {},
   "outputs": [],
   "source": []
  }
 ],
 "metadata": {
  "kernelspec": {
   "display_name": "Python 3",
   "language": "python",
   "name": "python3"
  },
  "language_info": {
   "codemirror_mode": {
    "name": "ipython",
    "version": 3
   },
   "file_extension": ".py",
   "mimetype": "text/x-python",
   "name": "python",
   "nbconvert_exporter": "python",
   "pygments_lexer": "ipython3",
   "version": "3.8.8"
  }
 },
 "nbformat": 4,
 "nbformat_minor": 5
}
