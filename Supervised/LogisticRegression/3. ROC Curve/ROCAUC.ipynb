{
 "cells": [
  {
   "cell_type": "code",
   "execution_count": null,
   "id": "c7a6a13f",
   "metadata": {},
   "outputs": [],
   "source": [
    "import warnings\n",
    "warnings.filterwarnings(\"ignore\")\n",
    "\n",
    "import numpy as np\n",
    "import pandas as pd\n",
    "import matplotlib.pyplot as plt\n",
    "import seaborn as sns"
   ]
  },
  {
   "cell_type": "code",
   "execution_count": null,
   "id": "ffdc678e",
   "metadata": {},
   "outputs": [],
   "source": [
    "df = pd.read_csv(\"diabeties.csv\")\n",
    "df.head()"
   ]
  },
  {
   "cell_type": "markdown",
   "id": "4900b83d",
   "metadata": {},
   "source": [
    "# Goal -: We need to create a ML model, which has the ability to Predict the Patient as Positive if they are actually Positive."
   ]
  },
  {
   "cell_type": "code",
   "execution_count": null,
   "id": "23385307",
   "metadata": {},
   "outputs": [],
   "source": [
    "df.info()"
   ]
  },
  {
   "cell_type": "code",
   "execution_count": null,
   "id": "477a08f3",
   "metadata": {},
   "outputs": [],
   "source": [
    "df.describe()"
   ]
  },
  {
   "cell_type": "code",
   "execution_count": null,
   "id": "8f307c40",
   "metadata": {},
   "outputs": [],
   "source": [
    "#sns.pairplot(df)"
   ]
  },
  {
   "cell_type": "code",
   "execution_count": null,
   "id": "9050898f",
   "metadata": {},
   "outputs": [],
   "source": [
    "#sns.pairplot(data=df, hue=\"target\")"
   ]
  },
  {
   "cell_type": "code",
   "execution_count": null,
   "id": "5edadb52",
   "metadata": {},
   "outputs": [],
   "source": [
    "df.target.value_counts()"
   ]
  },
  {
   "cell_type": "code",
   "execution_count": null,
   "id": "8ad95571",
   "metadata": {
    "scrolled": true
   },
   "outputs": [],
   "source": [
    "x = df.iloc[:, :-1]\n",
    "y = df.iloc[:, -1]\n",
    "\n",
    "from sklearn.model_selection import train_test_split\n",
    "xtrain, xtest, ytrain, ytest = train_test_split(x,y, test_size=0.3, random_state=1)\n",
    "\n",
    "from sklearn.linear_model import LogisticRegression\n",
    "logreg = LogisticRegression()\n",
    "logreg.fit(xtrain, ytrain)\n",
    "ypred = logreg.predict(xtest)\n",
    "\n",
    "from sklearn.metrics import classification_report, accuracy_score, roc_auc_score, confusion_matrix\n",
    "ac = accuracy_score(ytest, ypred)\n",
    "ra = roc_auc_score(ytest, ypred)\n",
    "cm = confusion_matrix(ytest, ypred)\n",
    "cr = classification_report(ytest, ypred)\n",
    "\n",
    "print(f\"Accuracy : {ac}\\nROC : {ra}\\n{cm}\\n\\n{cr}\")"
   ]
  },
  {
   "cell_type": "code",
   "execution_count": null,
   "id": "29a19200",
   "metadata": {},
   "outputs": [],
   "source": [
    "train = logreg.score(xtrain, ytrain)\n",
    "test = logreg.score(xtest, ytest)\n",
    "\n",
    "print(f\"Training Accuracy - : {train}\\nTesting Accuracy -: {test}\")"
   ]
  },
  {
   "cell_type": "code",
   "execution_count": null,
   "id": "658c7b24",
   "metadata": {},
   "outputs": [],
   "source": [
    "print(f\"Actual Values     : {ytest[:25].values}\")\n",
    "print(f\"Predicted Values  : {ypred[:25]}\")"
   ]
  },
  {
   "cell_type": "code",
   "execution_count": null,
   "id": "befab8b2",
   "metadata": {},
   "outputs": [],
   "source": [
    "print(f\"Actual Values     : {ytest[25:51].values}\")\n",
    "print(f\"Predicted Values  : {ypred[25:51]}\")"
   ]
  },
  {
   "cell_type": "code",
   "execution_count": null,
   "id": "7ef747c8",
   "metadata": {},
   "outputs": [],
   "source": [
    "logreg.predict_proba(xtest)"
   ]
  },
  {
   "cell_type": "code",
   "execution_count": null,
   "id": "23f59628",
   "metadata": {},
   "outputs": [],
   "source": [
    "ypredprob = logreg.predict_proba(xtest)[:, 1]"
   ]
  },
  {
   "cell_type": "code",
   "execution_count": null,
   "id": "b1708d8d",
   "metadata": {},
   "outputs": [],
   "source": [
    "ypredprob #probability of a patient for being diabetic i.e for class 1"
   ]
  },
  {
   "cell_type": "code",
   "execution_count": null,
   "id": "cda6463f",
   "metadata": {},
   "outputs": [],
   "source": [
    "from sklearn.preprocessing import binarize"
   ]
  },
  {
   "cell_type": "code",
   "execution_count": null,
   "id": "16094f9d",
   "metadata": {},
   "outputs": [],
   "source": [
    "ypred = binarize([ypredprob], threshold=0.3)[0]"
   ]
  },
  {
   "cell_type": "code",
   "execution_count": null,
   "id": "cb36f42a",
   "metadata": {},
   "outputs": [],
   "source": [
    "print(f\"Actual Values     : {ytest[:25].values}\")\n",
    "print(f\"Predicted Values  : {ypred[:25].astype(int)}\")"
   ]
  },
  {
   "cell_type": "code",
   "execution_count": null,
   "id": "c6ca229a",
   "metadata": {},
   "outputs": [],
   "source": [
    "ac = accuracy_score(ytest, ypred)\n",
    "ra = roc_auc_score(ytest, ypred)\n",
    "cm = confusion_matrix(ytest, ypred)\n",
    "cr = classification_report(ytest, ypred)\n",
    "\n",
    "print(f\"Accuracy : {ac}\\nROC : {ra}\\n{cm}\\n\\n{cr}\")"
   ]
  },
  {
   "cell_type": "code",
   "execution_count": null,
   "id": "3348d37c",
   "metadata": {},
   "outputs": [],
   "source": [
    "train = logreg.score(xtrain, ytrain)\n",
    "test = logreg.score(xtest, ytest)\n",
    "\n",
    "print(f\"Training Accuracy - : {train}\\nTesting Accuracy -: {test}\")"
   ]
  },
  {
   "cell_type": "code",
   "execution_count": null,
   "id": "fef7b087",
   "metadata": {},
   "outputs": [],
   "source": [
    "from sklearn.metrics import roc_curve"
   ]
  },
  {
   "cell_type": "code",
   "execution_count": null,
   "id": "566c6ec2",
   "metadata": {},
   "outputs": [],
   "source": [
    "fpr, tpr, thres = roc_curve(ytest, ypredprob)\n",
    "plt.plot(fpr, tpr)\n",
    "\n",
    "plt.title(\"ROC curve for Diabeties Classifier\")\n",
    "plt.xlabel(\"False Positive Rate (1-Specificity)\")\n",
    "plt.ylabel(\"True Positive Rate (Sensitivity)\")\n",
    "plt.grid()\n",
    "plt.show()           "
   ]
  }
 ],
 "metadata": {
  "kernelspec": {
   "display_name": "Python 3",
   "language": "python",
   "name": "python3"
  },
  "language_info": {
   "codemirror_mode": {
    "name": "ipython",
    "version": 3
   },
   "file_extension": ".py",
   "mimetype": "text/x-python",
   "name": "python",
   "nbconvert_exporter": "python",
   "pygments_lexer": "ipython3",
   "version": "3.8.8"
  }
 },
 "nbformat": 4,
 "nbformat_minor": 5
}
