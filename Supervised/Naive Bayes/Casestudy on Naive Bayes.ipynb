{
 "cells": [
  {
   "cell_type": "code",
   "execution_count": null,
   "id": "f073a35a",
   "metadata": {},
   "outputs": [],
   "source": [
    "import warnings\n",
    "warnings.filterwarnings(\"ignore\")\n",
    "\n",
    "import numpy as np\n",
    "import pandas as pd\n",
    "import matplotlib.pyplot as plt\n",
    "import seaborn as sns"
   ]
  },
  {
   "cell_type": "code",
   "execution_count": null,
   "id": "082e6be9",
   "metadata": {},
   "outputs": [],
   "source": [
    "df = pd.read_table(\"smsspamcollection.tsv\")\n",
    "df.head()"
   ]
  },
  {
   "cell_type": "code",
   "execution_count": null,
   "id": "653700de",
   "metadata": {},
   "outputs": [],
   "source": [
    "df.info()"
   ]
  },
  {
   "cell_type": "code",
   "execution_count": null,
   "id": "5700d081",
   "metadata": {},
   "outputs": [],
   "source": [
    "df[\"label\"]"
   ]
  },
  {
   "cell_type": "code",
   "execution_count": null,
   "id": "24f7148a",
   "metadata": {},
   "outputs": [],
   "source": [
    "df.label.value_counts()"
   ]
  },
  {
   "cell_type": "code",
   "execution_count": null,
   "id": "37e8934e",
   "metadata": {},
   "outputs": [],
   "source": [
    "df[\"message\"]"
   ]
  },
  {
   "cell_type": "code",
   "execution_count": null,
   "id": "804d3b06",
   "metadata": {},
   "outputs": [],
   "source": [
    "#!pip install wordcloud"
   ]
  },
  {
   "cell_type": "code",
   "execution_count": null,
   "id": "e6b221d4",
   "metadata": {},
   "outputs": [],
   "source": [
    "from wordcloud import WordCloud"
   ]
  },
  {
   "cell_type": "code",
   "execution_count": null,
   "id": "6ba9e4d4",
   "metadata": {},
   "outputs": [],
   "source": [
    "wc = WordCloud()\n",
    "wc.generate(\" \".join(df[df[\"label\"]==\"spam\"][\"message\"]))\n",
    "plt.imshow(wc)\n",
    "plt.axis(\"off\")\n",
    "plt.show()"
   ]
  },
  {
   "cell_type": "code",
   "execution_count": null,
   "id": "6ec9ead3",
   "metadata": {},
   "outputs": [],
   "source": [
    "wc = WordCloud(min_font_size=10, background_color=\"white\")\n",
    "wc.generate(\" \".join(df[df[\"label\"]==\"ham\"][\"message\"]))\n",
    "plt.imshow(wc)\n",
    "plt.axis(\"off\")\n",
    "plt.show()"
   ]
  },
  {
   "cell_type": "code",
   "execution_count": null,
   "id": "d5ccc0b9",
   "metadata": {},
   "outputs": [],
   "source": [
    "x = df[\"message\"] #1D\n",
    "y = df[\"label\"]   #1D"
   ]
  },
  {
   "cell_type": "code",
   "execution_count": null,
   "id": "3ad3a5fe",
   "metadata": {},
   "outputs": [],
   "source": [
    "x"
   ]
  },
  {
   "cell_type": "code",
   "execution_count": null,
   "id": "2f22aa6a",
   "metadata": {},
   "outputs": [],
   "source": [
    "y"
   ]
  },
  {
   "cell_type": "code",
   "execution_count": null,
   "id": "f7943972",
   "metadata": {},
   "outputs": [],
   "source": [
    "from sklearn.feature_extraction.text import CountVectorizer\n",
    "cv = CountVectorizer()\n",
    "x = cv.fit_transform(x).toarray()"
   ]
  },
  {
   "cell_type": "code",
   "execution_count": null,
   "id": "0151e7bd",
   "metadata": {},
   "outputs": [],
   "source": [
    "x"
   ]
  },
  {
   "cell_type": "code",
   "execution_count": null,
   "id": "9a66c355",
   "metadata": {},
   "outputs": [],
   "source": [
    "from sklearn.model_selection import train_test_split\n",
    "xtrain, xtest, ytrain, ytest = train_test_split(x, y, test_size=0.3, random_state=1)"
   ]
  },
  {
   "cell_type": "code",
   "execution_count": null,
   "id": "7309f4ab",
   "metadata": {},
   "outputs": [],
   "source": [
    "from sklearn.naive_bayes import GaussianNB, MultinomialNB, BernoulliNB\n",
    "from sklearn.metrics import classification_report"
   ]
  },
  {
   "cell_type": "code",
   "execution_count": null,
   "id": "d658ad9b",
   "metadata": {},
   "outputs": [],
   "source": [
    "def mymodel(model):\n",
    "    model.fit(xtrain, ytrain)\n",
    "    ypred = model.predict(xtest)\n",
    "    \n",
    "    train = model.score(xtrain, ytrain)\n",
    "    test = model.score(xtest, ytest)\n",
    "    \n",
    "    print(f\"Training Accuracy : {train}\\nTesting Accuracy : {test}\\n\\n\")\n",
    "    print(classification_report(ytest, ypred))\n",
    "    return model"
   ]
  },
  {
   "cell_type": "code",
   "execution_count": null,
   "id": "452bbb49",
   "metadata": {},
   "outputs": [],
   "source": [
    "gnb = mymodel(GaussianNB())"
   ]
  },
  {
   "cell_type": "code",
   "execution_count": null,
   "id": "077fa208",
   "metadata": {},
   "outputs": [],
   "source": [
    "bnb = mymodel(BernoulliNB())"
   ]
  },
  {
   "cell_type": "code",
   "execution_count": null,
   "id": "fd8fa581",
   "metadata": {},
   "outputs": [],
   "source": [
    "mnb = mymodel(MultinomialNB())"
   ]
  },
  {
   "cell_type": "markdown",
   "id": "40f9729c",
   "metadata": {},
   "source": [
    "# Forecast the New Observation"
   ]
  },
  {
   "cell_type": "code",
   "execution_count": null,
   "id": "94961258",
   "metadata": {},
   "outputs": [],
   "source": [
    "mesg1 = \"free... free... free...! buy 1 get 1 free offer valid till august call now\"\n",
    "mesg2 = \"u all will have a test on text classification now\""
   ]
  },
  {
   "cell_type": "code",
   "execution_count": null,
   "id": "cffa9215",
   "metadata": {},
   "outputs": [],
   "source": [
    "xnew = cv.transform([mesg1]).toarray()\n",
    "mnb.predict(xnew)[0]"
   ]
  },
  {
   "cell_type": "code",
   "execution_count": null,
   "id": "e141e1d8",
   "metadata": {},
   "outputs": [],
   "source": [
    "def checksentiment(text):\n",
    "    xnew = cv.transform([text]).toarray()\n",
    "    ypred = mnb.predict(xnew)\n",
    "    return ypred[0]"
   ]
  },
  {
   "cell_type": "code",
   "execution_count": null,
   "id": "aab96ad8",
   "metadata": {},
   "outputs": [],
   "source": [
    "checksentiment(mesg1)"
   ]
  },
  {
   "cell_type": "code",
   "execution_count": null,
   "id": "13ed465a",
   "metadata": {},
   "outputs": [],
   "source": [
    "checksentiment(mesg2)"
   ]
  }
 ],
 "metadata": {
  "kernelspec": {
   "display_name": "Python 3",
   "language": "python",
   "name": "python3"
  },
  "language_info": {
   "codemirror_mode": {
    "name": "ipython",
    "version": 3
   },
   "file_extension": ".py",
   "mimetype": "text/x-python",
   "name": "python",
   "nbconvert_exporter": "python",
   "pygments_lexer": "ipython3",
   "version": "3.8.8"
  }
 },
 "nbformat": 4,
 "nbformat_minor": 5
}
