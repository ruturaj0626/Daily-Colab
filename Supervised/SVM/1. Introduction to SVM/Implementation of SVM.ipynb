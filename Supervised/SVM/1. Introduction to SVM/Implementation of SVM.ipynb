{
 "cells": [
  {
   "cell_type": "code",
   "execution_count": null,
   "id": "2fb0cfe1",
   "metadata": {},
   "outputs": [],
   "source": [
    "import warnings\n",
    "warnings.filterwarnings(\"ignore\")\n",
    "\n",
    "import numpy as np\n",
    "import pandas as pd\n",
    "import matplotlib.pyplot as plt\n",
    "import seaborn as sns"
   ]
  },
  {
   "cell_type": "code",
   "execution_count": null,
   "id": "cc799aa9",
   "metadata": {},
   "outputs": [],
   "source": [
    "df = pd.read_csv(\"titanic.csv\")\n",
    "df.head()"
   ]
  },
  {
   "cell_type": "code",
   "execution_count": null,
   "id": "ebb0e058",
   "metadata": {},
   "outputs": [],
   "source": [
    "df.info()"
   ]
  },
  {
   "cell_type": "code",
   "execution_count": null,
   "id": "9f110657",
   "metadata": {},
   "outputs": [],
   "source": [
    "df.describe()"
   ]
  },
  {
   "cell_type": "code",
   "execution_count": null,
   "id": "66442e82",
   "metadata": {},
   "outputs": [],
   "source": [
    "#sns.pairplot(df)"
   ]
  },
  {
   "cell_type": "code",
   "execution_count": null,
   "id": "3ed7d116",
   "metadata": {},
   "outputs": [],
   "source": [
    "sns.heatmap(df.isnull(), yticklabels=False, cbar=False, cmap=\"viridis\")"
   ]
  },
  {
   "cell_type": "code",
   "execution_count": null,
   "id": "af21a0f5",
   "metadata": {},
   "outputs": [],
   "source": [
    "df[\"Survived\"].value_counts()"
   ]
  },
  {
   "cell_type": "code",
   "execution_count": null,
   "id": "51cd2af3",
   "metadata": {},
   "outputs": [],
   "source": [
    "sns.countplot(data=df, x=\"Survived\", hue=\"Sex\")"
   ]
  },
  {
   "cell_type": "code",
   "execution_count": null,
   "id": "3b53dadf",
   "metadata": {},
   "outputs": [],
   "source": [
    "sns.countplot(data=df, x=\"Survived\", hue=\"Pclass\")"
   ]
  },
  {
   "cell_type": "code",
   "execution_count": null,
   "id": "2d742867",
   "metadata": {},
   "outputs": [],
   "source": [
    "sns.countplot(data=df, x=\"SibSp\")"
   ]
  },
  {
   "cell_type": "code",
   "execution_count": null,
   "id": "a73565e9",
   "metadata": {},
   "outputs": [],
   "source": [
    "sns.countplot(data=df, x=\"Parch\")"
   ]
  },
  {
   "cell_type": "code",
   "execution_count": null,
   "id": "1684ff35",
   "metadata": {},
   "outputs": [],
   "source": [
    "sns.distplot(df[\"Age\"])"
   ]
  },
  {
   "cell_type": "code",
   "execution_count": null,
   "id": "ec83acc2",
   "metadata": {},
   "outputs": [],
   "source": [
    "sns.distplot(df[\"Fare\"])"
   ]
  },
  {
   "cell_type": "code",
   "execution_count": null,
   "id": "9a98211d",
   "metadata": {},
   "outputs": [],
   "source": [
    "sns.countplot(data=df, x=\"Embarked\")"
   ]
  },
  {
   "cell_type": "code",
   "execution_count": null,
   "id": "3243b614",
   "metadata": {},
   "outputs": [],
   "source": [
    "df.head()"
   ]
  },
  {
   "cell_type": "code",
   "execution_count": null,
   "id": "cb7bba04",
   "metadata": {},
   "outputs": [],
   "source": [
    "sns.boxplot(data=df, x=\"Pclass\", y=\"Age\")\n",
    "plt.grid()"
   ]
  },
  {
   "cell_type": "code",
   "execution_count": null,
   "id": "bb4ccd07",
   "metadata": {},
   "outputs": [],
   "source": [
    "def fillage(cols):\n",
    "    pclass =cols[0]\n",
    "    age = cols[1]\n",
    "    \n",
    "    if(pd.isnull(age)):\n",
    "        if(pclass==1):\n",
    "            return 38\n",
    "        elif(pclass==2):\n",
    "            return 29\n",
    "        else:\n",
    "            return 24\n",
    "    else:\n",
    "        return age\n",
    "    "
   ]
  },
  {
   "cell_type": "code",
   "execution_count": null,
   "id": "ede4596f",
   "metadata": {},
   "outputs": [],
   "source": [
    "df[\"Age\"] =df[[\"Pclass\", \"Age\"]].apply(fillage, axis=1)"
   ]
  },
  {
   "cell_type": "code",
   "execution_count": null,
   "id": "54d23928",
   "metadata": {},
   "outputs": [],
   "source": [
    "sns.heatmap(df.isnull(), yticklabels=False, cbar=False, cmap=\"viridis\")"
   ]
  },
  {
   "cell_type": "code",
   "execution_count": null,
   "id": "054a9916",
   "metadata": {},
   "outputs": [],
   "source": [
    "df.drop(\"Cabin\", axis=1, inplace=True)"
   ]
  },
  {
   "cell_type": "code",
   "execution_count": null,
   "id": "2697049b",
   "metadata": {},
   "outputs": [],
   "source": [
    "sns.heatmap(df.isnull(), yticklabels=False, cbar=False, cmap=\"viridis\")"
   ]
  },
  {
   "cell_type": "code",
   "execution_count": null,
   "id": "817aebb0",
   "metadata": {},
   "outputs": [],
   "source": [
    "df.info()"
   ]
  },
  {
   "cell_type": "code",
   "execution_count": null,
   "id": "cab3653d",
   "metadata": {},
   "outputs": [],
   "source": [
    "df.dropna(inplace=True)"
   ]
  },
  {
   "cell_type": "code",
   "execution_count": null,
   "id": "83dc5e97",
   "metadata": {},
   "outputs": [],
   "source": [
    "df.info()"
   ]
  },
  {
   "cell_type": "code",
   "execution_count": null,
   "id": "ce988445",
   "metadata": {},
   "outputs": [],
   "source": [
    "df.drop([\"PassengerId\", \"Name\", \"Ticket\"], axis=1, inplace=True)"
   ]
  },
  {
   "cell_type": "code",
   "execution_count": null,
   "id": "1f3c82f2",
   "metadata": {},
   "outputs": [],
   "source": [
    "df"
   ]
  },
  {
   "cell_type": "code",
   "execution_count": null,
   "id": "84d8076f",
   "metadata": {},
   "outputs": [],
   "source": [
    "x = df.iloc[:, 1:]\n",
    "y = df.iloc[:, 0]"
   ]
  },
  {
   "cell_type": "code",
   "execution_count": null,
   "id": "691e9de5",
   "metadata": {},
   "outputs": [],
   "source": [
    "from sklearn.compose import ColumnTransformer\n",
    "from sklearn.preprocessing import OrdinalEncoder\n",
    "\n",
    "ct = ColumnTransformer(\n",
    "    transformers=[\n",
    "        (\n",
    "            \"encode\",\n",
    "            OrdinalEncoder(),\n",
    "            [\"Sex\", \"Embarked\"]\n",
    "            \n",
    "        )\n",
    "    ],\n",
    "    remainder=\"passthrough\"\n",
    ")\n",
    "\n",
    "x = ct.fit_transform(x)"
   ]
  },
  {
   "cell_type": "code",
   "execution_count": null,
   "id": "6bde8ef4",
   "metadata": {},
   "outputs": [],
   "source": [
    "x"
   ]
  },
  {
   "cell_type": "code",
   "execution_count": null,
   "id": "bde362c9",
   "metadata": {},
   "outputs": [],
   "source": [
    "from sklearn.model_selection import train_test_split\n",
    "xtrain, xtest, ytrain, ytest = train_test_split(x,y, test_size=0.3, \n",
    "                                                random_state=1)"
   ]
  },
  {
   "cell_type": "markdown",
   "id": "367c61a6",
   "metadata": {},
   "source": [
    "# KNeighborsClassifier"
   ]
  },
  {
   "cell_type": "code",
   "execution_count": null,
   "id": "36c57dcd",
   "metadata": {},
   "outputs": [],
   "source": [
    "from sklearn.neighbors import KNeighborsClassifier\n",
    "knn = KNeighborsClassifier()\n",
    "knn.fit(xtrain, ytrain)"
   ]
  },
  {
   "cell_type": "code",
   "execution_count": null,
   "id": "01cbb1d4",
   "metadata": {},
   "outputs": [],
   "source": [
    "train = knn.score(xtrain, ytrain)\n",
    "test = knn.score(xtest, ytest)\n",
    "\n",
    "print(f\"Training Accuracy : {train}\\nTesting Accuracy : {test}\")"
   ]
  },
  {
   "cell_type": "code",
   "execution_count": null,
   "id": "1c22d8b2",
   "metadata": {},
   "outputs": [],
   "source": [
    "#Low Bias + High Variance => Overfitting"
   ]
  },
  {
   "cell_type": "code",
   "execution_count": null,
   "id": "0c7328de",
   "metadata": {},
   "outputs": [],
   "source": [
    "for i in range(1, 31):\n",
    "    knn = KNeighborsClassifier(n_neighbors=i)\n",
    "    knn.fit(xtrain, ytrain)\n",
    "    \n",
    "    train = knn.score(xtrain, ytrain)\n",
    "    test = knn.score(xtest, ytest)\n",
    "    \n",
    "    print(f\"{i}  {train}  {test}\")\n",
    "    "
   ]
  },
  {
   "cell_type": "code",
   "execution_count": null,
   "id": "3980c432",
   "metadata": {},
   "outputs": [],
   "source": [
    "from sklearn.neighbors import KNeighborsClassifier\n",
    "knn = KNeighborsClassifier(n_neighbors=12)\n",
    "knn.fit(xtrain, ytrain)\n",
    "ypred = knn.predict(xtest)\n",
    "\n",
    "from sklearn.metrics import classification_report\n",
    "print(classification_report(ytest, ypred))"
   ]
  },
  {
   "cell_type": "markdown",
   "id": "0c5566fe",
   "metadata": {},
   "source": [
    "# LogisticRegression"
   ]
  },
  {
   "cell_type": "code",
   "execution_count": null,
   "id": "46797809",
   "metadata": {},
   "outputs": [],
   "source": [
    "from sklearn.linear_model import LogisticRegression\n",
    "logreg = LogisticRegression()\n",
    "logreg.fit(xtrain, ytrain)"
   ]
  },
  {
   "cell_type": "code",
   "execution_count": null,
   "id": "805145b2",
   "metadata": {},
   "outputs": [],
   "source": [
    "train = logreg.score(xtrain, ytrain)\n",
    "test = logreg.score(xtest, ytest)\n",
    "\n",
    "print(f\"Training Accuracy : {train}\\nTesting Accuracy : {test}\")"
   ]
  },
  {
   "cell_type": "code",
   "execution_count": null,
   "id": "fbd76c1f",
   "metadata": {},
   "outputs": [],
   "source": [
    "#High Bias + Low Variance => Underfitting"
   ]
  },
  {
   "cell_type": "code",
   "execution_count": null,
   "id": "f5f67153",
   "metadata": {},
   "outputs": [],
   "source": [
    "y.value_counts()"
   ]
  },
  {
   "cell_type": "code",
   "execution_count": null,
   "id": "3d986896",
   "metadata": {},
   "outputs": [],
   "source": [
    "xtrain, xtest, ytrain, ytest = train_test_split(x,y, test_size=0.3, \n",
    "                                                random_state=1, stratify=y)"
   ]
  },
  {
   "cell_type": "code",
   "execution_count": null,
   "id": "ad37989d",
   "metadata": {},
   "outputs": [],
   "source": [
    "from sklearn.linear_model import LogisticRegression\n",
    "logreg = LogisticRegression()\n",
    "logreg.fit(xtrain, ytrain)"
   ]
  },
  {
   "cell_type": "code",
   "execution_count": null,
   "id": "2ad8a13d",
   "metadata": {},
   "outputs": [],
   "source": [
    "train = logreg.score(xtrain, ytrain)\n",
    "test = logreg.score(xtest, ytest)\n",
    "\n",
    "print(f\"Training Accuracy : {train}\\nTesting Accuracy : {test}\")"
   ]
  },
  {
   "cell_type": "code",
   "execution_count": null,
   "id": "1db5aef2",
   "metadata": {},
   "outputs": [],
   "source": [
    "ypred = logreg.predict(xtest)\n",
    "print(classification_report(ytest, ypred))"
   ]
  },
  {
   "cell_type": "markdown",
   "id": "027bbeab",
   "metadata": {},
   "source": [
    "# Support Vectors Machine"
   ]
  },
  {
   "cell_type": "code",
   "execution_count": null,
   "id": "ec930ee3",
   "metadata": {},
   "outputs": [],
   "source": [
    "from sklearn.svm import SVC\n",
    "svm = SVC()\n",
    "svm.fit(xtrain, ytrain)"
   ]
  },
  {
   "cell_type": "code",
   "execution_count": null,
   "id": "97cf9fe8",
   "metadata": {},
   "outputs": [],
   "source": [
    "train = svm.score(xtrain, ytrain)\n",
    "test = svm.score(xtest, ytest)\n",
    "\n",
    "print(f\"Training Accuracy : {train}\\nTesting Accuracy : {test}\")"
   ]
  },
  {
   "cell_type": "code",
   "execution_count": null,
   "id": "12fd4870",
   "metadata": {},
   "outputs": [],
   "source": [
    "from sklearn.preprocessing import StandardScaler\n",
    "sc = StandardScaler()\n",
    "xtrains = sc.fit_transform(xtrain)\n",
    "xtests = sc.transform(xtest)"
   ]
  },
  {
   "cell_type": "code",
   "execution_count": null,
   "id": "1b73b4b8",
   "metadata": {},
   "outputs": [],
   "source": [
    "from sklearn.svm import SVC\n",
    "svm = SVC()\n",
    "svm.fit(xtrains, ytrain)"
   ]
  },
  {
   "cell_type": "code",
   "execution_count": null,
   "id": "f9529015",
   "metadata": {},
   "outputs": [],
   "source": [
    "train = svm.score(xtrains, ytrain)\n",
    "test = svm.score(xtests, ytest)\n",
    "\n",
    "print(f\"Training Accuracy : {train}\\nTesting Accuracy : {test}\")"
   ]
  },
  {
   "cell_type": "code",
   "execution_count": null,
   "id": "534788c8",
   "metadata": {},
   "outputs": [],
   "source": [
    "ypred = svm.predict(xtests)\n",
    "print(classification_report(ytest, ypred))"
   ]
  },
  {
   "cell_type": "code",
   "execution_count": null,
   "id": "3559fed4",
   "metadata": {},
   "outputs": [],
   "source": [
    "svm.support_ #support vectors index values"
   ]
  },
  {
   "cell_type": "code",
   "execution_count": null,
   "id": "30eaa708",
   "metadata": {},
   "outputs": [],
   "source": [
    "svm.support_vectors_"
   ]
  },
  {
   "cell_type": "code",
   "execution_count": null,
   "id": "a5080290",
   "metadata": {},
   "outputs": [],
   "source": [
    "svm.intercept_"
   ]
  },
  {
   "cell_type": "code",
   "execution_count": null,
   "id": "348612b0",
   "metadata": {},
   "outputs": [],
   "source": [
    "from sklearn.svm import SVC #classification\n",
    "from sklearn.svm import SVR #regression"
   ]
  }
 ],
 "metadata": {
  "kernelspec": {
   "display_name": "Python 3",
   "language": "python",
   "name": "python3"
  },
  "language_info": {
   "codemirror_mode": {
    "name": "ipython",
    "version": 3
   },
   "file_extension": ".py",
   "mimetype": "text/x-python",
   "name": "python",
   "nbconvert_exporter": "python",
   "pygments_lexer": "ipython3",
   "version": "3.8.8"
  }
 },
 "nbformat": 4,
 "nbformat_minor": 5
}
