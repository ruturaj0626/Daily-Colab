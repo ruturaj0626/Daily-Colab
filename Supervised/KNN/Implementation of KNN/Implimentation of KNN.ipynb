{
 "cells": [
  {
   "cell_type": "markdown",
   "id": "a1340d07",
   "metadata": {},
   "source": [
    "# Classification"
   ]
  },
  {
   "cell_type": "markdown",
   "id": "6b01b89d",
   "metadata": {},
   "source": [
    "- Linear Model -: LinearRegression, LogisticRegression\n",
    "- Non Linear Model -: KNN, SVM, DT, RF"
   ]
  },
  {
   "cell_type": "markdown",
   "id": "cbd9b403",
   "metadata": {},
   "source": [
    "1. KNN is supervised,Non-Linear Machine Learning Model\n",
    "2. KNN is also called as Lazy Algorithm, since it cannot learn from itself.\n",
    "3. It Classifies based on similarity measures, i.e Eucleadian Distance/ Manhatan Distance\n",
    "4. If we use it for Regression, it computes the mean value.\n",
    "5. If we use it for Classification it computes the mode value.;\n",
    "6. If we have even no of categories, the value of K should be odd no and viz\n",
    "7. KNN is Computationally expensive model"
   ]
  },
  {
   "cell_type": "code",
   "execution_count": null,
   "id": "ba7804a3",
   "metadata": {},
   "outputs": [],
   "source": [
    "import warnings\n",
    "warnings.filterwarnings(\"ignore\")\n",
    "\n",
    "import numpy as np\n",
    "import pandas as pd\n",
    "import matplotlib.pyplot as plt\n",
    "import seaborn as sns"
   ]
  },
  {
   "cell_type": "code",
   "execution_count": null,
   "id": "61d779ef",
   "metadata": {},
   "outputs": [],
   "source": [
    "df = pd.read_csv(\"Social_Network_Ads.csv\")\n",
    "df.head()"
   ]
  },
  {
   "cell_type": "code",
   "execution_count": null,
   "id": "49e4db99",
   "metadata": {},
   "outputs": [],
   "source": [
    "df.info()"
   ]
  },
  {
   "cell_type": "code",
   "execution_count": null,
   "id": "8d2be3be",
   "metadata": {},
   "outputs": [],
   "source": [
    "df.describe()"
   ]
  },
  {
   "cell_type": "code",
   "execution_count": null,
   "id": "9e724659",
   "metadata": {},
   "outputs": [],
   "source": [
    "df.Purchased.value_counts()"
   ]
  },
  {
   "cell_type": "code",
   "execution_count": null,
   "id": "074253c5",
   "metadata": {},
   "outputs": [],
   "source": [
    "sns.pairplot(df)"
   ]
  },
  {
   "cell_type": "code",
   "execution_count": null,
   "id": "621aac51",
   "metadata": {},
   "outputs": [],
   "source": [
    "sns.pairplot(df, hue=\"Purchased\")"
   ]
  },
  {
   "cell_type": "code",
   "execution_count": null,
   "id": "ba215a46",
   "metadata": {},
   "outputs": [],
   "source": [
    "x = df.iloc[:, [2,3]]\n",
    "y = df.iloc[:, -1]"
   ]
  },
  {
   "cell_type": "code",
   "execution_count": null,
   "id": "a22c3808",
   "metadata": {},
   "outputs": [],
   "source": [
    "from sklearn.model_selection import train_test_split\n",
    "xtrain, xtest, ytrain, ytest = train_test_split(x,y, test_size=0.25, random_state=0)"
   ]
  },
  {
   "cell_type": "code",
   "execution_count": null,
   "id": "525fe37f",
   "metadata": {},
   "outputs": [],
   "source": [
    "#step1 -: import the model\n",
    "from sklearn.neighbors import KNeighborsClassifier\n",
    "\n",
    "#step2 -: create the object\n",
    "knn = KNeighborsClassifier(n_neighbors=5)\n",
    "\n",
    "#step3 -: train the model\n",
    "knn.fit(xtrain, ytrain)\n",
    "\n",
    "#step4 -: make prediction\n",
    "ypred = knn.predict(xtest)"
   ]
  },
  {
   "cell_type": "code",
   "execution_count": null,
   "id": "0879f212",
   "metadata": {},
   "outputs": [],
   "source": [
    "from sklearn.metrics import accuracy_score, confusion_matrix, classification_report\n",
    "ac = accuracy_score(ytest, ypred)\n",
    "cm = confusion_matrix(ytest, ypred)\n",
    "cr = classification_report(ytest, ypred)\n",
    "\n",
    "print(f\"Accuracy -: {ac}\\n{cm}\\n\\n{cr}\")"
   ]
  }
 ],
 "metadata": {
  "kernelspec": {
   "display_name": "Python 3",
   "language": "python",
   "name": "python3"
  },
  "language_info": {
   "codemirror_mode": {
    "name": "ipython",
    "version": 3
   },
   "file_extension": ".py",
   "mimetype": "text/x-python",
   "name": "python",
   "nbconvert_exporter": "python",
   "pygments_lexer": "ipython3",
   "version": "3.8.8"
  }
 },
 "nbformat": 4,
 "nbformat_minor": 5
}
