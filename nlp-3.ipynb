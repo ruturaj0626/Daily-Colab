{
 "cells": [
  {
   "cell_type": "code",
   "execution_count": 1,
   "id": "17c692d4",
   "metadata": {
    "execution": {
     "iopub.execute_input": "2023-03-15T10:49:29.855472Z",
     "iopub.status.busy": "2023-03-15T10:49:29.855026Z",
     "iopub.status.idle": "2023-03-15T10:49:41.292369Z",
     "shell.execute_reply": "2023-03-15T10:49:41.291039Z"
    },
    "papermill": {
     "duration": 11.449952,
     "end_time": "2023-03-15T10:49:41.295781",
     "exception": false,
     "start_time": "2023-03-15T10:49:29.845829",
     "status": "completed"
    },
    "tags": []
   },
   "outputs": [],
   "source": [
    "import numpy as np\n",
    "import pandas as pd\n",
    "from sklearn.model_selection import train_test_split\n",
    "from sklearn.metrics import classification_report\n",
    "from sklearn.preprocessing import LabelEncoder\n",
    "\n",
    "# NN \n",
    "from tensorflow.keras.models import Sequential\n",
    "from tensorflow.keras.layers import Dense, Dropout,Embedding, Flatten\n",
    "\n",
    "# preprocessing\n",
    "from tensorflow.keras.preprocessing.text import Tokenizer\n",
    "from tensorflow.keras.preprocessing import sequence\n",
    "\n",
    "df = pd.read_csv('/kaggle/input/spamspam/spam.csv')"
   ]
  },
  {
   "cell_type": "code",
   "execution_count": 2,
   "id": "544fe0e5",
   "metadata": {
    "execution": {
     "iopub.execute_input": "2023-03-15T10:49:41.310780Z",
     "iopub.status.busy": "2023-03-15T10:49:41.309547Z",
     "iopub.status.idle": "2023-03-15T10:49:41.343045Z",
     "shell.execute_reply": "2023-03-15T10:49:41.341525Z"
    },
    "papermill": {
     "duration": 0.046054,
     "end_time": "2023-03-15T10:49:41.347956",
     "exception": false,
     "start_time": "2023-03-15T10:49:41.301902",
     "status": "completed"
    },
    "tags": []
   },
   "outputs": [
    {
     "data": {
      "text/html": [
       "<div>\n",
       "<style scoped>\n",
       "    .dataframe tbody tr th:only-of-type {\n",
       "        vertical-align: middle;\n",
       "    }\n",
       "\n",
       "    .dataframe tbody tr th {\n",
       "        vertical-align: top;\n",
       "    }\n",
       "\n",
       "    .dataframe thead th {\n",
       "        text-align: right;\n",
       "    }\n",
       "</style>\n",
       "<table border=\"1\" class=\"dataframe\">\n",
       "  <thead>\n",
       "    <tr style=\"text-align: right;\">\n",
       "      <th></th>\n",
       "      <th>Category</th>\n",
       "      <th>Message</th>\n",
       "    </tr>\n",
       "  </thead>\n",
       "  <tbody>\n",
       "    <tr>\n",
       "      <th>0</th>\n",
       "      <td>not spam</td>\n",
       "      <td>Go until jurong point, crazy.. Available only ...</td>\n",
       "    </tr>\n",
       "    <tr>\n",
       "      <th>1</th>\n",
       "      <td>not spam</td>\n",
       "      <td>Ok lar... Joking wif u oni...</td>\n",
       "    </tr>\n",
       "    <tr>\n",
       "      <th>2</th>\n",
       "      <td>spam</td>\n",
       "      <td>Free entry in 2 a wkly comp to win FA Cup fina...</td>\n",
       "    </tr>\n",
       "    <tr>\n",
       "      <th>3</th>\n",
       "      <td>not spam</td>\n",
       "      <td>U dun say so early hor... U c already then say...</td>\n",
       "    </tr>\n",
       "    <tr>\n",
       "      <th>4</th>\n",
       "      <td>not spam</td>\n",
       "      <td>Nah I don't think he goes to usf, he lives aro...</td>\n",
       "    </tr>\n",
       "  </tbody>\n",
       "</table>\n",
       "</div>"
      ],
      "text/plain": [
       "   Category                                            Message\n",
       "0  not spam  Go until jurong point, crazy.. Available only ...\n",
       "1  not spam                      Ok lar... Joking wif u oni...\n",
       "2      spam  Free entry in 2 a wkly comp to win FA Cup fina...\n",
       "3  not spam  U dun say so early hor... U c already then say...\n",
       "4  not spam  Nah I don't think he goes to usf, he lives aro..."
      ]
     },
     "execution_count": 2,
     "metadata": {},
     "output_type": "execute_result"
    }
   ],
   "source": [
    "df.head()"
   ]
  },
  {
   "cell_type": "code",
   "execution_count": 3,
   "id": "52a96b8b",
   "metadata": {
    "execution": {
     "iopub.execute_input": "2023-03-15T10:49:41.362788Z",
     "iopub.status.busy": "2023-03-15T10:49:41.361911Z",
     "iopub.status.idle": "2023-03-15T10:49:41.371046Z",
     "shell.execute_reply": "2023-03-15T10:49:41.369475Z"
    },
    "papermill": {
     "duration": 0.020081,
     "end_time": "2023-03-15T10:49:41.374244",
     "exception": false,
     "start_time": "2023-03-15T10:49:41.354163",
     "status": "completed"
    },
    "tags": []
   },
   "outputs": [],
   "source": [
    "x = df[\"Message\"]\n",
    "y = df[\"Category\"]"
   ]
  },
  {
   "cell_type": "code",
   "execution_count": 4,
   "id": "922ead01",
   "metadata": {
    "execution": {
     "iopub.execute_input": "2023-03-15T10:49:41.388575Z",
     "iopub.status.busy": "2023-03-15T10:49:41.388088Z",
     "iopub.status.idle": "2023-03-15T10:49:41.398663Z",
     "shell.execute_reply": "2023-03-15T10:49:41.397340Z"
    },
    "papermill": {
     "duration": 0.020802,
     "end_time": "2023-03-15T10:49:41.401340",
     "exception": false,
     "start_time": "2023-03-15T10:49:41.380538",
     "status": "completed"
    },
    "tags": []
   },
   "outputs": [
    {
     "data": {
      "text/plain": [
       "array([0, 0, 1, ..., 0, 0, 0])"
      ]
     },
     "execution_count": 4,
     "metadata": {},
     "output_type": "execute_result"
    }
   ],
   "source": [
    "le = LabelEncoder()\n",
    "y = le.fit_transform(y)\n",
    "y"
   ]
  },
  {
   "cell_type": "code",
   "execution_count": 5,
   "id": "ea20b2c2",
   "metadata": {
    "execution": {
     "iopub.execute_input": "2023-03-15T10:49:41.416407Z",
     "iopub.status.busy": "2023-03-15T10:49:41.415455Z",
     "iopub.status.idle": "2023-03-15T10:49:41.424580Z",
     "shell.execute_reply": "2023-03-15T10:49:41.423588Z"
    },
    "papermill": {
     "duration": 0.019633,
     "end_time": "2023-03-15T10:49:41.427155",
     "exception": false,
     "start_time": "2023-03-15T10:49:41.407522",
     "status": "completed"
    },
    "tags": []
   },
   "outputs": [],
   "source": [
    "xtrain,xtest,ytrain,ytest = train_test_split(x,y,test_size=.3,random_state=1)"
   ]
  },
  {
   "cell_type": "code",
   "execution_count": 6,
   "id": "605db1d9",
   "metadata": {
    "execution": {
     "iopub.execute_input": "2023-03-15T10:49:41.441634Z",
     "iopub.status.busy": "2023-03-15T10:49:41.441084Z",
     "iopub.status.idle": "2023-03-15T10:49:41.548653Z",
     "shell.execute_reply": "2023-03-15T10:49:41.547107Z"
    },
    "papermill": {
     "duration": 0.118437,
     "end_time": "2023-03-15T10:49:41.551797",
     "exception": false,
     "start_time": "2023-03-15T10:49:41.433360",
     "status": "completed"
    },
    "tags": []
   },
   "outputs": [],
   "source": [
    "tok = Tokenizer()\n",
    "tok.fit_on_texts(xtrain)"
   ]
  },
  {
   "cell_type": "code",
   "execution_count": 7,
   "id": "3039eac2",
   "metadata": {
    "execution": {
     "iopub.execute_input": "2023-03-15T10:49:41.566281Z",
     "iopub.status.busy": "2023-03-15T10:49:41.565821Z",
     "iopub.status.idle": "2023-03-15T10:49:41.573644Z",
     "shell.execute_reply": "2023-03-15T10:49:41.572339Z"
    },
    "papermill": {
     "duration": 0.018073,
     "end_time": "2023-03-15T10:49:41.576108",
     "exception": false,
     "start_time": "2023-03-15T10:49:41.558035",
     "status": "completed"
    },
    "tags": []
   },
   "outputs": [
    {
     "data": {
      "text/plain": [
       "7382"
      ]
     },
     "execution_count": 7,
     "metadata": {},
     "output_type": "execute_result"
    }
   ],
   "source": [
    "vocabulary = tok.index_word\n",
    "vocab_length = len(vocabulary)\n",
    "vocab_length"
   ]
  },
  {
   "cell_type": "code",
   "execution_count": 8,
   "id": "d95f23c5",
   "metadata": {
    "execution": {
     "iopub.execute_input": "2023-03-15T10:49:41.590874Z",
     "iopub.status.busy": "2023-03-15T10:49:41.590466Z",
     "iopub.status.idle": "2023-03-15T10:49:41.673439Z",
     "shell.execute_reply": "2023-03-15T10:49:41.671950Z"
    },
    "papermill": {
     "duration": 0.093892,
     "end_time": "2023-03-15T10:49:41.676551",
     "exception": false,
     "start_time": "2023-03-15T10:49:41.582659",
     "status": "completed"
    },
    "tags": []
   },
   "outputs": [],
   "source": [
    "# Sequence\n",
    "train_sequence = tok.texts_to_sequences(xtrain)"
   ]
  },
  {
   "cell_type": "code",
   "execution_count": 9,
   "id": "4e78e8c3",
   "metadata": {
    "execution": {
     "iopub.execute_input": "2023-03-15T10:49:41.691334Z",
     "iopub.status.busy": "2023-03-15T10:49:41.690906Z",
     "iopub.status.idle": "2023-03-15T10:49:41.698275Z",
     "shell.execute_reply": "2023-03-15T10:49:41.696533Z"
    },
    "papermill": {
     "duration": 0.01817,
     "end_time": "2023-03-15T10:49:41.701149",
     "exception": false,
     "start_time": "2023-03-15T10:49:41.682979",
     "status": "completed"
    },
    "tags": []
   },
   "outputs": [],
   "source": [
    "# Length of all documents\n",
    "doc_length = []\n",
    "for doc in train_sequence:\n",
    "  doc_length.append(len(doc))"
   ]
  },
  {
   "cell_type": "code",
   "execution_count": 10,
   "id": "8f3ad1fd",
   "metadata": {
    "execution": {
     "iopub.execute_input": "2023-03-15T10:49:41.716338Z",
     "iopub.status.busy": "2023-03-15T10:49:41.715062Z",
     "iopub.status.idle": "2023-03-15T10:49:41.722793Z",
     "shell.execute_reply": "2023-03-15T10:49:41.721429Z"
    },
    "papermill": {
     "duration": 0.017938,
     "end_time": "2023-03-15T10:49:41.725459",
     "exception": false,
     "start_time": "2023-03-15T10:49:41.707521",
     "status": "completed"
    },
    "tags": []
   },
   "outputs": [
    {
     "data": {
      "text/plain": [
       "189"
      ]
     },
     "execution_count": 10,
     "metadata": {},
     "output_type": "execute_result"
    }
   ],
   "source": [
    "max(doc_length)"
   ]
  },
  {
   "cell_type": "code",
   "execution_count": 11,
   "id": "fb8e0847",
   "metadata": {
    "execution": {
     "iopub.execute_input": "2023-03-15T10:49:41.740943Z",
     "iopub.status.busy": "2023-03-15T10:49:41.740193Z",
     "iopub.status.idle": "2023-03-15T10:49:41.751278Z",
     "shell.execute_reply": "2023-03-15T10:49:41.749997Z"
    },
    "papermill": {
     "duration": 0.021754,
     "end_time": "2023-03-15T10:49:41.753814",
     "exception": false,
     "start_time": "2023-03-15T10:49:41.732060",
     "status": "completed"
    },
    "tags": []
   },
   "outputs": [
    {
     "data": {
      "text/plain": [
       "30.0"
      ]
     },
     "execution_count": 11,
     "metadata": {},
     "output_type": "execute_result"
    }
   ],
   "source": [
    "# 90% quantile\n",
    "# 90% document length is less than or equal to 30\n",
    "np.quantile(doc_length, 0.9)"
   ]
  },
  {
   "cell_type": "code",
   "execution_count": 12,
   "id": "50e7c333",
   "metadata": {
    "execution": {
     "iopub.execute_input": "2023-03-15T10:49:41.770304Z",
     "iopub.status.busy": "2023-03-15T10:49:41.769345Z",
     "iopub.status.idle": "2023-03-15T10:49:41.778537Z",
     "shell.execute_reply": "2023-03-15T10:49:41.777381Z"
    },
    "papermill": {
     "duration": 0.019666,
     "end_time": "2023-03-15T10:49:41.781057",
     "exception": false,
     "start_time": "2023-03-15T10:49:41.761391",
     "status": "completed"
    },
    "tags": []
   },
   "outputs": [
    {
     "data": {
      "text/plain": [
       "51.00999999999976"
      ]
     },
     "execution_count": 12,
     "metadata": {},
     "output_type": "execute_result"
    }
   ],
   "source": [
    "# 99% quantile\n",
    "# 99% document length is less than or equal to 51\n",
    "np.quantile(doc_length, 0.99)"
   ]
  },
  {
   "cell_type": "code",
   "execution_count": 13,
   "id": "4e5ef9a7",
   "metadata": {
    "execution": {
     "iopub.execute_input": "2023-03-15T10:49:41.796211Z",
     "iopub.status.busy": "2023-03-15T10:49:41.795401Z",
     "iopub.status.idle": "2023-03-15T10:49:41.800999Z",
     "shell.execute_reply": "2023-03-15T10:49:41.799665Z"
    },
    "papermill": {
     "duration": 0.015862,
     "end_time": "2023-03-15T10:49:41.803393",
     "exception": false,
     "start_time": "2023-03-15T10:49:41.787531",
     "status": "completed"
    },
    "tags": []
   },
   "outputs": [],
   "source": [
    "max_length = 51"
   ]
  },
  {
   "cell_type": "code",
   "execution_count": 14,
   "id": "9bfeb576",
   "metadata": {
    "execution": {
     "iopub.execute_input": "2023-03-15T10:49:41.819356Z",
     "iopub.status.busy": "2023-03-15T10:49:41.818459Z",
     "iopub.status.idle": "2023-03-15T10:49:41.842713Z",
     "shell.execute_reply": "2023-03-15T10:49:41.841338Z"
    },
    "papermill": {
     "duration": 0.035155,
     "end_time": "2023-03-15T10:49:41.845164",
     "exception": false,
     "start_time": "2023-03-15T10:49:41.810009",
     "status": "completed"
    },
    "tags": []
   },
   "outputs": [
    {
     "data": {
      "text/plain": [
       "array([[   0,    0,    0, ...,  111,  500, 1013],\n",
       "       [   0,    0,    0, ...,   74,   13, 3494],\n",
       "       [   0,    0,    0, ...,   52,   39,  850],\n",
       "       ...,\n",
       "       [   0,    0,    0, ...,  121,  741, 7381],\n",
       "       [   0,    0,    0, ..., 1790, 7382, 1919],\n",
       "       [   0,    0,    0, ...,  267,   31,   10]], dtype=int32)"
      ]
     },
     "execution_count": 14,
     "metadata": {},
     "output_type": "execute_result"
    }
   ],
   "source": [
    "# Padding\n",
    "train_matrix = sequence.pad_sequences(train_sequence,maxlen=max_length)\n",
    "train_matrix"
   ]
  },
  {
   "cell_type": "code",
   "execution_count": 15,
   "id": "7eb3d740",
   "metadata": {
    "execution": {
     "iopub.execute_input": "2023-03-15T10:49:41.860624Z",
     "iopub.status.busy": "2023-03-15T10:49:41.860151Z",
     "iopub.status.idle": "2023-03-15T10:49:41.910760Z",
     "shell.execute_reply": "2023-03-15T10:49:41.909580Z"
    },
    "papermill": {
     "duration": 0.061217,
     "end_time": "2023-03-15T10:49:41.913090",
     "exception": false,
     "start_time": "2023-03-15T10:49:41.851873",
     "status": "completed"
    },
    "tags": []
   },
   "outputs": [
    {
     "data": {
      "text/plain": [
       "array([[   0,    0,    0, ...,   72,    5,  719],\n",
       "       [   0,    0,    0, ...,  142,   10, 1592],\n",
       "       [   0,    0,    0, ..., 5282, 2962,   69],\n",
       "       ...,\n",
       "       [   0,    0,    0, ...,    0,  205, 1753],\n",
       "       [   0,    0,    0, ...,  171,   12,    5],\n",
       "       [   0,    0,    0, ...,   78,   16,   90]], dtype=int32)"
      ]
     },
     "execution_count": 15,
     "metadata": {},
     "output_type": "execute_result"
    }
   ],
   "source": [
    "# Testing data\n",
    "test_sequence = tok.texts_to_sequences(xtest)\n",
    "test_matrix = sequence.pad_sequences(test_sequence,maxlen=max_length)\n",
    "test_matrix"
   ]
  },
  {
   "cell_type": "code",
   "execution_count": 16,
   "id": "9c742f60",
   "metadata": {
    "execution": {
     "iopub.execute_input": "2023-03-15T10:49:41.929273Z",
     "iopub.status.busy": "2023-03-15T10:49:41.928210Z",
     "iopub.status.idle": "2023-03-15T10:49:42.425298Z",
     "shell.execute_reply": "2023-03-15T10:49:42.423696Z"
    },
    "papermill": {
     "duration": 0.508504,
     "end_time": "2023-03-15T10:49:42.428373",
     "exception": false,
     "start_time": "2023-03-15T10:49:41.919869",
     "status": "completed"
    },
    "tags": []
   },
   "outputs": [],
   "source": [
    "# model\n",
    "model = Sequential()\n",
    "model.add(Embedding(input_dim=vocab_length+1, # vocabulary length, +1 -> 0 tokens\n",
    "                    input_length=max_length,  # max length of document -> 51\n",
    "                    output_dim=100,           # hyperparameter -> vector length of each token\n",
    "                    mask_zero=True))          # do not learn for 0 token\n",
    "\n",
    "model.add(Flatten()) # 2D into 1D\n",
    "model.add(Dense(32,activation=\"relu\"))\n",
    "model.add(Dense(16,activation=\"relu\"))\n",
    "model.add(Dense(1,activation=\"sigmoid\"))# because it is a binary classification problem"
   ]
  },
  {
   "cell_type": "code",
   "execution_count": 17,
   "id": "f233d2d0",
   "metadata": {
    "execution": {
     "iopub.execute_input": "2023-03-15T10:49:42.445611Z",
     "iopub.status.busy": "2023-03-15T10:49:42.443867Z",
     "iopub.status.idle": "2023-03-15T10:50:12.957008Z",
     "shell.execute_reply": "2023-03-15T10:50:12.955993Z"
    },
    "papermill": {
     "duration": 30.524337,
     "end_time": "2023-03-15T10:50:12.959817",
     "exception": false,
     "start_time": "2023-03-15T10:49:42.435480",
     "status": "completed"
    },
    "tags": []
   },
   "outputs": [
    {
     "name": "stdout",
     "output_type": "stream",
     "text": [
      "Epoch 1/20\n",
      "122/122 [==============================] - 3s 12ms/step - loss: 0.2026\n",
      "Epoch 2/20\n",
      "122/122 [==============================] - 2s 13ms/step - loss: 0.0324\n",
      "Epoch 3/20\n",
      "122/122 [==============================] - 1s 12ms/step - loss: 0.0068\n",
      "Epoch 4/20\n",
      "122/122 [==============================] - 2s 12ms/step - loss: 0.0017\n",
      "Epoch 5/20\n",
      "122/122 [==============================] - 2s 13ms/step - loss: 3.9710e-04\n",
      "Epoch 6/20\n",
      "122/122 [==============================] - 1s 12ms/step - loss: 2.1567e-04\n",
      "Epoch 7/20\n",
      "122/122 [==============================] - 1s 12ms/step - loss: 1.4368e-04\n",
      "Epoch 8/20\n",
      "122/122 [==============================] - 1s 12ms/step - loss: 9.0386e-05\n",
      "Epoch 9/20\n",
      "122/122 [==============================] - 1s 11ms/step - loss: 6.7211e-05\n",
      "Epoch 10/20\n",
      "122/122 [==============================] - 1s 12ms/step - loss: 5.1786e-05\n",
      "Epoch 11/20\n",
      "122/122 [==============================] - 1s 12ms/step - loss: 4.1290e-05\n",
      "Epoch 12/20\n",
      "122/122 [==============================] - 2s 12ms/step - loss: 3.2697e-05\n",
      "Epoch 13/20\n",
      "122/122 [==============================] - 1s 12ms/step - loss: 2.7113e-05\n",
      "Epoch 14/20\n",
      "122/122 [==============================] - 1s 12ms/step - loss: 2.2757e-05\n",
      "Epoch 15/20\n",
      "122/122 [==============================] - 1s 12ms/step - loss: 1.8947e-05\n",
      "Epoch 16/20\n",
      "122/122 [==============================] - 1s 11ms/step - loss: 1.6205e-05\n",
      "Epoch 17/20\n",
      "122/122 [==============================] - 1s 11ms/step - loss: 1.3781e-05\n",
      "Epoch 18/20\n",
      "122/122 [==============================] - 1s 12ms/step - loss: 1.2023e-05\n",
      "Epoch 19/20\n",
      "122/122 [==============================] - 1s 12ms/step - loss: 1.0527e-05\n",
      "Epoch 20/20\n",
      "122/122 [==============================] - 1s 11ms/step - loss: 9.3610e-06\n"
     ]
    },
    {
     "data": {
      "text/plain": [
       "<keras.callbacks.History at 0x7f36166f2250>"
      ]
     },
     "execution_count": 17,
     "metadata": {},
     "output_type": "execute_result"
    }
   ],
   "source": [
    "model.compile(optimizer=\"adam\",loss=\"binary_crossentropy\")\n",
    "model.fit(train_matrix,ytrain,epochs=20,batch_size=32)"
   ]
  },
  {
   "cell_type": "code",
   "execution_count": 18,
   "id": "dbf28785",
   "metadata": {
    "execution": {
     "iopub.execute_input": "2023-03-15T10:50:13.046423Z",
     "iopub.status.busy": "2023-03-15T10:50:13.045883Z",
     "iopub.status.idle": "2023-03-15T10:50:13.378450Z",
     "shell.execute_reply": "2023-03-15T10:50:13.376087Z"
    },
    "papermill": {
     "duration": 0.379847,
     "end_time": "2023-03-15T10:50:13.382149",
     "exception": false,
     "start_time": "2023-03-15T10:50:13.002302",
     "status": "completed"
    },
    "tags": []
   },
   "outputs": [
    {
     "name": "stdout",
     "output_type": "stream",
     "text": [
      "53/53 [==============================] - 0s 2ms/step\n",
      "              precision    recall  f1-score   support\n",
      "\n",
      "           0       0.99      1.00      0.99      1442\n",
      "           1       0.99      0.92      0.95       230\n",
      "\n",
      "    accuracy                           0.99      1672\n",
      "   macro avg       0.99      0.96      0.97      1672\n",
      "weighted avg       0.99      0.99      0.99      1672\n",
      "\n"
     ]
    }
   ],
   "source": [
    "# prediction\n",
    "ypred = model.predict(test_matrix)\n",
    "ypred = np.where(ypred >= 0.5, 1, 0)\n",
    "print(classification_report(ytest,ypred))"
   ]
  },
  {
   "cell_type": "code",
   "execution_count": 19,
   "id": "d29621f4",
   "metadata": {
    "execution": {
     "iopub.execute_input": "2023-03-15T10:50:13.469604Z",
     "iopub.status.busy": "2023-03-15T10:50:13.468428Z",
     "iopub.status.idle": "2023-03-15T10:50:13.473993Z",
     "shell.execute_reply": "2023-03-15T10:50:13.473005Z"
    },
    "papermill": {
     "duration": 0.051712,
     "end_time": "2023-03-15T10:50:13.476621",
     "exception": false,
     "start_time": "2023-03-15T10:50:13.424909",
     "status": "completed"
    },
    "tags": []
   },
   "outputs": [],
   "source": [
    "sms1 = \"Hey how are you ? let's catchup\"\n",
    "sms2 = \"FREE FREE, claim your prize worth $20000 and click on the following link http:fake.com\""
   ]
  },
  {
   "cell_type": "code",
   "execution_count": 20,
   "id": "628bbd04",
   "metadata": {
    "execution": {
     "iopub.execute_input": "2023-03-15T10:50:13.563142Z",
     "iopub.status.busy": "2023-03-15T10:50:13.561827Z",
     "iopub.status.idle": "2023-03-15T10:50:13.569027Z",
     "shell.execute_reply": "2023-03-15T10:50:13.568094Z"
    },
    "papermill": {
     "duration": 0.053303,
     "end_time": "2023-03-15T10:50:13.571647",
     "exception": false,
     "start_time": "2023-03-15T10:50:13.518344",
     "status": "completed"
    },
    "tags": []
   },
   "outputs": [],
   "source": [
    "def predict_sms(sms):\n",
    "  data_seq = tok.texts_to_sequences([sms])\n",
    "  data_matrix = sequence.pad_sequences(data_seq,maxlen=max_length)\n",
    "  y_pred = model.predict(data_matrix)\n",
    "  y_pred = np.where(y_pred >= 0.5, 1, 0)\n",
    "  output = le.inverse_transform(y_pred[0])[0]\n",
    "  return output"
   ]
  },
  {
   "cell_type": "code",
   "execution_count": 21,
   "id": "f5446bf4",
   "metadata": {
    "execution": {
     "iopub.execute_input": "2023-03-15T10:50:13.657415Z",
     "iopub.status.busy": "2023-03-15T10:50:13.656198Z",
     "iopub.status.idle": "2023-03-15T10:50:13.734710Z",
     "shell.execute_reply": "2023-03-15T10:50:13.733324Z"
    },
    "papermill": {
     "duration": 0.124406,
     "end_time": "2023-03-15T10:50:13.737494",
     "exception": false,
     "start_time": "2023-03-15T10:50:13.613088",
     "status": "completed"
    },
    "tags": []
   },
   "outputs": [
    {
     "name": "stdout",
     "output_type": "stream",
     "text": [
      "1/1 [==============================] - 0s 23ms/step\n"
     ]
    },
    {
     "data": {
      "text/plain": [
       "'not spam'"
      ]
     },
     "execution_count": 21,
     "metadata": {},
     "output_type": "execute_result"
    }
   ],
   "source": [
    "predict_sms(sms1)"
   ]
  },
  {
   "cell_type": "code",
   "execution_count": 22,
   "id": "f6ed8e11",
   "metadata": {
    "execution": {
     "iopub.execute_input": "2023-03-15T10:50:13.823008Z",
     "iopub.status.busy": "2023-03-15T10:50:13.822577Z",
     "iopub.status.idle": "2023-03-15T10:50:13.902085Z",
     "shell.execute_reply": "2023-03-15T10:50:13.900690Z"
    },
    "papermill": {
     "duration": 0.125093,
     "end_time": "2023-03-15T10:50:13.904541",
     "exception": false,
     "start_time": "2023-03-15T10:50:13.779448",
     "status": "completed"
    },
    "tags": []
   },
   "outputs": [
    {
     "name": "stdout",
     "output_type": "stream",
     "text": [
      "1/1 [==============================] - 0s 22ms/step\n"
     ]
    },
    {
     "data": {
      "text/plain": [
       "'spam'"
      ]
     },
     "execution_count": 22,
     "metadata": {},
     "output_type": "execute_result"
    }
   ],
   "source": [
    "predict_sms(sms2)"
   ]
  }
 ],
 "metadata": {
  "kernelspec": {
   "display_name": "Python 3",
   "language": "python",
   "name": "python3"
  },
  "language_info": {
   "codemirror_mode": {
    "name": "ipython",
    "version": 3
   },
   "file_extension": ".py",
   "mimetype": "text/x-python",
   "name": "python",
   "nbconvert_exporter": "python",
   "pygments_lexer": "ipython3",
   "version": "3.7.12"
  },
  "papermill": {
   "default_parameters": {},
   "duration": 57.824006,
   "end_time": "2023-03-15T10:50:16.683718",
   "environment_variables": {},
   "exception": null,
   "input_path": "__notebook__.ipynb",
   "output_path": "__notebook__.ipynb",
   "parameters": {},
   "start_time": "2023-03-15T10:49:18.859712",
   "version": "2.4.0"
  }
 },
 "nbformat": 4,
 "nbformat_minor": 5
}
